{
 "cells": [
  {
   "cell_type": "markdown",
   "metadata": {},
   "source": [
    "### Imports"
   ]
  },
  {
   "cell_type": "code",
   "execution_count": 25,
   "metadata": {},
   "outputs": [],
   "source": [
    "import numpy as np\n",
    "import matplotlib.pyplot as plt\n",
    "from matplotlib.colors import LightSource\n",
    "from mpl_toolkits import mplot3d\n",
    "from mpl_toolkits.mplot3d.axes3d import Axes3D\n",
    "from qiskit.circuit import QuantumCircuit\n",
    "from qiskit.quantum_info import SparsePauliOp\n",
    "from qiskit.quantum_info.states import Statevector\n",
    "from time import sleep"
   ]
  },
  {
   "cell_type": "markdown",
   "metadata": {},
   "source": [
    "## Config"
   ]
  },
  {
   "cell_type": "markdown",
   "metadata": {},
   "source": [
    "### Inline vs rotatable views\n",
    "If you want to be able to rorate the figures, run the following command.\n",
    "If you just want to have them inline, do not run it."
   ]
  },
  {
   "cell_type": "code",
   "execution_count": 26,
   "metadata": {},
   "outputs": [],
   "source": [
    "%matplotlib qt\n",
    "# %matplotlib inline"
   ]
  },
  {
   "cell_type": "code",
   "execution_count": 27,
   "metadata": {},
   "outputs": [],
   "source": [
    "from ipynb.fs.full.ansatz import gen_expressive_ansatz_1qubit\n",
    "from mub_state_gen import generate_mub_state_circ\n",
    "from experiment_utils import run_and_record_landscape, run_and_record_vqe_expressive_1q\n",
    "from landscape import TotalLandscapeResult, calculate_energy_landscape"
   ]
  },
  {
   "cell_type": "code",
   "execution_count": 28,
   "metadata": {},
   "outputs": [],
   "source": [
    "def sphere_to_cart(theta, phi) -> tuple[np.float64, np.float64, np.float64]:\n",
    "    x = np.cos(theta) * np.sin(phi)\n",
    "    y = np.sin(theta) * np.sin(phi)\n",
    "    z = np.cos(phi)\n",
    "    return x,y,z"
   ]
  },
  {
   "cell_type": "markdown",
   "metadata": {},
   "source": [
    "### Draw regular sphere + line Axes"
   ]
  },
  {
   "cell_type": "code",
   "execution_count": 29,
   "metadata": {},
   "outputs": [],
   "source": [
    "def draw_bloch():\n",
    "    thetas = np.linspace(0, 2*np.pi, 100)\n",
    "    phis = np.linspace(0, np.pi, 100)\n",
    "\n",
    "    x = np.outer(np.cos(thetas), np.sin(phis))\n",
    "    y = np.outer(np.sin(thetas), np.sin(phis))\n",
    "    z = np.outer(np.ones(np.size(thetas)), np.cos(phis))\n",
    "\n",
    "    # coords = [sphere_to_cart(*point) for point in zip(thetas, phis)]\n",
    "    # xs, ys, zs = (np.array(l) for l in zip(*coords))\n",
    "    # print(type(xs))\n",
    "    # ax.plot_surface(xs, ys, zs)\n",
    "\n",
    "    ax = plt.axes(projection=\"3d\")\n",
    "    plt.grid(False)\n",
    "    plt.axis('off')\n",
    "    \n",
    "    # # this is used to set the graph color to blue\n",
    "    # blue = np.array([0., 0., 1.])\n",
    "    # rgb = np.tile(blue, (z.shape[0], z.shape[1], 1))\n",
    "    \n",
    "    ls = LightSource()\n",
    "    illuminated_surface = ls.shade(z, cmap=plt.get_cmap(\"Blues\"))\n",
    "    \n",
    "    ax.plot_surface(x,y,z, alpha=0.15, linewidth=0, antialiased=True, facecolors=illuminated_surface)\n",
    "    # ax.plot_surface(x,y,z, alpha=0.15, linewidth=0, antialiased=True, color=\"Grey\")\n",
    "\n",
    "    L=1.5\n",
    "\n",
    "    # Axes\n",
    "    ax.set_xlim(-L,L)\n",
    "    ax.set_ylim(-L,L)\n",
    "    ax.set_zlim(-L,L)\n",
    "    # ax.set_ylabel('Y axis')\n",
    "    # ax.set_zlabel('Z axis')\n",
    "\n",
    "    ax.quiver(-1.5,0,0, 3,0,0, arrow_length_ratio=0.1)\n",
    "    ax.quiver(0,-1.5,0, 0,3,0, arrow_length_ratio=0.1)\n",
    "    ax.quiver(0,0,-1.5, 0,0,3, arrow_length_ratio=0.1)\n",
    "    \n",
    "    ax.text(1.5,0,0,'X axis')\n",
    "    ax.text(0,1.5,0,'Y axis')\n",
    "    ax.text(0,0,1.5,'Z axis')\n",
    "    \n",
    "    \n",
    "    # Reference Points\n",
    "    ax.text(0,0,1,r\"$|0\\rangle$\")\n",
    "    ax.text(0,0,-1,r\"$|1\\rangle$\")\n",
    "    ax.text(1,0,0,r\"$|+\\rangle$\")\n",
    "    ax.text(-1,0,0,r\"$|-\\rangle$\")\n",
    "    ax.text(0,1,0,r\"$|+_{i}\\rangle$\")\n",
    "    ax.text(0,-1,0,r\"$|-_{i}\\rangle$\")\n",
    "    return ax\n",
    "    # plt.show()\n"
   ]
  },
  {
   "cell_type": "markdown",
   "metadata": {},
   "source": [
    "### From State to Bloch Sphere polar coords"
   ]
  },
  {
   "cell_type": "code",
   "execution_count": 30,
   "metadata": {},
   "outputs": [],
   "source": [
    "def vec_to_sphericals(vec: np.array) -> tuple[np.float64, np.float64]:\n",
    "    # vec = state.data\n",
    "    alpha, beta = vec[0], vec[1]\n",
    "    real_alpha = np.abs(alpha)\n",
    "    phi = 2 * np.arccos(real_alpha)\n",
    "    theta = np.angle(beta) - np.angle(alpha)\n",
    "    return theta, phi\n",
    "    \n",
    "def qubit_to_sphericals(state: Statevector) -> tuple[np.float64, np.float64]:\n",
    "    return vec_to_sphericals(state.data)"
   ]
  },
  {
   "cell_type": "markdown",
   "metadata": {},
   "source": [
    "### draw onto the sphere"
   ]
  },
  {
   "cell_type": "code",
   "execution_count": 68,
   "metadata": {},
   "outputs": [],
   "source": [
    "def add_to_sphere(ax: Axes3D, theta, phi, color=\"Blue\", size=10):\n",
    "    x,y,z = sphere_to_cart(theta, phi)\n",
    "    ax.scatter3D([x], [y], [z], color=color, s=size)"
   ]
  },
  {
   "cell_type": "markdown",
   "metadata": {},
   "source": [
    "### Example - MUB state gen. and drawing"
   ]
  },
  {
   "cell_type": "code",
   "execution_count": 69,
   "metadata": {},
   "outputs": [],
   "source": [
    "state_0 = Statevector.from_instruction(generate_mub_state_circ(0,0,1,[0]))\n",
    "ax = draw_bloch()\n",
    "add_to_sphere(ax, *qubit_to_sphericals(state_0))\n",
    "state_plusi = Statevector.from_instruction(generate_mub_state_circ(0,2,1,[0]))\n",
    "add_to_sphere(ax, *qubit_to_sphericals(state_plusi), color=\"RED\")\n"
   ]
  },
  {
   "cell_type": "markdown",
   "metadata": {},
   "source": [
    "## Landscaping"
   ]
  },
  {
   "cell_type": "code",
   "execution_count": 70,
   "metadata": {},
   "outputs": [],
   "source": [
    "def value_to_color(val: np.float64):\n",
    "    return \"Blue\"\n",
    "\n",
    "def draw_MUB_values(ax: Axes3D, res: TotalLandscapeResult):\n",
    "    for mub_res in res.mub_results:\n",
    "        for state_res in mub_res[0]:\n",
    "            color = value_to_color(state_res.value)\n",
    "            state = Statevector.from_instruction(state_res.state_circuit)\n",
    "            add_to_sphere(ax, *qubit_to_sphericals(state))\n",
    "            \n"
   ]
  },
  {
   "cell_type": "markdown",
   "metadata": {},
   "source": [
    "## VQE Visualization"
   ]
  },
  {
   "cell_type": "code",
   "execution_count": 71,
   "metadata": {},
   "outputs": [],
   "source": [
    "def ansatz_params_to_sphericals(ansatz_params: list[np.ndarray]) -> list[tuple[np.float64, np.float64]]:\n",
    "    sphericals = []\n",
    "    for iter_params in ansatz_params:\n",
    "        circ = gen_expressive_ansatz_1qubit()\n",
    "        circ.assign_parameters(iter_params, inplace=True)\n",
    "        state = Statevector.from_instruction(circ)\n",
    "        sphericals.append(qubit_to_sphericals(state))\n",
    "    return sphericals"
   ]
  },
  {
   "cell_type": "markdown",
   "metadata": {},
   "source": [
    "### Auxiliary: locate optimal value"
   ]
  },
  {
   "cell_type": "code",
   "execution_count": 73,
   "metadata": {},
   "outputs": [],
   "source": [
    "def find_ground_state(ham: SparsePauliOp):\n",
    "    vals, vecs = np.linalg.eig(ham.to_matrix())\n",
    "    min_val_idx = vals.argmin()\n",
    "    ground_state = vecs[:,min_val_idx]\n",
    "    if ground_state[0].real < 0:\n",
    "        ground_state *= -1\n",
    "    return ground_state\n",
    "\n",
    "def draw_optimal_point(ham: SparsePauliOp, ax: Axes3D):\n",
    "    ground_state = find_ground_state(ham)\n",
    "    spherical = vec_to_sphericals(ground_state)\n",
    "    add_to_sphere(ax, *spherical, color='red', size=50)"
   ]
  },
  {
   "cell_type": "markdown",
   "metadata": {},
   "source": [
    "## All together, now!"
   ]
  },
  {
   "cell_type": "code",
   "execution_count": 74,
   "metadata": {},
   "outputs": [
    {
     "name": "stdout",
     "output_type": "stream",
     "text": [
      "attempting all MUB states over the operator SparsePauliOp(['I', 'X', 'Y', 'Z'],\n",
      "              coeffs=[0. +0.j, 0.5+0.j, 0. +0.j, 0.5+0.j])\n",
      "Energy Landscape:\n",
      "Energy Histogram:\n",
      "The operator SparsePauliOp(['I', 'X', 'Y', 'Z'],\n",
      "              coeffs=[0. +0.j, 0.5+0.j, 0. +0.j, 0.5+0.j]) has the exact value -0.7071067811865475.\n",
      "Now trying to reach the value from different MUB points.\n",
      "running from state of index subset 0, MUB 0, state 0 and value 0.5\n",
      "10: -0.49652232221547965\n",
      "20: -0.7068828443551921\n",
      "30: -0.7071023684707732\n",
      "40: -0.707106779715569\n",
      "50: -0.707106780980516\n",
      "running from state of index subset 0, MUB 0, state 1 and value -0.5\n",
      "10: -0.686511268820321\n",
      "20: -0.7070909335708759\n",
      "30: -0.7071059289106745\n",
      "40: -0.7071067044800836\n",
      "50: -0.7071067793603923\n",
      "running from state of index subset 0, MUB 1, state 0 and value 0.5\n",
      "10: -0.7044153001313705\n",
      "20: -0.7053105341000518\n",
      "30: -0.7070020692443535\n",
      "40: -0.70710651009581\n",
      "50: -0.707106777569363\n",
      "running from state of index subset 0, MUB 1, state 1 and value -0.5\n",
      "10: -0.6823359490348516\n",
      "20: -0.7067164800689472\n",
      "30: -0.7071057941056362\n",
      "40: -0.7071067706319675\n",
      "50: -0.7071067808831633\n",
      "running from state of index subset 0, MUB 2, state 0 and value 0.0\n",
      "10: -0.7017632016843641\n",
      "20: -0.7070139482948605\n",
      "30: -0.7071063664744615\n",
      "40: -0.7071067634145581\n",
      "50: -0.7071067811214279\n",
      "running from state of index subset 0, MUB 2, state 1 and value 0.0\n",
      "10: -0.4988107307778951\n",
      "20: -0.6694097310458581\n",
      "30: -0.707054214355981\n",
      "40: -0.7071055128536932\n",
      "50: -0.707106777805182\n"
     ]
    }
   ],
   "source": [
    "ham = SparsePauliOp(data= ['I', 'X', 'Y', 'Z'], coeffs= [0, 0.5, 0, 0.5])\n",
    "results = run_and_record_landscape(ham, 1)\n",
    "draw_MUB_values(ax, results)\n",
    "vqe_results = run_and_record_vqe_expressive_1q(results)\n",
    "state_names = [r\"$|0\\rangle$\", r\"$|1\\rangle$\", r\"$|+\\rangle$\", r\"$|-\\rangle$\", r\"$|+_{i}\\rangle$\", r\"$|-_{i}\\rangle$\"]\n",
    "def foo(vqe_result, state_name):\n",
    "    ax = draw_bloch()\n",
    "    # add target point\n",
    "    draw_optimal_point(ham, ax)\n",
    "    thetas_as_sphericals = ansatz_params_to_sphericals(vqe_result.thetas_list)\n",
    "    thetas_as_carts = [sphere_to_cart(*t) for t in thetas_as_sphericals]\n",
    "    xs, ys, zs = list(zip(*thetas_as_carts))\n",
    "    ax.plot3D(xs, ys, zs, alpha=0.3)\n",
    "    ax.scatter3D(xs, ys, zs, c=list(range(len(xs))), cmap='inferno')\n",
    "    ax.set_title(f\"run from state {state_name}\")\n",
    "    plt.show()\n",
    "\n",
    "# for vqe_result, state_name in zip(vqe_results, state_names):"
   ]
  },
  {
   "cell_type": "code",
   "execution_count": 75,
   "metadata": {},
   "outputs": [],
   "source": [
    "foo(vqe_results[0], state_names[0])"
   ]
  },
  {
   "cell_type": "code",
   "execution_count": 66,
   "metadata": {},
   "outputs": [],
   "source": [
    "foo(vqe_results[1], state_names[1])"
   ]
  },
  {
   "cell_type": "code",
   "execution_count": 50,
   "metadata": {},
   "outputs": [],
   "source": [
    "foo(vqe_results[2], state_names[2])"
   ]
  },
  {
   "cell_type": "code",
   "execution_count": null,
   "metadata": {},
   "outputs": [],
   "source": []
  }
 ],
 "metadata": {
  "kernelspec": {
   "display_name": "mub",
   "language": "python",
   "name": "python3"
  },
  "language_info": {
   "codemirror_mode": {
    "name": "ipython",
    "version": 3
   },
   "file_extension": ".py",
   "mimetype": "text/x-python",
   "name": "python",
   "nbconvert_exporter": "python",
   "pygments_lexer": "ipython3",
   "version": "3.12.0"
  }
 },
 "nbformat": 4,
 "nbformat_minor": 2
}
