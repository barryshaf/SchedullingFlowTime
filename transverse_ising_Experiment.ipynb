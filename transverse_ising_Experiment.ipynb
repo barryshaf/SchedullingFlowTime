{
 "cells": [
  {
   "cell_type": "markdown",
   "metadata": {},
   "source": [
    "## Imports"
   ]
  },
  {
   "cell_type": "code",
   "execution_count": 1,
   "metadata": {},
   "outputs": [
    {
     "name": "stderr",
     "output_type": "stream",
     "text": [
      "C:\\Users\\Ittay\\AppData\\Local\\Temp\\ipykernel_15420\\433787005.py:6: DeprecationWarning: ``qiskit.algorithms`` has been migrated to an independent package: https://github.com/qiskit-community/qiskit-algorithms. The ``qiskit.algorithms`` import path is deprecated as of qiskit-terra 0.25.0 and will be removed no earlier than 3 months after the release date. Please run ``pip install qiskit_algorithms`` and use ``import qiskit_algorithms`` instead.\n",
      "  from qiskit.algorithms.minimum_eigensolvers import VQE\n"
     ]
    }
   ],
   "source": [
    "from qiskit.circuit import QuantumCircuit\n",
    "from qiskit.circuit.instruction import Instruction\n",
    "from qiskit.circuit.library import TwoLocal\n",
    "from qiskit.quantum_info import SparsePauliOp\n",
    "from qiskit.quantum_info.states import Statevector\n",
    "from qiskit.algorithms.minimum_eigensolvers import VQE\n",
    "from qiskit.algorithms.optimizers import COBYLA\n",
    "from qiskit.primitives import Estimator\n",
    "\n",
    "import numpy as np\n",
    "from numpy.linalg import eig, norm\n",
    "import random\n",
    "import matplotlib.pyplot as plt\n",
    "from matplotlib.patches import Rectangle\n",
    "from itertools import combinations, chain\n",
    "from heapq import nsmallest"
   ]
  },
  {
   "cell_type": "code",
   "execution_count": 2,
   "metadata": {},
   "outputs": [],
   "source": [
    "NUM_STATES_2_QUBITS = 4\n",
    "NUM_MUBS_2_QUBITS = 5\n",
    "NUM_STATES_3_QUITS = 8\n",
    "NUM_MUBS_3_QUBTIS = 9"
   ]
  },
  {
   "cell_type": "markdown",
   "metadata": {},
   "source": [
    "## Generate transverse-field Ising operator\n",
    "\n",
    "I started by using the qiskit_nature.second_q module. That proved to be a mistake once I want to move to qubits,\n",
    "because their move is not trivial.\n",
    "\n",
    "The following is an implementation of the operators in SparsePauliOp form directly."
   ]
  },
  {
   "cell_type": "code",
   "execution_count": 3,
   "metadata": {},
   "outputs": [],
   "source": [
    "def gen_trans_ising_op(num_qubits: int, zz_coeff: float, x_coeff: float, toric_bounds: bool=False) -> SparsePauliOp:\n",
    "    terms = []\n",
    "    coeffs = []\n",
    "    # Adding the ZZ terms\n",
    "    for i in range(num_qubits if toric_bounds else num_qubits-1):\n",
    "        curr_term = ['I'] * num_qubits\n",
    "        curr_term[i] = 'Z'\n",
    "        curr_term[(i+1)%num_qubits] = 'Z'\n",
    "        terms.append(''.join(curr_term))\n",
    "        coeffs.append(zz_coeff)\n",
    "    # Adding the X terms\n",
    "    for i in range(num_qubits):\n",
    "        curr_term = ['I'] * num_qubits\n",
    "        curr_term[i] = 'X'\n",
    "        terms.append(''.join(curr_term))\n",
    "        coeffs.append(x_coeff)\n",
    "    \n",
    "    return SparsePauliOp(terms, coeffs)"
   ]
  },
  {
   "cell_type": "markdown",
   "metadata": {},
   "source": [
    "## Get exact answers\n",
    "\n",
    "### A question of goals\n",
    "In the origianl formulation, the goal of VQE is to find the lowest eigenvalue.\n",
    "The tricky part is that numpy does not guarantee any ordering of the eigenvalues and eigenvectors. So that's on us."
   ]
  },
  {
   "cell_type": "code",
   "execution_count": 4,
   "metadata": {},
   "outputs": [],
   "source": [
    "def get_exact_ground(op: SparsePauliOp) -> np.float64:\n",
    "    eig_res = eig(op.to_matrix())\n",
    "    return min(eig_res.eigenvalues).real"
   ]
  },
  {
   "cell_type": "markdown",
   "metadata": {},
   "source": [
    "## Get expectation value over specific state-vector"
   ]
  },
  {
   "cell_type": "code",
   "execution_count": 5,
   "metadata": {},
   "outputs": [],
   "source": [
    "def get_expectation_value(state: Statevector, op: SparsePauliOp) -> np.float64:\n",
    "    return np.round(state.expectation_value(op).real, 10)"
   ]
  },
  {
   "cell_type": "markdown",
   "metadata": {},
   "source": [
    "## Generate MUB statevectors\n",
    "This is done using Dekel's current notebook code.\n",
    "The code is, for lack of a better word, bad.\n",
    "I will attempt to prepare it in a cleaner and more robust way.\n",
    "But for now, let's check that the most basic way still works."
   ]
  },
  {
   "cell_type": "code",
   "execution_count": 6,
   "metadata": {},
   "outputs": [],
   "source": [
    "# Adds Y-Hadamard gate on qubit q in circ\n",
    "def yh(circ, q):\n",
    "    circ.h(q)\n",
    "    circ.s(q)\n",
    "\n",
    "def prep_MUB(circ, state_idx, mub_idx, qubit_subset = [0,1]):\n",
    "    assert len(qubit_subset) == 2\n",
    "    assert (0 <= state_idx <= 3)\n",
    "    assert (0 <= mub_idx <= 4)\n",
    "    # state_idx chooses the state in the basis (MUB)\n",
    "    if state_idx == 1:\n",
    "        circ.x(qubit_subset[0])\n",
    "    elif state_idx == 2:\n",
    "        circ.x(qubit_subset[1])\n",
    "    elif state_idx == 3:\n",
    "        circ.x(qubit_subset[0])\n",
    "        circ.x(qubit_subset[1])\n",
    "        \n",
    "    # mub_idx chooses the basis (MUB) itself\n",
    "    if mub_idx == 1:\n",
    "        circ.h(qubit_subset[0])\n",
    "        circ.h(qubit_subset[1])\n",
    "    elif mub_idx == 2:\n",
    "        circ.h(qubit_subset[0])\n",
    "        yh(circ,qubit_subset[1])\n",
    "        circ.cz(qubit_subset[0], qubit_subset[1])\n",
    "    elif mub_idx == 3:\n",
    "        yh(circ,qubit_subset[0])\n",
    "        yh(circ,qubit_subset[1])\n",
    "    elif mub_idx == 4:\n",
    "        yh(circ,qubit_subset[0])\n",
    "        circ.h(qubit_subset[1])\n",
    "        circ.cz(qubit_subset[0], qubit_subset[1])\n",
    "        \n",
    "def prep_MUB3(circ, state_idx, mub_idx, qubit_subset = [0,1,2]):\n",
    "    # state_idx chooses the state in the basis (MUB)\n",
    "    if state_idx == 1:\n",
    "        circ.x(qubit_subset[0])\n",
    "    elif state_idx == 2:\n",
    "        circ.x(qubit_subset[1])\n",
    "    elif state_idx == 3:\n",
    "        circ.x(qubit_subset[0])\n",
    "        circ.x(qubit_subset[1])\n",
    "    elif state_idx == 4:\n",
    "        circ.x(qubit_subset[2])\n",
    "    elif state_idx == 5:\n",
    "        circ.x(qubit_subset[0])\n",
    "        circ.x(qubit_subset[2])\n",
    "    elif state_idx == 6:\n",
    "        circ.x(qubit_subset[1])\n",
    "        circ.x(qubit_subset[2])\n",
    "    elif state_idx == 7:\n",
    "        circ.x(qubit_subset[0])\n",
    "        circ.x(qubit_subset[1])\n",
    "        circ.x(qubit_subset[2])\n",
    "    \n",
    "    # mub_idx chooses the basis (MUB) itself\n",
    "    if mub_idx == 1:\n",
    "        circ.h(qubit_subset[0])\n",
    "        circ.h(qubit_subset[1])\n",
    "        circ.h(qubit_subset[2])\n",
    "    elif mub_idx == 2:\n",
    "        yh(circ, qubit_subset[0])\n",
    "        yh(circ, qubit_subset[1])\n",
    "        yh(circ, qubit_subset[2])\n",
    "    elif mub_idx == 3:\n",
    "        yh(circ, qubit_subset[0])\n",
    "        circ.h(qubit_subset[1])\n",
    "        circ.h(qubit_subset[2])\n",
    "        circ.cz(qubit_subset[1], qubit_subset[2])\n",
    "        circ.cz(qubit_subset[0], qubit_subset[1])\n",
    "    elif mub_idx == 4:\n",
    "        circ.h(qubit_subset[0])\n",
    "        yh(circ, qubit_subset[1])\n",
    "        circ.h(qubit_subset[2])\n",
    "        circ.cz(qubit_subset[1], qubit_subset[2])\n",
    "        circ.cz(qubit_subset[0], qubit_subset[2])\n",
    "    elif mub_idx == 5:\n",
    "        circ.h(qubit_subset[0])\n",
    "        circ.h(qubit_subset[1])\n",
    "        yh(circ, qubit_subset[2])\n",
    "        circ.cz(qubit_subset[0], qubit_subset[1])\n",
    "        circ.cz(qubit_subset[0], qubit_subset[2])\n",
    "    elif mub_idx == 6:\n",
    "        yh(circ, qubit_subset[0])\n",
    "        yh(circ, qubit_subset[1])\n",
    "        circ.h(qubit_subset[2])\n",
    "        circ.cz(qubit_subset[0], qubit_subset[1])\n",
    "        circ.cz(qubit_subset[0], qubit_subset[2])\n",
    "    elif mub_idx == 7:\n",
    "        yh(circ, qubit_subset[0])\n",
    "        circ.h(qubit_subset[1])\n",
    "        yh(circ, qubit_subset[2])\n",
    "        circ.cz(qubit_subset[1], qubit_subset[2])\n",
    "        circ.cz(qubit_subset[0], qubit_subset[2])\n",
    "    elif mub_idx == 8:\n",
    "        circ.h(qubit_subset[0])\n",
    "        yh(circ, qubit_subset[1])\n",
    "        yh(circ, qubit_subset[2])\n",
    "        circ.cz(qubit_subset[0], qubit_subset[1])\n",
    "        circ.cz(qubit_subset[1], qubit_subset[2])"
   ]
  },
  {
   "cell_type": "markdown",
   "metadata": {},
   "source": [
    "The field `state_idx` chooses the state *inside* the MUB.  \n",
    "The field `mub_idx` chooses the basis.   \n",
    "The field `qubit_subset` chooses the subset of qubit_subset over which to generate the MUB state.   "
   ]
  },
  {
   "cell_type": "code",
   "execution_count": 7,
   "metadata": {},
   "outputs": [],
   "source": [
    "def generate_mub_state(state_idx: int, mub_idx: int, num_qubits: int, qubit_subset: list[int],\n",
    "                        plus_for_non_mub=False) -> tuple[QuantumCircuit, np.ndarray]:\n",
    "    circuit = QuantumCircuit(num_qubits)\n",
    "    if len(qubit_subset) == 2:\n",
    "        prep_MUB(circuit, state_idx, mub_idx, qubit_subset)\n",
    "    elif len(qubit_subset) == 3:\n",
    "        prep_MUB3(circuit, state_idx, mub_idx, qubit_subset)\n",
    "    else:\n",
    "        raise Exception(\"We do not support this size of MUB states.\")\n",
    "    if plus_for_non_mub:\n",
    "        for qubit in range(num_qubits):\n",
    "            if qubit not in qubit_subset:\n",
    "                circuit.h(qubit)\n",
    "    state = Statevector.from_instruction(circuit)\n",
    "    return circuit, state"
   ]
  },
  {
   "cell_type": "markdown",
   "metadata": {},
   "source": [
    "# Attempt all states over a hamiltonian"
   ]
  },
  {
   "cell_type": "markdown",
   "metadata": {},
   "source": [
    "## Result heirarchy\n",
    "The list heirarchy is defined by the following indexes, in this order:\n",
    "1. MUB used.\n",
    "2. Subset of qubits on which this MUB was applied.\n",
    "3. The specific MUB states."
   ]
  },
  {
   "cell_type": "code",
   "execution_count": 8,
   "metadata": {},
   "outputs": [],
   "source": [
    "def generate_all_subsets(n_mub_qubits: int, n_qubits: int) -> list[tuple[int]]:\n",
    "    return list(combinations(np.linspace(0, n_qubits-1, n_qubits, dtype=int), n_mub_qubits))"
   ]
  },
  {
   "cell_type": "code",
   "execution_count": 9,
   "metadata": {},
   "outputs": [],
   "source": [
    "ResultTuple = tuple[QuantumCircuit, np.float64]\n",
    "LandscapeResultsType = list[list[list[ResultTuple]]]\n",
    "\n",
    "def calculate_energy_landscape(op: SparsePauliOp, n_mub_qubits: int, subset_list: list[tuple],\n",
    "                                plus_for_non_mub=False) -> LandscapeResultsType:\n",
    "    num_states = num_mubs = 0\n",
    "    if n_mub_qubits == 2:\n",
    "        num_states = NUM_STATES_2_QUBITS\n",
    "        num_mubs = NUM_MUBS_2_QUBITS\n",
    "    elif n_mub_qubits == 3:\n",
    "        num_states = NUM_STATES_3_QUITS\n",
    "        num_mubs = NUM_MUBS_3_QUBTIS\n",
    "    else:\n",
    "        raise Exception(\"We do not support this size of MUB states.\")\n",
    "\n",
    "    total_res = []\n",
    "    for mub_idx in range(num_mubs):\n",
    "        mub_res = []\n",
    "        for subset in subset_list:\n",
    "            subset_res = []\n",
    "            for state_idx in range(num_states):\n",
    "                circuit, state = generate_mub_state(state_idx, mub_idx, op.num_qubits, subset, plus_for_non_mub)\n",
    "                res = get_expectation_value(state, op)\n",
    "                subset_res.append((circuit, res))\n",
    "            mub_res.append(subset_res)\n",
    "        total_res.append(mub_res)\n",
    "    return total_res\n",
    "\n",
    "def flatten_results(results: LandscapeResultsType) -> list[ResultTuple]:\n",
    "    flat_res = []\n",
    "    for mub_res in results:\n",
    "        for subset_res in mub_res:\n",
    "            flat_res += subset_res\n",
    "    return flat_res\n",
    "\n",
    "def flatten_energies(results: LandscapeResultsType) -> list[np.float64]:\n",
    "    flat_res = flatten_results(results)\n",
    "    return [energy for circuit, energy in flat_res]"
   ]
  },
  {
   "cell_type": "markdown",
   "metadata": {},
   "source": [
    "### Result Selection Code"
   ]
  },
  {
   "cell_type": "code",
   "execution_count": 10,
   "metadata": {},
   "outputs": [],
   "source": [
    "def find_k_best_results(results: LandscapeResultsType, k: int) -> list[ResultTuple]:\n",
    "    results = flatten_results(results)\n",
    "    return sorted(results, key=(lambda x: x[1]))[:k]"
   ]
  },
  {
   "cell_type": "markdown",
   "metadata": {},
   "source": [
    "## Graph display code"
   ]
  },
  {
   "cell_type": "code",
   "execution_count": 11,
   "metadata": {},
   "outputs": [],
   "source": [
    "FIG_SIZE = (8,5)\n",
    "def display_energy_landscape(energy_landscape_results: LandscapeResultsType, exact_result: np.float64, graph_title=\"Energy landscape\",\n",
    "                                show_legend=False):\n",
    "    fig = plt.figure(figsize=FIG_SIZE)\n",
    "    idx_counter = 0\n",
    "    basis_size = len(results[0][0])\n",
    "    mub_results_size = basis_size * len(results[0])\n",
    "    for i, mub_res in enumerate(results):\n",
    "        for j, subset_res in enumerate(mub_res):\n",
    "            energies_only = [energy for circuit, energy in subset_res]\n",
    "            plt.plot(list(range(idx_counter, idx_counter+basis_size)), energies_only, 'o', lw=0.4, label=f\"MUB {i}, subset {j}\")\n",
    "            idx_counter += basis_size\n",
    "        # Show separation between different MUBs\n",
    "        plt.axvspan(idx_counter - mub_results_size, idx_counter, alpha=0.1, color=f\"C{i}\")\n",
    "    # Show exact result\n",
    "    plt.axhline(y=exact_result, lw=0.6, color='red')\n",
    "    # Show comp. basis specifically\n",
    "    xmin, xmax, ymin, ymax = plt.axis()\n",
    "    plt.text(x=basis_size*0.25, y=ymin + (ymax-ymin)*0.8, s='COMP', fontsize=10)\n",
    "    \n",
    "    plt.xlabel(\"MUB state index\")\n",
    "    plt.ylabel(\"Cost function result\")\n",
    "    if show_legend:\n",
    "        plt.legend(loc='center left', bbox_to_anchor=(1, 0.5))\n",
    "    plt.title(graph_title)\n",
    "    plt.show()\n",
    "\n",
    "def display_energy_histogram(energy_landscape_results: LandscapeResultsType, exact_result: np.float64, bins=100,\n",
    "                                graph_title=\"Energy landscape histogram\", show_legend=False):\n",
    "    fig = plt.figure(figsize=FIG_SIZE)\n",
    "    plt.locator_params(axis='x', nbins=min(bins//2, 30), tight=True)\n",
    "    plt.xticks(fontsize=10, rotation=60)\n",
    "    plt.locator_params(axis='y', nbins=10)\n",
    "\n",
    "    flat_results = flatten_energies(energy_landscape_results)\n",
    "    plt.hist(flat_results, bins)\n",
    "    # Show exact result\n",
    "    plt.axvline(x=exact_result, lw=1, color='red')\n",
    "\n",
    "    plt.xlabel(\"Cost function result\")\n",
    "    plt.ylabel(\"number of results\")\n",
    "    if show_legend:\n",
    "        plt.legend(loc='center left', bbox_to_anchor=(1, 0.5))\n",
    "    plt.title(graph_title)\n",
    "    plt.show()"
   ]
  },
  {
   "cell_type": "markdown",
   "metadata": {},
   "source": [
    "## Example: generate operator, calculate landscape, show results"
   ]
  },
  {
   "cell_type": "code",
   "execution_count": 12,
   "metadata": {},
   "outputs": [
    {
     "name": "stdout",
     "output_type": "stream",
     "text": [
      "attempting all MUB states over the operator SparsePauliOp(['ZZ', 'XI', 'IX'],\n",
      "              coeffs=[0.39638934+0.j, 0.70621845+0.j, 0.70621845+0.j])\n"
     ]
    }
   ],
   "source": [
    "n_qubits = 2\n",
    "n_mub_qubits = 2\n",
    "\n",
    "zz_coeff = random.uniform(0,1)\n",
    "x_coeff = random.uniform(0,1)\n",
    "op = gen_trans_ising_op(n_qubits, zz_coeff, x_coeff)\n",
    "print(f\"attempting all MUB states over the operator {op}\")\n",
    "results = calculate_energy_landscape(op, n_mub_qubits, generate_all_subsets(n_mub_qubits, n_qubits))\n",
    "exact_result = get_exact_ground(op)"
   ]
  },
  {
   "cell_type": "code",
   "execution_count": 13,
   "metadata": {},
   "outputs": [
    {
     "data": {
      "image/png": "[encoded data removed]",
      "text/plain": [
       "<Figure size 800x500 with 1 Axes>"
      ]
     },
     "metadata": {},
     "output_type": "display_data"
    }
   ],
   "source": [
    "display_energy_histogram(results, exact_result, graph_title=f\"{n_qubits} qubits, {n_mub_qubits}-qubit MUBS, transverse-ising.\", bins=200)"
   ]
  },
  {
   "cell_type": "code",
   "execution_count": 14,
   "metadata": {},
   "outputs": [
    {
     "data": {
      "image/png": "[encoded data removed]",
      "text/plain": [
       "<Figure size 800x500 with 1 Axes>"
      ]
     },
     "metadata": {},
     "output_type": "display_data"
    }
   ],
   "source": [
    "display_energy_landscape(results, exact_result, graph_title=f\"{n_qubits} qubits, {n_mub_qubits}-qubit MUBS, transverse-ising.\")"
   ]
  },
  {
   "cell_type": "markdown",
   "metadata": {},
   "source": [
    "## Convincing results\n",
    "What results dfo I want o show Tal and Dekel so they'll be convicned that what I did here shows anything?\n",
    "\n",
    "1.  Show that when genrating 3-qubit full-MUB states using Trasnverse Ising, the best starting points are *clearly* not in the comp. basis.\n",
    "    Do so by giving 2-3 examples of such generated Hamiltonians.\n",
    "\n",
    "2.  Show that the rest of the results bunch around a VERY specific area in the cost, perhaps indicating a BP.\n",
    "    Another, more pessimistic way to see this is that MUBs only give an advantage in a very small number of cases.\n",
    "    Use the same graphs.\n",
    "\n",
    "3.  Show that when we do Half-MUBs, the answers drastically drift away from the correct result. However, non-comps still lead to victory.\n",
    "    Do so by giving 4-5 graphs with increasing qubit count, showing the distinct difference."
   ]
  },
  {
   "cell_type": "code",
   "execution_count": null,
   "metadata": {},
   "outputs": [],
   "source": [
    "# 3-qubit experiments\n",
    "n_qubits = 3\n",
    "n_mub_qubits = 3\n",
    "\n",
    "for _ in range(3):  # Three examples\n",
    "    zz_coeff = random.uniform(0,1)\n",
    "    x_coeff = random.uniform(0,1)\n",
    "    op = gen_trans_ising_op(n_qubits, zz_coeff, x_coeff)\n",
    "    print(f\"attempting all MUB states over the operator {op}\")\n",
    "    results = calculate_energy_landscape(op, n_mub_qubits, generate_all_subsets(n_mub_qubits, n_qubits))\n",
    "    exact_result = get_exact_ground(op)\n",
    "    print(\"Energy Landscape:\")\n",
    "    display_energy_landscape(results, exact_result=exact_result)\n",
    "    print(\"Energy Histogram:\")\n",
    "    display_energy_histogram(results, exact_result=exact_result)"
   ]
  },
  {
   "cell_type": "code",
   "execution_count": null,
   "metadata": {},
   "outputs": [],
   "source": [
    "# half-MUB experiments\n",
    "n_mub_qubits = 3\n",
    "zz_coeff = random.uniform(0,1)\n",
    "x_coeff = random.uniform(0,1)\n",
    "\n",
    "for n_qubits in range(4,8):  # Three examples\n",
    "\n",
    "    op = gen_trans_ising_op(n_qubits, zz_coeff, x_coeff)\n",
    "    print(f\"attempting all MUB states over the operator {op}\")\n",
    "    results = calculate_energy_landscape(op, n_mub_qubits, generate_all_subsets(n_mub_qubits, n_qubits))\n",
    "    exact_result = get_exact_ground(op)\n",
    "    print(\"Energy Landscape:\")\n",
    "    display_energy_landscape(results, exact_result=exact_result)\n",
    "    print(\"Energy Histogram:\")\n",
    "    display_energy_histogram(results, exact_result=exact_result)"
   ]
  },
  {
   "cell_type": "markdown",
   "metadata": {},
   "source": [
    "### Unified results: partial-MUB with $\\ket{0}$ vs. $\\ket{+}$\n",
    "Here, I run the same experiment with a bit less qubits, but use both options forn qubits not involved in the MUB state itself.\n",
    "1.  Put it in $\\ket{0}$, the trivial option.\n",
    "2.  Put it in $\\ket{+}$, the other option Dekel found to be rather successful."
   ]
  },
  {
   "cell_type": "code",
   "execution_count": null,
   "metadata": {},
   "outputs": [],
   "source": [
    "# half-MUB experiments\n",
    "n_mub_qubits = 3\n",
    "zz_coeff = random.uniform(0,1)\n",
    "x_coeff = random.uniform(0,1)\n",
    "\n",
    "print(\"THE ZERO EXPERIMENTS START\")\n",
    "for n_qubits in range(4,7):  # Three examples\n",
    "    op = gen_trans_ising_op(n_qubits, zz_coeff, x_coeff)\n",
    "    print(f\"attempting all MUB states over the operator {op}\")\n",
    "    print(\"========ZERO VERSION=========\")\n",
    "    results = calculate_energy_landscape(op, n_mub_qubits, generate_all_subsets(n_mub_qubits, n_qubits))\n",
    "    exact_result = get_exact_ground(op)\n",
    "    print(\"Energy Landscape:\")\n",
    "    display_energy_landscape(results, exact_result=exact_result)\n",
    "    print(\"Energy Histogram:\")\n",
    "    display_energy_histogram(results, exact_result=exact_result)\n",
    "    print(\"========PLUS VERSION=========\")\n",
    "    results = calculate_energy_landscape(op, n_mub_qubits, generate_all_subsets(n_mub_qubits, n_qubits), plus_for_non_mub=True)\n",
    "    exact_result = get_exact_ground(op)\n",
    "    print(\"Energy Landscape:\")\n",
    "    display_energy_landscape(results, exact_result=exact_result)\n",
    "    print(\"Energy Histogram:\")\n",
    "    display_energy_histogram(results, exact_result=exact_result)\n",
    "    print(\"==============END============\")\n"
   ]
  },
  {
   "cell_type": "markdown",
   "metadata": {},
   "source": [
    "# Execute VQE\n",
    "The Parameters class is taken from the old VQC project and adapted to this use case."
   ]
  },
  {
   "cell_type": "markdown",
   "metadata": {},
   "source": [
    "### Experiment Paremeters and Hyper-parameters"
   ]
  },
  {
   "cell_type": "code",
   "execution_count": null,
   "metadata": {},
   "outputs": [],
   "source": [
    "from qiskit.quantum_info import Operator\n",
    "ansatz = TwoLocal (\n",
    "        params.n_qubits,\n",
    "        ['ry','rz'],\n",
    "        'crx',\n",
    "        'linear',\n",
    "        reps=params.n_layers\n",
    "    )\n",
    "print(Operator(ansatz.assign_parameters([0.0]*ansatz.num_parameters)).data)"
   ]
  },
  {
   "cell_type": "code",
   "execution_count": 15,
   "metadata": {},
   "outputs": [],
   "source": [
    "class Parameters:\n",
    "    def __init__(self, n_qubits: int, n_layers: int, optimizer: str, tol: float, success_bound: float, max_iter: int, exact_result: float|None = None):\n",
    "        self.n_qubits = n_qubits            # number of qubist in the operator\n",
    "        self.n_layers = n_layers            # number of ansatz layers\n",
    "        self.optimizer = optimizer          # name of optimizer\n",
    "        self.tol = tol                      # optimizer \"tolerance\" parameter. Semantic meaning differs between optimizers.\n",
    "        self.success_bound = success_bound  # distance from exact result that we consider as success.\n",
    "        self.max_iter = max_iter            # iteration bound\n",
    "        self.exact_result = exact_result    # the exact result that we compare ourselves to.\n",
    "\n",
    "\n",
    "def get_standard_params(n_qubits: int) -> Parameters:\n",
    "    return Parameters(n_qubits=n_qubits, n_layers=5, optimizer='COBYLA', tol=1e-6, success_bound=1e-3, max_iter=1000)"
   ]
  },
  {
   "cell_type": "code",
   "execution_count": 16,
   "metadata": {},
   "outputs": [],
   "source": [
    "def run_vqe_experiment(hamiltonian: SparsePauliOp, initial_state: QuantumCircuit, params: Parameters) -> tuple[int, float, bool]:\n",
    "    # preparing the VQE components\n",
    "    estimator_obj = Estimator()  # Internal qiskit structure\n",
    "    ansatz = TwoLocal (\n",
    "        params.n_qubits,\n",
    "        ['ry','rz'],\n",
    "        'crx',\n",
    "        'linear',\n",
    "        reps=params.n_layers\n",
    "    )\n",
    "    optimizer_obj = COBYLA(\n",
    "        maxiter = 1000, \\\n",
    "        tol = params.tol \\\n",
    "    )\n",
    "    # enforcing the success bound\n",
    "    class BoundHitException(Exception):\n",
    "        def __init__(self, n_evals, final_cost):\n",
    "            self.n_evals = n_evals\n",
    "            self.final_cost = final_cost\n",
    "    def callback(eval_count: int, theta: np.ndarray, cost: float, metadata: dict) -> None:\n",
    "        if params.exact_result is None:\n",
    "            return\n",
    "        if (eval_count % 10 == 0):\n",
    "            print(f\"{eval_count}: {cost}\")\n",
    "        if (cost < params.exact_result + params.success_bound):\n",
    "            raise BoundHitException(eval_count, cost)\n",
    "    \n",
    "    try:\n",
    "        vqe_obj = VQE(estimator=estimator_obj, ansatz=ansatz, optimizer=optimizer_obj, callback=callback, initial_point = [0.0]*ansatz.num_parameters)\n",
    "        res = vqe_obj.compute_minimum_eigenvalue(operator=hamiltonian)\n",
    "        return res.cost_function_evals, res.optimal_value, False\n",
    "    except BoundHitException as e:\n",
    "        return e.n_evals, e.final_cost, True"
   ]
  },
  {
   "cell_type": "markdown",
   "metadata": {},
   "source": [
    "## Combined Example\n",
    "\n",
    "Generate an operator, fins its landscape and histogram, then run VQE from the best 5 examples."
   ]
  },
  {
   "cell_type": "code",
   "execution_count": 17,
   "metadata": {},
   "outputs": [
    {
     "name": "stdout",
     "output_type": "stream",
     "text": [
      "Energy Landscape:\n"
     ]
    },
    {
     "data": {
      "image/png": "[encoded data removed]",
      "text/plain": [
       "<Figure size 800x500 with 1 Axes>"
      ]
     },
     "metadata": {},
     "output_type": "display_data"
    },
    {
     "name": "stdout",
     "output_type": "stream",
     "text": [
      "Energy Histogram:\n"
     ]
    },
    {
     "data": {
      "image/png": "[encoded data removed]",
      "text/plain": [
       "<Figure size 800x500 with 1 Axes>"
      ]
     },
     "metadata": {},
     "output_type": "display_data"
    },
    {
     "name": "stdout",
     "output_type": "stream",
     "text": [
      "running from point with value -2.6200529228\n",
      "10: 1.9234289733036087\n",
      "20: 0.41220368590635825\n",
      "30: -0.8651655089419805\n",
      "40: -0.9892371766745915\n",
      "50: -2.2760066572709947\n",
      "60: -2.6186625913916797\n",
      "70: -2.636249314691251\n",
      "80: -2.498525033458117\n",
      "90: -2.5348803094755286\n",
      "100: -2.731598791203166\n",
      "110: -2.6826485236886874\n",
      "120: -2.7507900589259466\n",
      "130: -2.753085103318571\n",
      "140: -2.6395822772409763\n",
      "150: -2.7936044533675854\n",
      "160: -2.8439191911326023\n",
      "170: -2.8706827125717203\n",
      "180: -2.859161325454324\n",
      "190: -2.876463275566544\n",
      "200: -2.873738624935549\n",
      "210: -2.8746387413679773\n",
      "220: -2.873808676874439\n",
      "230: -2.8762857926461556\n",
      "240: -2.88449474924389\n",
      "250: -2.8801609607182925\n",
      "260: -2.890317888299182\n",
      "270: -2.8934608274595015\n",
      "280: -2.893300809567512\n",
      "290: -2.8955225204932855\n",
      "300: -2.897400647518544\n",
      "310: -2.9054464583099913\n",
      "320: -2.908835070387159\n",
      "330: -2.9132506695558615\n",
      "340: -2.9184273480008667\n",
      "350: -2.924977411474774\n",
      "360: -2.9342258842454205\n",
      "370: -2.9335206577069037\n",
      "380: -2.9357244619708256\n",
      "390: -2.937044169462299\n",
      "400: -2.942360278928984\n",
      "410: -2.944063295268145\n",
      "420: -2.9466513398595833\n",
      "430: -2.946867133096187\n",
      "440: -2.947819828152673\n",
      "450: -2.953809025563683\n",
      "460: -2.956916279172875\n",
      "470: -2.9588776829023296\n",
      "480: -2.9602442253437284\n",
      "490: -2.961074864835378\n",
      "500: -2.9658075075159576\n",
      "510: -2.967227281911762\n",
      "520: -2.9745478077869323\n",
      "530: -2.977273821314788\n",
      "540: -2.974940235499484\n",
      "550: -2.9829772131566736\n",
      "560: -2.982536141784049\n",
      "570: -2.9851944243295003\n",
      "580: -2.9852300693733858\n",
      "590: -2.994748697042526\n",
      "600: -2.992210443774943\n",
      "610: -2.9922077390898565\n",
      "620: -2.99466671251529\n",
      "630: -3.0007455801705207\n",
      "640: -3.002681437441215\n",
      "650: -3.0033526113414815\n",
      "660: -3.0067532963382613\n",
      "670: -3.004041849402134\n",
      "680: -3.0046829466729563\n",
      "690: -3.0114423636881207\n",
      "700: -3.0125898781631157\n",
      "710: -3.0124507673056167\n",
      "720: -3.017671447188356\n",
      "730: -3.0176729948125898\n",
      "740: -3.017525739960801\n",
      "750: -3.0194733199498334\n",
      "760: -3.019192201769988\n",
      "770: -3.022240851452691\n",
      "780: -3.023348087075675\n",
      "790: -3.0244531495116154\n",
      "800: -3.0253145887697293\n",
      "810: -3.02662362572727\n",
      "820: -3.0285464554005177\n",
      "830: -3.0278684797957203\n",
      "840: -3.027371570042971\n",
      "850: -3.029242568479101\n",
      "860: -3.02910714271938\n",
      "870: -3.0308948692911013\n",
      "880: -3.030884176608007\n",
      "890: -3.030808487911304\n",
      "900: -3.031733880198657\n",
      "910: -3.0334285346577587\n",
      "920: -3.0347540872783547\n",
      "930: -3.0354149805547643\n",
      "940: -3.036073876579552\n",
      "950: -3.037624449031303\n",
      "960: -3.0379782674979823\n",
      "970: -3.038123574369233\n",
      "980: -3.0383949636293384\n",
      "990: -3.0382828632477157\n",
      "1000: -3.0401431689730805\n",
      "(1000, -3.0403754874862043, False)\n",
      "-3.129458893988224\n",
      "running from point with value -1.9020285979\n",
      "10: 1.9234289733036087\n",
      "20: 0.41220368590635825\n",
      "30: -0.8651655089419805\n",
      "40: -0.9892371766745915\n",
      "50: -2.2760066572709947\n",
      "60: -2.6186625913916797\n",
      "70: -2.636249314691251\n",
      "80: -2.498525033458117\n",
      "90: -2.5348803094755286\n",
      "100: -2.731598791203166\n",
      "110: -2.6826485236886874\n",
      "120: -2.7507900589259466\n",
      "130: -2.753085103318571\n",
      "140: -2.6395822772409763\n",
      "150: -2.7936044533675854\n",
      "160: -2.8439191911326023\n",
      "170: -2.8706827125717203\n",
      "180: -2.859161325454324\n",
      "190: -2.876463275566544\n",
      "200: -2.873738624935549\n",
      "210: -2.8746387413679773\n",
      "220: -2.873808676874439\n",
      "230: -2.8762857926461556\n",
      "240: -2.88449474924389\n",
      "250: -2.8801609607182925\n",
      "260: -2.890317888299182\n",
      "270: -2.8934608274595015\n",
      "280: -2.893300809567512\n",
      "290: -2.8955225204932855\n",
      "300: -2.897400647518544\n",
      "310: -2.9054464583099913\n",
      "320: -2.908835070387159\n",
      "330: -2.9132506695558615\n",
      "340: -2.9184273480008667\n",
      "350: -2.924977411474774\n",
      "360: -2.9342258842454205\n",
      "370: -2.9335206577069037\n",
      "380: -2.9357244619708256\n",
      "390: -2.937044169462299\n",
      "400: -2.942360278928984\n",
      "410: -2.944063295268145\n",
      "420: -2.9466513398595833\n",
      "430: -2.946867133096187\n",
      "440: -2.947819828152673\n",
      "450: -2.953809025563683\n",
      "460: -2.956916279172875\n",
      "470: -2.9588776829023296\n",
      "480: -2.9602442253437284\n",
      "490: -2.961074864835378\n",
      "500: -2.9658075075159576\n",
      "510: -2.967227281911762\n",
      "520: -2.9745478077869323\n",
      "530: -2.977273821314788\n",
      "540: -2.974940235499484\n",
      "550: -2.9829772131566736\n",
      "560: -2.982536141784049\n",
      "570: -2.9851944243295003\n",
      "580: -2.9852300693733858\n",
      "590: -2.994748697042526\n",
      "600: -2.992210443774943\n",
      "610: -2.9922077390898565\n",
      "620: -2.99466671251529\n",
      "630: -3.0007455801705207\n",
      "640: -3.002681437441215\n",
      "650: -3.0033526113414815\n",
      "660: -3.0067532963382613\n",
      "670: -3.004041849402134\n",
      "680: -3.0046829466729563\n",
      "690: -3.0114423636881207\n",
      "700: -3.0125898781631157\n",
      "710: -3.0124507673056167\n",
      "720: -3.017671447188356\n",
      "730: -3.0176729948125898\n",
      "740: -3.017525739960801\n",
      "750: -3.0194733199498334\n",
      "760: -3.019192201769988\n",
      "770: -3.022240851452691\n",
      "780: -3.023348087075675\n",
      "790: -3.0244531495116154\n",
      "800: -3.0253145887697293\n",
      "810: -3.02662362572727\n",
      "820: -3.0285464554005177\n",
      "830: -3.0278684797957203\n",
      "840: -3.027371570042971\n",
      "850: -3.029242568479101\n",
      "860: -3.02910714271938\n",
      "870: -3.0308948692911013\n",
      "880: -3.030884176608007\n",
      "890: -3.030808487911304\n",
      "900: -3.031733880198657\n",
      "910: -3.0334285346577587\n",
      "920: -3.0347540872783547\n",
      "930: -3.0354149805547643\n",
      "940: -3.036073876579552\n",
      "950: -3.037624449031303\n",
      "960: -3.0379782674979823\n",
      "970: -3.038123574369233\n",
      "980: -3.0383949636293384\n",
      "990: -3.0382828632477157\n",
      "1000: -3.0401431689730805\n",
      "(1000, -3.0403754874862043, False)\n",
      "-3.129458893988224\n",
      "running from point with value -1.9020285979\n",
      "10: 1.9234289733036087\n",
      "20: 0.41220368590635825\n",
      "30: -0.8651655089419805\n",
      "40: -0.9892371766745915\n",
      "50: -2.2760066572709947\n",
      "60: -2.6186625913916797\n",
      "70: -2.636249314691251\n",
      "80: -2.498525033458117\n",
      "90: -2.5348803094755286\n",
      "100: -2.731598791203166\n",
      "110: -2.6826485236886874\n",
      "120: -2.7507900589259466\n",
      "130: -2.753085103318571\n"
     ]
    },
    {
     "ename": "KeyboardInterrupt",
     "evalue": "",
     "output_type": "error",
     "traceback": [
      "\u001b[1;31m---------------------------------------------------------------------------\u001b[0m",
      "\u001b[1;31mKeyboardInterrupt\u001b[0m                         Traceback (most recent call last)",
      "\u001b[1;32md:\\Documents\\repos\\Quantum-exhaustive-search\\transverse_ising_Experiment.ipynb Cell 36\u001b[0m line \u001b[0;36m2\n\u001b[0;32m     <a href='vscode-notebook-cell:/d%3A/Documents/repos/Quantum-exhaustive-search/transverse_ising_Experiment.ipynb#X50sZmlsZQ%3D%3D?line=20'>21</a>\u001b[0m \u001b[39mfor\u001b[39;00m initial_state, value \u001b[39min\u001b[39;00m find_k_best_results(results, \u001b[39m5\u001b[39m):\n\u001b[0;32m     <a href='vscode-notebook-cell:/d%3A/Documents/repos/Quantum-exhaustive-search/transverse_ising_Experiment.ipynb#X50sZmlsZQ%3D%3D?line=21'>22</a>\u001b[0m     \u001b[39mprint\u001b[39m(\u001b[39mf\u001b[39m\u001b[39m\"\u001b[39m\u001b[39mrunning from point with value \u001b[39m\u001b[39m{\u001b[39;00mvalue\u001b[39m}\u001b[39;00m\u001b[39m\"\u001b[39m)\n\u001b[1;32m---> <a href='vscode-notebook-cell:/d%3A/Documents/repos/Quantum-exhaustive-search/transverse_ising_Experiment.ipynb#X50sZmlsZQ%3D%3D?line=22'>23</a>\u001b[0m     \u001b[39mprint\u001b[39m(run_vqe_experiment(op, initial_state, params))\n\u001b[0;32m     <a href='vscode-notebook-cell:/d%3A/Documents/repos/Quantum-exhaustive-search/transverse_ising_Experiment.ipynb#X50sZmlsZQ%3D%3D?line=23'>24</a>\u001b[0m     \u001b[39mprint\u001b[39m(params\u001b[39m.\u001b[39mexact_result)\n",
      "\u001b[1;32md:\\Documents\\repos\\Quantum-exhaustive-search\\transverse_ising_Experiment.ipynb Cell 36\u001b[0m line \u001b[0;36m3\n\u001b[0;32m     <a href='vscode-notebook-cell:/d%3A/Documents/repos/Quantum-exhaustive-search/transverse_ising_Experiment.ipynb#X50sZmlsZQ%3D%3D?line=27'>28</a>\u001b[0m \u001b[39mtry\u001b[39;00m:\n\u001b[0;32m     <a href='vscode-notebook-cell:/d%3A/Documents/repos/Quantum-exhaustive-search/transverse_ising_Experiment.ipynb#X50sZmlsZQ%3D%3D?line=28'>29</a>\u001b[0m     vqe_obj \u001b[39m=\u001b[39m VQE(estimator\u001b[39m=\u001b[39mestimator_obj, ansatz\u001b[39m=\u001b[39mansatz, optimizer\u001b[39m=\u001b[39moptimizer_obj, callback\u001b[39m=\u001b[39mcallback, initial_point \u001b[39m=\u001b[39m [\u001b[39m0.0\u001b[39m]\u001b[39m*\u001b[39mansatz\u001b[39m.\u001b[39mnum_parameters)\n\u001b[1;32m---> <a href='vscode-notebook-cell:/d%3A/Documents/repos/Quantum-exhaustive-search/transverse_ising_Experiment.ipynb#X50sZmlsZQ%3D%3D?line=29'>30</a>\u001b[0m     res \u001b[39m=\u001b[39m vqe_obj\u001b[39m.\u001b[39;49mcompute_minimum_eigenvalue(operator\u001b[39m=\u001b[39;49mhamiltonian)\n\u001b[0;32m     <a href='vscode-notebook-cell:/d%3A/Documents/repos/Quantum-exhaustive-search/transverse_ising_Experiment.ipynb#X50sZmlsZQ%3D%3D?line=30'>31</a>\u001b[0m     \u001b[39mreturn\u001b[39;00m res\u001b[39m.\u001b[39mcost_function_evals, res\u001b[39m.\u001b[39moptimal_value, \u001b[39mFalse\u001b[39;00m\n\u001b[0;32m     <a href='vscode-notebook-cell:/d%3A/Documents/repos/Quantum-exhaustive-search/transverse_ising_Experiment.ipynb#X50sZmlsZQ%3D%3D?line=31'>32</a>\u001b[0m \u001b[39mexcept\u001b[39;00m BoundHitException \u001b[39mas\u001b[39;00m e:\n",
      "File \u001b[1;32mc:\\Users\\Ittay\\AppData\\Local\\Programs\\Python\\Python312\\Lib\\site-packages\\qiskit\\algorithms\\minimum_eigensolvers\\vqe.py:191\u001b[0m, in \u001b[0;36mVQE.compute_minimum_eigenvalue\u001b[1;34m(self, operator, aux_operators)\u001b[0m\n\u001b[0;32m    186\u001b[0m \u001b[39melse\u001b[39;00m:\n\u001b[0;32m    187\u001b[0m     \u001b[39m# we always want to submit as many estimations per job as possible for minimal\u001b[39;00m\n\u001b[0;32m    188\u001b[0m     \u001b[39m# overhead on the hardware\u001b[39;00m\n\u001b[0;32m    189\u001b[0m     was_updated \u001b[39m=\u001b[39m _set_default_batchsize(\u001b[39mself\u001b[39m\u001b[39m.\u001b[39moptimizer)\n\u001b[1;32m--> 191\u001b[0m     optimizer_result \u001b[39m=\u001b[39m \u001b[39mself\u001b[39;49m\u001b[39m.\u001b[39;49moptimizer\u001b[39m.\u001b[39;49mminimize(\n\u001b[0;32m    192\u001b[0m         fun\u001b[39m=\u001b[39;49mevaluate_energy, x0\u001b[39m=\u001b[39;49minitial_point, jac\u001b[39m=\u001b[39;49mevaluate_gradient, bounds\u001b[39m=\u001b[39;49mbounds\n\u001b[0;32m    193\u001b[0m     )\n\u001b[0;32m    195\u001b[0m     \u001b[39m# reset to original value\u001b[39;00m\n\u001b[0;32m    196\u001b[0m     \u001b[39mif\u001b[39;00m was_updated:\n",
      "File \u001b[1;32mc:\\Users\\Ittay\\AppData\\Local\\Programs\\Python\\Python312\\Lib\\site-packages\\qiskit\\algorithms\\optimizers\\scipy_optimizer.py:154\u001b[0m, in \u001b[0;36mSciPyOptimizer.minimize\u001b[1;34m(self, fun, x0, jac, bounds)\u001b[0m\n\u001b[0;32m    151\u001b[0m     swapped_deprecated_args \u001b[39m=\u001b[39m \u001b[39mTrue\u001b[39;00m\n\u001b[0;32m    152\u001b[0m     \u001b[39mself\u001b[39m\u001b[39m.\u001b[39m_options[\u001b[39m\"\u001b[39m\u001b[39mmaxfun\u001b[39m\u001b[39m\"\u001b[39m] \u001b[39m=\u001b[39m \u001b[39mself\u001b[39m\u001b[39m.\u001b[39m_options\u001b[39m.\u001b[39mpop(\u001b[39m\"\u001b[39m\u001b[39mmaxiter\u001b[39m\u001b[39m\"\u001b[39m)\n\u001b[1;32m--> 154\u001b[0m raw_result \u001b[39m=\u001b[39m minimize(\n\u001b[0;32m    155\u001b[0m     fun\u001b[39m=\u001b[39;49mfun,\n\u001b[0;32m    156\u001b[0m     x0\u001b[39m=\u001b[39;49mx0,\n\u001b[0;32m    157\u001b[0m     method\u001b[39m=\u001b[39;49m\u001b[39mself\u001b[39;49m\u001b[39m.\u001b[39;49m_method,\n\u001b[0;32m    158\u001b[0m     jac\u001b[39m=\u001b[39;49mjac,\n\u001b[0;32m    159\u001b[0m     bounds\u001b[39m=\u001b[39;49mbounds,\n\u001b[0;32m    160\u001b[0m     options\u001b[39m=\u001b[39;49m\u001b[39mself\u001b[39;49m\u001b[39m.\u001b[39;49m_options,\n\u001b[0;32m    161\u001b[0m     \u001b[39m*\u001b[39;49m\u001b[39m*\u001b[39;49m\u001b[39mself\u001b[39;49m\u001b[39m.\u001b[39;49m_kwargs,\n\u001b[0;32m    162\u001b[0m )\n\u001b[0;32m    163\u001b[0m \u001b[39mif\u001b[39;00m swapped_deprecated_args:\n\u001b[0;32m    164\u001b[0m     \u001b[39mself\u001b[39m\u001b[39m.\u001b[39m_options[\u001b[39m\"\u001b[39m\u001b[39mmaxiter\u001b[39m\u001b[39m\"\u001b[39m] \u001b[39m=\u001b[39m \u001b[39mself\u001b[39m\u001b[39m.\u001b[39m_options\u001b[39m.\u001b[39mpop(\u001b[39m\"\u001b[39m\u001b[39mmaxfun\u001b[39m\u001b[39m\"\u001b[39m)\n",
      "File \u001b[1;32mc:\\Users\\Ittay\\AppData\\Local\\Programs\\Python\\Python312\\Lib\\site-packages\\scipy\\optimize\\_minimize.py:719\u001b[0m, in \u001b[0;36mminimize\u001b[1;34m(fun, x0, args, method, jac, hess, hessp, bounds, constraints, tol, callback, options)\u001b[0m\n\u001b[0;32m    716\u001b[0m     res \u001b[39m=\u001b[39m _minimize_tnc(fun, x0, args, jac, bounds, callback\u001b[39m=\u001b[39mcallback,\n\u001b[0;32m    717\u001b[0m                         \u001b[39m*\u001b[39m\u001b[39m*\u001b[39moptions)\n\u001b[0;32m    718\u001b[0m \u001b[39melif\u001b[39;00m meth \u001b[39m==\u001b[39m \u001b[39m'\u001b[39m\u001b[39mcobyla\u001b[39m\u001b[39m'\u001b[39m:\n\u001b[1;32m--> 719\u001b[0m     res \u001b[39m=\u001b[39m _minimize_cobyla(fun, x0, args, constraints, callback\u001b[39m=\u001b[39;49mcallback,\n\u001b[0;32m    720\u001b[0m                            bounds\u001b[39m=\u001b[39;49mbounds, \u001b[39m*\u001b[39;49m\u001b[39m*\u001b[39;49moptions)\n\u001b[0;32m    721\u001b[0m \u001b[39melif\u001b[39;00m meth \u001b[39m==\u001b[39m \u001b[39m'\u001b[39m\u001b[39mslsqp\u001b[39m\u001b[39m'\u001b[39m:\n\u001b[0;32m    722\u001b[0m     res \u001b[39m=\u001b[39m _minimize_slsqp(fun, x0, args, jac, bounds,\n\u001b[0;32m    723\u001b[0m                           constraints, callback\u001b[39m=\u001b[39mcallback, \u001b[39m*\u001b[39m\u001b[39m*\u001b[39moptions)\n",
      "File \u001b[1;32mc:\\Users\\Ittay\\AppData\\Local\\Programs\\Python\\Python312\\Lib\\site-packages\\scipy\\optimize\\_cobyla_py.py:35\u001b[0m, in \u001b[0;36msynchronized.<locals>.wrapper\u001b[1;34m(*args, **kwargs)\u001b[0m\n\u001b[0;32m     32\u001b[0m \u001b[39m@functools\u001b[39m\u001b[39m.\u001b[39mwraps(func)\n\u001b[0;32m     33\u001b[0m \u001b[39mdef\u001b[39;00m \u001b[39mwrapper\u001b[39m(\u001b[39m*\u001b[39margs, \u001b[39m*\u001b[39m\u001b[39m*\u001b[39mkwargs):\n\u001b[0;32m     34\u001b[0m     \u001b[39mwith\u001b[39;00m _module_lock:\n\u001b[1;32m---> 35\u001b[0m         \u001b[39mreturn\u001b[39;00m func(\u001b[39m*\u001b[39;49margs, \u001b[39m*\u001b[39;49m\u001b[39m*\u001b[39;49mkwargs)\n",
      "File \u001b[1;32mc:\\Users\\Ittay\\AppData\\Local\\Programs\\Python\\Python312\\Lib\\site-packages\\scipy\\optimize\\_cobyla_py.py:293\u001b[0m, in \u001b[0;36m_minimize_cobyla\u001b[1;34m(fun, x0, args, constraints, rhobeg, tol, maxiter, disp, catol, callback, bounds, **unknown_options)\u001b[0m\n\u001b[0;32m    290\u001b[0m         callback(np\u001b[39m.\u001b[39mcopy(x))\n\u001b[0;32m    292\u001b[0m info \u001b[39m=\u001b[39m np\u001b[39m.\u001b[39mzeros(\u001b[39m4\u001b[39m, np\u001b[39m.\u001b[39mfloat64)\n\u001b[1;32m--> 293\u001b[0m xopt, info \u001b[39m=\u001b[39m cobyla\u001b[39m.\u001b[39;49mminimize(calcfc, m\u001b[39m=\u001b[39;49mm, x\u001b[39m=\u001b[39;49mnp\u001b[39m.\u001b[39;49mcopy(x0), rhobeg\u001b[39m=\u001b[39;49mrhobeg,\n\u001b[0;32m    294\u001b[0m                               rhoend\u001b[39m=\u001b[39;49mrhoend, iprint\u001b[39m=\u001b[39;49miprint, maxfun\u001b[39m=\u001b[39;49mmaxfun,\n\u001b[0;32m    295\u001b[0m                               dinfo\u001b[39m=\u001b[39;49minfo, callback\u001b[39m=\u001b[39;49mwrapped_callback)\n\u001b[0;32m    297\u001b[0m \u001b[39mif\u001b[39;00m info[\u001b[39m3\u001b[39m] \u001b[39m>\u001b[39m catol:\n\u001b[0;32m    298\u001b[0m     \u001b[39m# Check constraint violation\u001b[39;00m\n\u001b[0;32m    299\u001b[0m     info[\u001b[39m0\u001b[39m] \u001b[39m=\u001b[39m \u001b[39m4\u001b[39m\n",
      "File \u001b[1;32mc:\\Users\\Ittay\\AppData\\Local\\Programs\\Python\\Python312\\Lib\\site-packages\\scipy\\optimize\\_cobyla_py.py:281\u001b[0m, in \u001b[0;36m_minimize_cobyla.<locals>.calcfc\u001b[1;34m(x, con)\u001b[0m\n\u001b[0;32m    280\u001b[0m \u001b[39mdef\u001b[39;00m \u001b[39mcalcfc\u001b[39m(x, con):\n\u001b[1;32m--> 281\u001b[0m     f \u001b[39m=\u001b[39m sf\u001b[39m.\u001b[39;49mfun(x)\n\u001b[0;32m    282\u001b[0m     i \u001b[39m=\u001b[39m \u001b[39m0\u001b[39m\n\u001b[0;32m    283\u001b[0m     \u001b[39mfor\u001b[39;00m size, c \u001b[39min\u001b[39;00m izip(cons_lengths, constraints):\n",
      "File \u001b[1;32mc:\\Users\\Ittay\\AppData\\Local\\Programs\\Python\\Python312\\Lib\\site-packages\\scipy\\optimize\\_differentiable_functions.py:278\u001b[0m, in \u001b[0;36mScalarFunction.fun\u001b[1;34m(self, x)\u001b[0m\n\u001b[0;32m    276\u001b[0m \u001b[39mif\u001b[39;00m \u001b[39mnot\u001b[39;00m np\u001b[39m.\u001b[39marray_equal(x, \u001b[39mself\u001b[39m\u001b[39m.\u001b[39mx):\n\u001b[0;32m    277\u001b[0m     \u001b[39mself\u001b[39m\u001b[39m.\u001b[39m_update_x_impl(x)\n\u001b[1;32m--> 278\u001b[0m \u001b[39mself\u001b[39;49m\u001b[39m.\u001b[39;49m_update_fun()\n\u001b[0;32m    279\u001b[0m \u001b[39mreturn\u001b[39;00m \u001b[39mself\u001b[39m\u001b[39m.\u001b[39mf\n",
      "File \u001b[1;32mc:\\Users\\Ittay\\AppData\\Local\\Programs\\Python\\Python312\\Lib\\site-packages\\scipy\\optimize\\_differentiable_functions.py:262\u001b[0m, in \u001b[0;36mScalarFunction._update_fun\u001b[1;34m(self)\u001b[0m\n\u001b[0;32m    260\u001b[0m \u001b[39mdef\u001b[39;00m \u001b[39m_update_fun\u001b[39m(\u001b[39mself\u001b[39m):\n\u001b[0;32m    261\u001b[0m     \u001b[39mif\u001b[39;00m \u001b[39mnot\u001b[39;00m \u001b[39mself\u001b[39m\u001b[39m.\u001b[39mf_updated:\n\u001b[1;32m--> 262\u001b[0m         \u001b[39mself\u001b[39;49m\u001b[39m.\u001b[39;49m_update_fun_impl()\n\u001b[0;32m    263\u001b[0m         \u001b[39mself\u001b[39m\u001b[39m.\u001b[39mf_updated \u001b[39m=\u001b[39m \u001b[39mTrue\u001b[39;00m\n",
      "File \u001b[1;32mc:\\Users\\Ittay\\AppData\\Local\\Programs\\Python\\Python312\\Lib\\site-packages\\scipy\\optimize\\_differentiable_functions.py:163\u001b[0m, in \u001b[0;36mScalarFunction.__init__.<locals>.update_fun\u001b[1;34m()\u001b[0m\n\u001b[0;32m    162\u001b[0m \u001b[39mdef\u001b[39;00m \u001b[39mupdate_fun\u001b[39m():\n\u001b[1;32m--> 163\u001b[0m     \u001b[39mself\u001b[39m\u001b[39m.\u001b[39mf \u001b[39m=\u001b[39m fun_wrapped(\u001b[39mself\u001b[39;49m\u001b[39m.\u001b[39;49mx)\n",
      "File \u001b[1;32mc:\\Users\\Ittay\\AppData\\Local\\Programs\\Python\\Python312\\Lib\\site-packages\\scipy\\optimize\\_differentiable_functions.py:145\u001b[0m, in \u001b[0;36mScalarFunction.__init__.<locals>.fun_wrapped\u001b[1;34m(x)\u001b[0m\n\u001b[0;32m    141\u001b[0m \u001b[39mself\u001b[39m\u001b[39m.\u001b[39mnfev \u001b[39m+\u001b[39m\u001b[39m=\u001b[39m \u001b[39m1\u001b[39m\n\u001b[0;32m    142\u001b[0m \u001b[39m# Send a copy because the user may overwrite it.\u001b[39;00m\n\u001b[0;32m    143\u001b[0m \u001b[39m# Overwriting results in undefined behaviour because\u001b[39;00m\n\u001b[0;32m    144\u001b[0m \u001b[39m# fun(self.x) will change self.x, with the two no longer linked.\u001b[39;00m\n\u001b[1;32m--> 145\u001b[0m fx \u001b[39m=\u001b[39m fun(np\u001b[39m.\u001b[39;49mcopy(x), \u001b[39m*\u001b[39;49margs)\n\u001b[0;32m    146\u001b[0m \u001b[39m# Make sure the function returns a true scalar\u001b[39;00m\n\u001b[0;32m    147\u001b[0m \u001b[39mif\u001b[39;00m \u001b[39mnot\u001b[39;00m np\u001b[39m.\u001b[39misscalar(fx):\n",
      "File \u001b[1;32mc:\\Users\\Ittay\\AppData\\Local\\Programs\\Python\\Python312\\Lib\\site-packages\\qiskit\\algorithms\\minimum_eigensolvers\\vqe.py:253\u001b[0m, in \u001b[0;36mVQE._get_evaluate_energy.<locals>.evaluate_energy\u001b[1;34m(parameters)\u001b[0m\n\u001b[0;32m    250\u001b[0m batch_size \u001b[39m=\u001b[39m \u001b[39mlen\u001b[39m(parameters)\n\u001b[0;32m    252\u001b[0m \u001b[39mtry\u001b[39;00m:\n\u001b[1;32m--> 253\u001b[0m     job \u001b[39m=\u001b[39m \u001b[39mself\u001b[39;49m\u001b[39m.\u001b[39;49mestimator\u001b[39m.\u001b[39;49mrun(batch_size \u001b[39m*\u001b[39;49m [ansatz], batch_size \u001b[39m*\u001b[39;49m [operator], parameters)\n\u001b[0;32m    254\u001b[0m     estimator_result \u001b[39m=\u001b[39m job\u001b[39m.\u001b[39mresult()\n\u001b[0;32m    255\u001b[0m \u001b[39mexcept\u001b[39;00m \u001b[39mException\u001b[39;00m \u001b[39mas\u001b[39;00m exc:\n",
      "File \u001b[1;32mc:\\Users\\Ittay\\AppData\\Local\\Programs\\Python\\Python312\\Lib\\site-packages\\qiskit\\primitives\\base\\base_estimator.py:188\u001b[0m, in \u001b[0;36mBaseEstimator.run\u001b[1;34m(self, circuits, observables, parameter_values, **run_options)\u001b[0m\n\u001b[0;32m    185\u001b[0m run_opts \u001b[39m=\u001b[39m copy(\u001b[39mself\u001b[39m\u001b[39m.\u001b[39moptions)\n\u001b[0;32m    186\u001b[0m run_opts\u001b[39m.\u001b[39mupdate_options(\u001b[39m*\u001b[39m\u001b[39m*\u001b[39mrun_options)\n\u001b[1;32m--> 188\u001b[0m \u001b[39mreturn\u001b[39;00m \u001b[39mself\u001b[39;49m\u001b[39m.\u001b[39;49m_run(\n\u001b[0;32m    189\u001b[0m     circuits,\n\u001b[0;32m    190\u001b[0m     observables,\n\u001b[0;32m    191\u001b[0m     parameter_values,\n\u001b[0;32m    192\u001b[0m     \u001b[39m*\u001b[39;49m\u001b[39m*\u001b[39;49mrun_opts\u001b[39m.\u001b[39;49m\u001b[39m__dict__\u001b[39;49m,\n\u001b[0;32m    193\u001b[0m )\n",
      "File \u001b[1;32mc:\\Users\\Ittay\\AppData\\Local\\Programs\\Python\\Python312\\Lib\\site-packages\\qiskit\\primitives\\estimator.py:158\u001b[0m, in \u001b[0;36mEstimator._run\u001b[1;34m(self, circuits, observables, parameter_values, **run_options)\u001b[0m\n\u001b[0;32m    154\u001b[0m         \u001b[39mself\u001b[39m\u001b[39m.\u001b[39m_observables\u001b[39m.\u001b[39mappend(observable)\n\u001b[0;32m    155\u001b[0m job \u001b[39m=\u001b[39m PrimitiveJob(\n\u001b[0;32m    156\u001b[0m     \u001b[39mself\u001b[39m\u001b[39m.\u001b[39m_call, circuit_indices, observable_indices, parameter_values, \u001b[39m*\u001b[39m\u001b[39m*\u001b[39mrun_options\n\u001b[0;32m    157\u001b[0m )\n\u001b[1;32m--> 158\u001b[0m job\u001b[39m.\u001b[39;49msubmit()\n\u001b[0;32m    159\u001b[0m \u001b[39mreturn\u001b[39;00m job\n",
      "File \u001b[1;32mc:\\Users\\Ittay\\AppData\\Local\\Programs\\Python\\Python312\\Lib\\site-packages\\qiskit\\primitives\\primitive_job.py:49\u001b[0m, in \u001b[0;36mPrimitiveJob.submit\u001b[1;34m(self)\u001b[0m\n\u001b[0;32m     46\u001b[0m     \u001b[39mraise\u001b[39;00m JobError(\u001b[39m\"\u001b[39m\u001b[39mPrimitive job has already been submitted.\u001b[39m\u001b[39m\"\u001b[39m)\n\u001b[0;32m     48\u001b[0m executor \u001b[39m=\u001b[39m ThreadPoolExecutor(max_workers\u001b[39m=\u001b[39m\u001b[39m1\u001b[39m)  \u001b[39m# pylint: disable=consider-using-with\u001b[39;00m\n\u001b[1;32m---> 49\u001b[0m \u001b[39mself\u001b[39m\u001b[39m.\u001b[39m_future \u001b[39m=\u001b[39m executor\u001b[39m.\u001b[39;49msubmit(\u001b[39mself\u001b[39;49m\u001b[39m.\u001b[39;49m_function, \u001b[39m*\u001b[39;49m\u001b[39mself\u001b[39;49m\u001b[39m.\u001b[39;49m_args, \u001b[39m*\u001b[39;49m\u001b[39m*\u001b[39;49m\u001b[39mself\u001b[39;49m\u001b[39m.\u001b[39;49m_kwargs)\n\u001b[0;32m     50\u001b[0m executor\u001b[39m.\u001b[39mshutdown(wait\u001b[39m=\u001b[39m\u001b[39mFalse\u001b[39;00m)\n",
      "File \u001b[1;32mc:\\Users\\Ittay\\AppData\\Local\\Programs\\Python\\Python312\\Lib\\concurrent\\futures\\thread.py:179\u001b[0m, in \u001b[0;36mThreadPoolExecutor.submit\u001b[1;34m(self, fn, *args, **kwargs)\u001b[0m\n\u001b[0;32m    176\u001b[0m w \u001b[39m=\u001b[39m _WorkItem(f, fn, args, kwargs)\n\u001b[0;32m    178\u001b[0m \u001b[39mself\u001b[39m\u001b[39m.\u001b[39m_work_queue\u001b[39m.\u001b[39mput(w)\n\u001b[1;32m--> 179\u001b[0m \u001b[39mself\u001b[39;49m\u001b[39m.\u001b[39;49m_adjust_thread_count()\n\u001b[0;32m    180\u001b[0m \u001b[39mreturn\u001b[39;00m f\n",
      "File \u001b[1;32mc:\\Users\\Ittay\\AppData\\Local\\Programs\\Python\\Python312\\Lib\\concurrent\\futures\\thread.py:202\u001b[0m, in \u001b[0;36mThreadPoolExecutor._adjust_thread_count\u001b[1;34m(self)\u001b[0m\n\u001b[0;32m    195\u001b[0m thread_name \u001b[39m=\u001b[39m \u001b[39m'\u001b[39m\u001b[39m%s\u001b[39;00m\u001b[39m_\u001b[39m\u001b[39m%d\u001b[39;00m\u001b[39m'\u001b[39m \u001b[39m%\u001b[39m (\u001b[39mself\u001b[39m\u001b[39m.\u001b[39m_thread_name_prefix \u001b[39mor\u001b[39;00m \u001b[39mself\u001b[39m,\n\u001b[0;32m    196\u001b[0m                          num_threads)\n\u001b[0;32m    197\u001b[0m t \u001b[39m=\u001b[39m threading\u001b[39m.\u001b[39mThread(name\u001b[39m=\u001b[39mthread_name, target\u001b[39m=\u001b[39m_worker,\n\u001b[0;32m    198\u001b[0m                      args\u001b[39m=\u001b[39m(weakref\u001b[39m.\u001b[39mref(\u001b[39mself\u001b[39m, weakref_cb),\n\u001b[0;32m    199\u001b[0m                            \u001b[39mself\u001b[39m\u001b[39m.\u001b[39m_work_queue,\n\u001b[0;32m    200\u001b[0m                            \u001b[39mself\u001b[39m\u001b[39m.\u001b[39m_initializer,\n\u001b[0;32m    201\u001b[0m                            \u001b[39mself\u001b[39m\u001b[39m.\u001b[39m_initargs))\n\u001b[1;32m--> 202\u001b[0m t\u001b[39m.\u001b[39;49mstart()\n\u001b[0;32m    203\u001b[0m \u001b[39mself\u001b[39m\u001b[39m.\u001b[39m_threads\u001b[39m.\u001b[39madd(t)\n\u001b[0;32m    204\u001b[0m _threads_queues[t] \u001b[39m=\u001b[39m \u001b[39mself\u001b[39m\u001b[39m.\u001b[39m_work_queue\n",
      "File \u001b[1;32mc:\\Users\\Ittay\\AppData\\Local\\Programs\\Python\\Python312\\Lib\\threading.py:976\u001b[0m, in \u001b[0;36mThread.start\u001b[1;34m(self)\u001b[0m\n\u001b[0;32m    974\u001b[0m         \u001b[39mdel\u001b[39;00m _limbo[\u001b[39mself\u001b[39m]\n\u001b[0;32m    975\u001b[0m     \u001b[39mraise\u001b[39;00m\n\u001b[1;32m--> 976\u001b[0m \u001b[39mself\u001b[39;49m\u001b[39m.\u001b[39;49m_started\u001b[39m.\u001b[39;49mwait()\n",
      "File \u001b[1;32mc:\\Users\\Ittay\\AppData\\Local\\Programs\\Python\\Python312\\Lib\\threading.py:634\u001b[0m, in \u001b[0;36mEvent.wait\u001b[1;34m(self, timeout)\u001b[0m\n\u001b[0;32m    632\u001b[0m signaled \u001b[39m=\u001b[39m \u001b[39mself\u001b[39m\u001b[39m.\u001b[39m_flag\n\u001b[0;32m    633\u001b[0m \u001b[39mif\u001b[39;00m \u001b[39mnot\u001b[39;00m signaled:\n\u001b[1;32m--> 634\u001b[0m     signaled \u001b[39m=\u001b[39m \u001b[39mself\u001b[39;49m\u001b[39m.\u001b[39;49m_cond\u001b[39m.\u001b[39;49mwait(timeout)\n\u001b[0;32m    635\u001b[0m \u001b[39mreturn\u001b[39;00m signaled\n",
      "File \u001b[1;32mc:\\Users\\Ittay\\AppData\\Local\\Programs\\Python\\Python312\\Lib\\threading.py:334\u001b[0m, in \u001b[0;36mCondition.wait\u001b[1;34m(self, timeout)\u001b[0m\n\u001b[0;32m    332\u001b[0m \u001b[39mtry\u001b[39;00m:    \u001b[39m# restore state no matter what (e.g., KeyboardInterrupt)\u001b[39;00m\n\u001b[0;32m    333\u001b[0m     \u001b[39mif\u001b[39;00m timeout \u001b[39mis\u001b[39;00m \u001b[39mNone\u001b[39;00m:\n\u001b[1;32m--> 334\u001b[0m         waiter\u001b[39m.\u001b[39;49macquire()\n\u001b[0;32m    335\u001b[0m         gotit \u001b[39m=\u001b[39m \u001b[39mTrue\u001b[39;00m\n\u001b[0;32m    336\u001b[0m     \u001b[39melse\u001b[39;00m:\n",
      "\u001b[1;31mKeyboardInterrupt\u001b[0m: "
     ]
    }
   ],
   "source": [
    "# generate operator\n",
    "n_qubits = 3\n",
    "n_mub_qubits = 3\n",
    "x_coeff = random.uniform(0,1)\n",
    "zz_coeff = random.uniform(0,1)\n",
    "op = gen_trans_ising_op(n_qubits, x_coeff, zz_coeff)\n",
    "exact_result = get_exact_ground(op)\n",
    "\n",
    "# calculate landscape and graphs\n",
    "results = calculate_energy_landscape(op, n_mub_qubits, generate_all_subsets(n_mub_qubits, n_qubits))\n",
    "exact_result = get_exact_ground(op)\n",
    "print(\"Energy Landscape:\")\n",
    "display_energy_landscape(results, exact_result=exact_result)\n",
    "print(\"Energy Histogram:\")\n",
    "display_energy_histogram(results, exact_result=exact_result)\n",
    "\n",
    "# run VQE from the best 5 examples\n",
    "params = get_standard_params(n_qubits)\n",
    "params.success_bound = 1e-2\n",
    "params.exact_result = exact_result\n",
    "for initial_state, value in find_k_best_results(results, 5):\n",
    "    print(f\"running from point with value {value}\")\n",
    "    print(run_vqe_experiment(op, initial_state, params))\n",
    "    print(params.exact_result)"
   ]
  }
 ],
 "metadata": {
  "kernelspec": {
   "display_name": "Python 3",
   "language": "python",
   "name": "python3"
  },
  "language_info": {
   "codemirror_mode": {
    "name": "ipython",
    "version": 3
   },
   "file_extension": ".py",
   "mimetype": "text/x-python",
   "name": "python",
   "nbconvert_exporter": "python",
   "pygments_lexer": "ipython3",
   "version": "3.12.0"
  }
 },
 "nbformat": 4,
 "nbformat_minor": 2
}
