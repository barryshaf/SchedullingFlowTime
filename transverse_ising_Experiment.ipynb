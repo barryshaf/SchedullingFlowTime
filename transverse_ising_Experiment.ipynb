{
 "cells": [
  {
   "cell_type": "markdown",
   "metadata": {},
   "source": [
    "## Imports"
   ]
  },
  {
   "cell_type": "code",
   "execution_count": 2,
   "metadata": {},
   "outputs": [],
   "source": [
    "from qiskit.circuit import QuantumCircuit\n",
    "from qiskit.circuit.instruction import Instruction\n",
    "from qiskit.circuit.library import TwoLocal\n",
    "from qiskit.quantum_info import SparsePauliOp\n",
    "from qiskit.quantum_info.states import Statevector\n",
    "from qiskit_algorithms.minimum_eigensolvers import VQE\n",
    "from qiskit_algorithms.optimizers import COBYLA, BFGS\n",
    "from qiskit.primitives import Estimator\n",
    "\n",
    "import numpy as np\n",
    "from numpy.linalg import eig, norm\n",
    "import random\n",
    "import matplotlib.pyplot as plt\n",
    "from matplotlib.patches import Rectangle\n",
    "from itertools import combinations, chain\n",
    "from heapq import nsmallest"
   ]
  },
  {
   "cell_type": "code",
   "execution_count": 3,
   "metadata": {},
   "outputs": [],
   "source": [
    "NUM_STATES_2_QUBITS = 4\n",
    "NUM_MUBS_2_QUBITS = 5\n",
    "NUM_STATES_3_QUITS = 8\n",
    "NUM_MUBS_3_QUBTIS = 9"
   ]
  },
  {
   "cell_type": "markdown",
   "metadata": {},
   "source": [
    "## Generate transverse-field Ising operator\n",
    "\n",
    "I started by using the qiskit_nature.second_q module. That proved to be a mistake once I want to move to qubits,\n",
    "because their move is not trivial.\n",
    "\n",
    "The following is an implementation of the operators in SparsePauliOp form directly."
   ]
  },
  {
   "cell_type": "code",
   "execution_count": 4,
   "metadata": {},
   "outputs": [],
   "source": [
    "def gen_trans_ising_op(num_qubits: int, zz_coeff: float, x_coeff: float, toric_bounds: bool=False) -> SparsePauliOp:\n",
    "    terms = []\n",
    "    coeffs = []\n",
    "    # Adding the ZZ terms\n",
    "    for i in range(num_qubits if toric_bounds else num_qubits-1):\n",
    "        curr_term = ['I'] * num_qubits\n",
    "        curr_term[i] = 'Z'\n",
    "        curr_term[(i+1)%num_qubits] = 'Z'\n",
    "        terms.append(''.join(curr_term))\n",
    "        coeffs.append(zz_coeff)\n",
    "    # Adding the X terms\n",
    "    for i in range(num_qubits):\n",
    "        curr_term = ['I'] * num_qubits\n",
    "        curr_term[i] = 'X'\n",
    "        terms.append(''.join(curr_term))\n",
    "        coeffs.append(x_coeff)\n",
    "    \n",
    "    return SparsePauliOp(terms, coeffs)"
   ]
  },
  {
   "cell_type": "markdown",
   "metadata": {},
   "source": [
    "## Get exact answers\n",
    "\n",
    "### A question of goals\n",
    "In the origianl formulation, the goal of VQE is to find the lowest eigenvalue.\n",
    "The tricky part is that numpy does not guarantee any ordering of the eigenvalues and eigenvectors. So that's on us."
   ]
  },
  {
   "cell_type": "code",
   "execution_count": 5,
   "metadata": {},
   "outputs": [],
   "source": [
    "def get_exact_ground(op: SparsePauliOp) -> np.float64:\n",
    "    eig_res = eig(op.to_matrix())\n",
    "    return min(eig_res.eigenvalues).real"
   ]
  },
  {
   "cell_type": "markdown",
   "metadata": {},
   "source": [
    "## Get expectation value over specific state-vector"
   ]
  },
  {
   "cell_type": "code",
   "execution_count": 6,
   "metadata": {},
   "outputs": [],
   "source": [
    "def get_expectation_value(state: Statevector, op: SparsePauliOp) -> np.float64:\n",
    "    return np.round(state.expectation_value(op).real, 10)"
   ]
  },
  {
   "cell_type": "markdown",
   "metadata": {},
   "source": [
    "## Generate MUB statevectors\n",
    "This is done using Dekel's current notebook code.\n",
    "I will attempt to prepare it later in a cleaner and more robust way."
   ]
  },
  {
   "cell_type": "code",
   "execution_count": 7,
   "metadata": {},
   "outputs": [],
   "source": [
    "# Adds Y-Hadamard gate on qubit q in circ\n",
    "def yh(circ, q):\n",
    "    circ.h(q)\n",
    "    circ.s(q)\n",
    "\n",
    "def prep_MUB(circ, state_idx, mub_idx, qubit_subset = [0,1]):\n",
    "    assert len(qubit_subset) == 2\n",
    "    assert (0 <= state_idx <= 3)\n",
    "    assert (0 <= mub_idx <= 4)\n",
    "    # state_idx chooses the state in the basis (MUB)\n",
    "    if state_idx == 1:\n",
    "        circ.x(qubit_subset[0])\n",
    "    elif state_idx == 2:\n",
    "        circ.x(qubit_subset[1])\n",
    "    elif state_idx == 3:\n",
    "        circ.x(qubit_subset[0])\n",
    "        circ.x(qubit_subset[1])\n",
    "        \n",
    "    # mub_idx chooses the basis (MUB) itself\n",
    "    if mub_idx == 1:\n",
    "        circ.h(qubit_subset[0])\n",
    "        circ.h(qubit_subset[1])\n",
    "    elif mub_idx == 2:\n",
    "        circ.h(qubit_subset[0])\n",
    "        yh(circ,qubit_subset[1])\n",
    "        circ.cz(qubit_subset[0], qubit_subset[1])\n",
    "    elif mub_idx == 3:\n",
    "        yh(circ,qubit_subset[0])\n",
    "        yh(circ,qubit_subset[1])\n",
    "    elif mub_idx == 4:\n",
    "        yh(circ,qubit_subset[0])\n",
    "        circ.h(qubit_subset[1])\n",
    "        circ.cz(qubit_subset[0], qubit_subset[1])\n",
    "        \n",
    "def prep_MUB3(circ, state_idx, mub_idx, qubit_subset = [0,1,2]):\n",
    "    # state_idx chooses the state in the basis (MUB)\n",
    "    if state_idx == 1:\n",
    "        circ.x(qubit_subset[0])\n",
    "    elif state_idx == 2:\n",
    "        circ.x(qubit_subset[1])\n",
    "    elif state_idx == 3:\n",
    "        circ.x(qubit_subset[0])\n",
    "        circ.x(qubit_subset[1])\n",
    "    elif state_idx == 4:\n",
    "        circ.x(qubit_subset[2])\n",
    "    elif state_idx == 5:\n",
    "        circ.x(qubit_subset[0])\n",
    "        circ.x(qubit_subset[2])\n",
    "    elif state_idx == 6:\n",
    "        circ.x(qubit_subset[1])\n",
    "        circ.x(qubit_subset[2])\n",
    "    elif state_idx == 7:\n",
    "        circ.x(qubit_subset[0])\n",
    "        circ.x(qubit_subset[1])\n",
    "        circ.x(qubit_subset[2])\n",
    "    \n",
    "    # mub_idx chooses the basis (MUB) itself\n",
    "    if mub_idx == 1:\n",
    "        circ.h(qubit_subset[0])\n",
    "        circ.h(qubit_subset[1])\n",
    "        circ.h(qubit_subset[2])\n",
    "    elif mub_idx == 2:\n",
    "        yh(circ, qubit_subset[0])\n",
    "        yh(circ, qubit_subset[1])\n",
    "        yh(circ, qubit_subset[2])\n",
    "    elif mub_idx == 3:\n",
    "        yh(circ, qubit_subset[0])\n",
    "        circ.h(qubit_subset[1])\n",
    "        circ.h(qubit_subset[2])\n",
    "        circ.cz(qubit_subset[1], qubit_subset[2])\n",
    "        circ.cz(qubit_subset[0], qubit_subset[1])\n",
    "    elif mub_idx == 4:\n",
    "        circ.h(qubit_subset[0])\n",
    "        yh(circ, qubit_subset[1])\n",
    "        circ.h(qubit_subset[2])\n",
    "        circ.cz(qubit_subset[1], qubit_subset[2])\n",
    "        circ.cz(qubit_subset[0], qubit_subset[2])\n",
    "    elif mub_idx == 5:\n",
    "        circ.h(qubit_subset[0])\n",
    "        circ.h(qubit_subset[1])\n",
    "        yh(circ, qubit_subset[2])\n",
    "        circ.cz(qubit_subset[0], qubit_subset[1])\n",
    "        circ.cz(qubit_subset[0], qubit_subset[2])\n",
    "    elif mub_idx == 6:\n",
    "        yh(circ, qubit_subset[0])\n",
    "        yh(circ, qubit_subset[1])\n",
    "        circ.h(qubit_subset[2])\n",
    "        circ.cz(qubit_subset[0], qubit_subset[1])\n",
    "        circ.cz(qubit_subset[0], qubit_subset[2])\n",
    "    elif mub_idx == 7:\n",
    "        yh(circ, qubit_subset[0])\n",
    "        circ.h(qubit_subset[1])\n",
    "        yh(circ, qubit_subset[2])\n",
    "        circ.cz(qubit_subset[1], qubit_subset[2])\n",
    "        circ.cz(qubit_subset[0], qubit_subset[2])\n",
    "    elif mub_idx == 8:\n",
    "        circ.h(qubit_subset[0])\n",
    "        yh(circ, qubit_subset[1])\n",
    "        yh(circ, qubit_subset[2])\n",
    "        circ.cz(qubit_subset[0], qubit_subset[1])\n",
    "        circ.cz(qubit_subset[1], qubit_subset[2])"
   ]
  },
  {
   "cell_type": "markdown",
   "metadata": {},
   "source": [
    "The field `state_idx` chooses the state *inside* the MUB.  \n",
    "The field `mub_idx` chooses the basis.   \n",
    "The field `qubit_subset` chooses the subset of qubit_subset over which to generate the MUB state.   "
   ]
  },
  {
   "cell_type": "code",
   "execution_count": 8,
   "metadata": {},
   "outputs": [],
   "source": [
    "def generate_mub_state_circ(state_idx: int, mub_idx: int, num_qubits: int, qubit_subset: list[int],\n",
    "                        plus_for_non_mub: bool) -> QuantumCircuit:\n",
    "    circuit = QuantumCircuit(num_qubits)\n",
    "    if len(qubit_subset) == 2:\n",
    "        prep_MUB(circuit, state_idx, mub_idx, qubit_subset)\n",
    "    elif len(qubit_subset) == 3:\n",
    "        prep_MUB3(circuit, state_idx, mub_idx, qubit_subset)\n",
    "    else:\n",
    "        raise Exception(\"We do not support this size of MUB states.\")\n",
    "    if plus_for_non_mub:\n",
    "        for qubit in range(num_qubits):\n",
    "            if qubit not in qubit_subset:\n",
    "                circuit.h(qubit)\n",
    "    return circuit"
   ]
  },
  {
   "cell_type": "markdown",
   "metadata": {},
   "source": [
    "# Attempt all states over a hamiltonian"
   ]
  },
  {
   "cell_type": "markdown",
   "metadata": {},
   "source": [
    "## Result heirarchy\n",
    "The list heirarchy is defined by the following indexes, in this order:\n",
    "1. MUB used.\n",
    "2. Subset of qubits on which this MUB was applied.\n",
    "3. The specific MUB states."
   ]
  },
  {
   "cell_type": "code",
   "execution_count": 9,
   "metadata": {},
   "outputs": [],
   "source": [
    "def generate_all_subsets(n_mub_qubits: int, n_qubits: int) -> list[tuple[int]]:\n",
    "    return list(combinations(np.linspace(0, n_qubits-1, n_qubits, dtype=int), n_mub_qubits))"
   ]
  },
  {
   "cell_type": "code",
   "execution_count": 10,
   "metadata": {},
   "outputs": [],
   "source": [
    "ResultTuple = tuple[QuantumCircuit, np.float64]\n",
    "LandscapeResultsType = list[list[list[ResultTuple]]]\n",
    "\n",
    "def calculate_energy_landscape(op: SparsePauliOp, n_mub_qubits: int, subset_list: list[tuple],\n",
    "                                appended_ansatz: QuantumCircuit | None = None,\n",
    "                                plus_for_non_mub: bool = False) -> LandscapeResultsType:\n",
    "    num_states = num_mubs = 0\n",
    "    if n_mub_qubits == 2:\n",
    "        num_states = NUM_STATES_2_QUBITS\n",
    "        num_mubs = NUM_MUBS_2_QUBITS\n",
    "    elif n_mub_qubits == 3:\n",
    "        num_states = NUM_STATES_3_QUITS\n",
    "        num_mubs = NUM_MUBS_3_QUBTIS\n",
    "    else:\n",
    "        raise Exception(\"We do not support this size of MUB states.\")\n",
    "\n",
    "    total_res = []\n",
    "    for mub_idx in range(num_mubs):\n",
    "        mub_res = []\n",
    "        for subset in subset_list:\n",
    "            subset_res = []\n",
    "            for state_idx in range(num_states):\n",
    "                circuit = generate_mub_state_circ(state_idx, mub_idx, op.num_qubits, subset, plus_for_non_mub)\n",
    "                if appended_ansatz is not None:\n",
    "                    final_circuit = circuit.compose(appended_ansatz, range(circuit.num_qubits), inplace=False)\n",
    "                else:\n",
    "                    final_circuit = circuit\n",
    "                state = Statevector.from_instruction(final_circuit)\n",
    "                res = get_expectation_value(state, op)\n",
    "                subset_res.append((circuit, res))\n",
    "            mub_res.append(subset_res)\n",
    "        total_res.append(mub_res)\n",
    "    return total_res\n",
    "\n",
    "def flatten_results(results: LandscapeResultsType) -> list[ResultTuple]:\n",
    "    flat_res = []\n",
    "    for mub_res in results:\n",
    "        for subset_res in mub_res:\n",
    "            flat_res += subset_res\n",
    "    return flat_res\n",
    "\n",
    "def flatten_energies(results: LandscapeResultsType) -> list[np.float64]:\n",
    "    flat_res = flatten_results(results)\n",
    "    return [energy for circuit, energy in flat_res]"
   ]
  },
  {
   "cell_type": "markdown",
   "metadata": {},
   "source": [
    "### Result Selection Code"
   ]
  },
  {
   "cell_type": "code",
   "execution_count": 11,
   "metadata": {},
   "outputs": [],
   "source": [
    "def find_k_best_results(results: LandscapeResultsType, k: int) -> list[ResultTuple]:\n",
    "    results = flatten_results(results)\n",
    "    return sorted(results, key=(lambda x: x[1]))[:k]"
   ]
  },
  {
   "cell_type": "markdown",
   "metadata": {},
   "source": [
    "## Graph display code"
   ]
  },
  {
   "cell_type": "code",
   "execution_count": 12,
   "metadata": {},
   "outputs": [],
   "source": [
    "FIG_SIZE = (8,5)\n",
    "def display_energy_landscape(energy_landscape_results: LandscapeResultsType, exact_result: np.float64, graph_title=\"Energy landscape\",\n",
    "                                show_legend=False):\n",
    "    fig = plt.figure(figsize=FIG_SIZE)\n",
    "    idx_counter = 0\n",
    "    basis_size = len(results[0][0])\n",
    "    mub_results_size = basis_size * len(results[0])\n",
    "    for i, mub_res in enumerate(results):\n",
    "        for j, subset_res in enumerate(mub_res):\n",
    "            energies_only = [energy for circuit, energy in subset_res]\n",
    "            plt.plot(list(range(idx_counter, idx_counter+basis_size)), energies_only, 'o', lw=0.4, label=f\"MUB {i}, subset {j}\")\n",
    "            idx_counter += basis_size\n",
    "        # Show separation between different MUBs\n",
    "        plt.axvspan(idx_counter - mub_results_size, idx_counter, alpha=0.1, color=f\"C{i}\")\n",
    "    # Show exact result\n",
    "    plt.axhline(y=exact_result, lw=0.6, color='red')\n",
    "    # Show comp. basis specifically\n",
    "    xmin, xmax, ymin, ymax = plt.axis()\n",
    "    plt.text(x=basis_size*0.25, y=ymin + (ymax-ymin)*0.8, s='COMP', fontsize=10)\n",
    "    \n",
    "    plt.xlabel(\"MUB state index\")\n",
    "    plt.ylabel(\"Cost function result\")\n",
    "    if show_legend:\n",
    "        plt.legend(loc='center left', bbox_to_anchor=(1, 0.5))\n",
    "    plt.title(graph_title)\n",
    "    plt.show()\n",
    "\n",
    "def display_energy_histogram(energy_landscape_results: LandscapeResultsType, exact_result: np.float64, bins=100,\n",
    "                                graph_title=\"Energy landscape histogram\", show_legend=False):\n",
    "    fig = plt.figure(figsize=FIG_SIZE)\n",
    "    plt.locator_params(axis='x', nbins=min(bins//2, 30), tight=True)\n",
    "    plt.xticks(fontsize=10, rotation=60)\n",
    "    plt.locator_params(axis='y', nbins=10)\n",
    "\n",
    "    flat_results = flatten_energies(energy_landscape_results)\n",
    "    plt.hist(flat_results, bins)\n",
    "    # Show exact result\n",
    "    plt.axvline(x=exact_result, lw=1, color='red')\n",
    "\n",
    "    plt.xlabel(\"Cost function result\")\n",
    "    plt.ylabel(\"number of results\")\n",
    "    if show_legend:\n",
    "        plt.legend(loc='center left', bbox_to_anchor=(1, 0.5))\n",
    "    plt.title(graph_title)\n",
    "    plt.show()"
   ]
  },
  {
   "cell_type": "markdown",
   "metadata": {},
   "source": [
    "# Execute VQE\n",
    "The Parameters class is taken from the old VQC project and adapted to this use case.\n",
    "\n",
    "## Some thinking\n",
    "If when I am creating the landscape I am already plugging the ansatz **into** the state, this might actually break....\n",
    "\n",
    "Okay look.\n",
    "I need to run the experiment with the ansatz plugged at the **front**, but also not just keep it attached during the dataflow.\n",
    "the reason is this.\n",
    "\n",
    "In order to get the landscape, I need to calculate it with a *concrete* instantiation of the ansatz. That is with a specific vector of thetas, which turns it to a \"regular\" circuit and not an ansatz that can be plugged into VQE.\n",
    "\n",
    "That means that if I plug it into the `get_mub_state` method, I just get the non-parametric circuit, which is useless from that point forward.\n",
    "\n",
    "This means that I must only attach an instance of the ansatz for the calculation, and not continue to propogate the appended version on and on.\n",
    "This requires that I only get the circuit from `get_mub_state`, and generate the state inside the landscape method.\n"
   ]
  },
  {
   "cell_type": "markdown",
   "metadata": {},
   "source": [
    "### Experiment Paremeters and Hyper-parameters"
   ]
  },
  {
   "cell_type": "code",
   "execution_count": null,
   "metadata": {},
   "outputs": [],
   "source": [
    "from qiskit.quantum_info import Operator\n",
    "ansatz = TwoLocal (\n",
    "        params.n_qubits,\n",
    "        ['ry','rz'],\n",
    "        'crx',\n",
    "        'linear',\n",
    "        reps=params.n_layers\n",
    "    )\n",
    "print(Operator(ansatz.assign_parameters([0.0]*ansatz.num_parameters)).data)"
   ]
  },
  {
   "cell_type": "code",
   "execution_count": 33,
   "metadata": {},
   "outputs": [],
   "source": [
    "class Parameters:\n",
    "    def __init__(self, n_qubits: int, n_layers: int, optimizer: str,\n",
    "                    tol: float, success_bound: float, max_iter: int,\n",
    "                    report_period: int, report_thetas: bool,\n",
    "                    exact_result: float | None = None):\n",
    "        self.n_qubits = n_qubits            # number of qubist in the operator\n",
    "        self.n_layers = n_layers            # number of ansatz layers\n",
    "        self.optimizer = optimizer          # name of optimizer\n",
    "        self.tol = tol                      # optimizer \"tolerance\" parameter. Semantic meaning differs between optimizers.\n",
    "        self.success_bound = success_bound  # distance from exact result that we consider as success.\n",
    "        self.max_iter = max_iter            # iteration bound\n",
    "        self.report_period = report_period  # how many iterations before a callback print.\n",
    "        self.report_thetas = report_thetas  # whether to show the paramneter vector at the callback print\n",
    "        self.exact_result = exact_result    # the exact result that we compare ourselves to.\n",
    "\n",
    "\n",
    "def get_standard_params(n_qubits: int) -> Parameters:\n",
    "    return Parameters(n_qubits=n_qubits, n_layers=5, optimizer='COBYLA', tol=1e-6, success_bound=1e-3, max_iter=1000, report_period=20, report_thetas=False)"
   ]
  },
  {
   "cell_type": "code",
   "execution_count": 38,
   "metadata": {},
   "outputs": [],
   "source": [
    "def run_vqe_experiment(hamiltonian: SparsePauliOp, ansatz: QuantumCircuit, initial_state: QuantumCircuit, params: Parameters) -> tuple[int, float, bool]:\n",
    "    # preparing the VQE components\n",
    "    estimator_obj = Estimator()  # Internal qiskit structure\n",
    "    optimizer_obj = None\n",
    "    if params.optimizer == 'COBYLA':\n",
    "        optimizer_obj = COBYLA(\n",
    "            maxiter = 1000, \\\n",
    "            tol = params.tol \\\n",
    "        )\n",
    "    elif params.optimizer == 'BFGS':\n",
    "        optimizer_obj = COBYLA(\n",
    "            maxiter = 1000, \\\n",
    "            tol = params.tol \\\n",
    "        )\n",
    "    else:\n",
    "        raise Exception('Optimizer not supported in this experiment!~')\n",
    "    ansatz_with_prepened_mub = initial_state.compose(ansatz, range(ansatz.num_qubits), inplace=False)\n",
    "    # enforcing the success bound\n",
    "    class BoundHitException(Exception):\n",
    "        def __init__(self, n_evals, final_cost):\n",
    "            self.n_evals = n_evals\n",
    "            self.final_cost = final_cost\n",
    "    def callback(eval_count: int, theta: np.ndarray, cost: float, metadata: dict) -> None:\n",
    "        if params.exact_result is None:\n",
    "            return\n",
    "        if (eval_count % params.report_period == 0):\n",
    "            print(f\"{eval_count}: {cost}\")\n",
    "            if (params.report_thetas):\n",
    "                print(f\"thetas: {theta}\")\n",
    "        if (cost < params.exact_result + params.success_bound):\n",
    "            raise BoundHitException(eval_count, cost)\n",
    "    \n",
    "    try:\n",
    "        vqe_obj = VQE(estimator=estimator_obj, ansatz=ansatz_with_prepened_mub, optimizer=optimizer_obj, callback=callback, initial_point = [0.0]*ansatz.num_parameters)\n",
    "        res = vqe_obj.compute_minimum_eigenvalue(operator=hamiltonian)\n",
    "        return res.cost_function_evals, res.optimal_value, False\n",
    "    except BoundHitException as e:\n",
    "        return e.n_evals, e.final_cost, True"
   ]
  },
  {
   "cell_type": "markdown",
   "metadata": {},
   "source": [
    "## Combined Example\n",
    "\n",
    "Generate an operator, fins its landscape and histogram, then run VQE from the best 5 examples."
   ]
  },
  {
   "cell_type": "code",
   "execution_count": 42,
   "metadata": {},
   "outputs": [
    {
     "name": "stdout",
     "output_type": "stream",
     "text": [
      "Energy Landscape:\n"
     ]
    },
    {
     "data": {
      "image/png": "[encoded data removed]",
      "text/plain": [
       "<Figure size 800x500 with 1 Axes>"
      ]
     },
     "metadata": {},
     "output_type": "display_data"
    },
    {
     "name": "stdout",
     "output_type": "stream",
     "text": [
      "Energy Histogram:\n"
     ]
    },
    {
     "data": {
      "image/png": "[encoded data removed]",
      "text/plain": [
       "<Figure size 800x500 with 1 Axes>"
      ]
     },
     "metadata": {},
     "output_type": "display_data"
    },
    {
     "name": "stdout",
     "output_type": "stream",
     "text": [
      "running from point with value -0.6624327278\n",
      "(45, -0.6855297011179687, True)\n",
      "-0.6944168033838574\n",
      "running from point with value -0.2378414339\n",
      "100: -0.6335402901210525\n",
      "(157, -0.6850883152332364, True)\n",
      "-0.6944168033838574\n",
      "running from point with value -0.2378414339\n",
      "100: -0.6646315958459976\n",
      "(126, -0.6847503423741292, True)\n",
      "-0.6944168033838574\n",
      "running from point with value -0.2208109093\n",
      "100: -0.3855295717090962\n",
      "200: -0.6141161608954717\n",
      "(291, -0.6868847784513488, True)\n",
      "-0.6944168033838574\n",
      "running from point with value -0.2208109093\n",
      "100: -0.5905620863500585\n",
      "(151, -0.6846271309209551, True)\n",
      "-0.6944168033838574\n"
     ]
    }
   ],
   "source": [
    "# generate operator\n",
    "n_qubits = 3\n",
    "n_mub_qubits = 3\n",
    "x_coeff = random.uniform(0,1)\n",
    "zz_coeff = random.uniform(0,1)\n",
    "op = gen_trans_ising_op(n_qubits, x_coeff, zz_coeff)\n",
    "exact_result = get_exact_ground(op)\n",
    "\n",
    "ansatz = TwoLocal(3, ['rx', 'ry', 'rz'], 'cx', 'linear', reps=3, insert_barriers=True).decompose()\n",
    "zeroset_anastz = ansatz.assign_parameters([0.0]*ansatz.num_parameters)\n",
    "\n",
    "# calculate landscape and graphs\n",
    "results = calculate_energy_landscape(op, n_mub_qubits, generate_all_subsets(n_mub_qubits, n_qubits), appended_ansatz=zeroset_anastz)\n",
    "exact_result = get_exact_ground(op)\n",
    "print(\"Energy Landscape:\")\n",
    "display_energy_landscape(results, exact_result=exact_result)\n",
    "print(\"Energy Histogram:\")\n",
    "display_energy_histogram(results, exact_result=exact_result)\n",
    "\n",
    "# run VQE from the best 5 examples\n",
    "params = get_standard_params(n_qubits)\n",
    "params.success_bound = 1e-2\n",
    "params.exact_result = exact_result\n",
    "params.optimizer = 'BFGS'\n",
    "params.report_period=100\n",
    "params.report_thetas=False\n",
    "for initial_state, value in find_k_best_results(results, 5):\n",
    "    print(f\"running from point with value {value}\")\n",
    "    print(run_vqe_experiment(op, ansatz, initial_state, params))\n",
    "    print(params.exact_result)"
   ]
  },
  {
   "cell_type": "markdown",
   "metadata": {},
   "source": [
    "## Example: generate operator, calculate landscape, show results"
   ]
  },
  {
   "cell_type": "code",
   "execution_count": 16,
   "metadata": {},
   "outputs": [
    {
     "name": "stdout",
     "output_type": "stream",
     "text": [
      "     ┌───────┐ ░            ░ ┌───────┐ ░            ░ ┌───────┐\n",
      "q_0: ┤ Ry(0) ├─░───■────────░─┤ Ry(0) ├─░───■────────░─┤ Ry(0) ├\n",
      "     ├───────┤ ░ ┌─┴─┐      ░ ├───────┤ ░ ┌─┴─┐      ░ ├───────┤\n",
      "q_1: ┤ Ry(0) ├─░─┤ X ├──■───░─┤ Ry(0) ├─░─┤ X ├──■───░─┤ Ry(0) ├\n",
      "     ├───────┤ ░ └───┘┌─┴─┐ ░ ├───────┤ ░ └───┘┌─┴─┐ ░ ├───────┤\n",
      "q_2: ┤ Ry(0) ├─░──────┤ X ├─░─┤ Ry(0) ├─░──────┤ X ├─░─┤ Ry(0) ├\n",
      "     └───────┘ ░      └───┘ ░ └───────┘ ░      └───┘ ░ └───────┘\n",
      "attempting all MUB states over the operator SparsePauliOp(['ZZI', 'IZZ', 'XII', 'IXI', 'IIX'],\n",
      "              coeffs=[0.28773921+0.j, 0.28773921+0.j, 0.36427212+0.j, 0.36427212+0.j,\n",
      " 0.36427212+0.j])\n"
     ]
    }
   ],
   "source": [
    "n_qubits = 3\n",
    "n_mub_qubits = 3\n",
    "\n",
    "zz_coeff = random.uniform(0,1)\n",
    "x_coeff = random.uniform(0,1)\n",
    "op = gen_trans_ising_op(n_qubits, zz_coeff, x_coeff)\n",
    "ansatz = TwoLocal(3, 'ry', 'cx', 'linear', reps=2, insert_barriers=True).decompose()\n",
    "zeroset_anastz = ansatz.assign_parameters([0.0]*ansatz.num_parameters)\n",
    "print(zeroset_anastz)\n",
    "print(f\"attempting all MUB states over the operator {op}\")\n",
    "results = calculate_energy_landscape(op, n_mub_qubits, generate_all_subsets(n_mub_qubits, n_qubits), appended_ansatz=zeroset_anastz)\n",
    "exact_result = get_exact_ground(op)"
   ]
  },
  {
   "cell_type": "code",
   "execution_count": 17,
   "metadata": {},
   "outputs": [
    {
     "data": {
      "image/png": "[encoded data removed]",
      "text/plain": [
       "<Figure size 800x500 with 1 Axes>"
      ]
     },
     "metadata": {},
     "output_type": "display_data"
    }
   ],
   "source": [
    "display_energy_histogram(results, exact_result, graph_title=f\"{n_qubits} qubits, {n_mub_qubits}-qubit MUBS, transverse-ising.\", bins=200)"
   ]
  },
  {
   "cell_type": "code",
   "execution_count": 18,
   "metadata": {},
   "outputs": [
    {
     "data": {
      "image/png": "[encoded data removed]",
      "text/plain": [
       "<Figure size 800x500 with 1 Axes>"
      ]
     },
     "metadata": {},
     "output_type": "display_data"
    }
   ],
   "source": [
    "display_energy_landscape(results, exact_result, graph_title=f\"{n_qubits} qubits, {n_mub_qubits}-qubit MUBS, transverse-ising.\")"
   ]
  },
  {
   "cell_type": "markdown",
   "metadata": {},
   "source": [
    "## Convincing results\n",
    "What results dfo I want o show Tal and Dekel so they'll be convicned that what I did here shows anything?\n",
    "\n",
    "1.  Show that when genrating 3-qubit full-MUB states using Trasnverse Ising, the best starting points are *clearly* not in the comp. basis.\n",
    "    Do so by giving 2-3 examples of such generated Hamiltonians.\n",
    "\n",
    "2.  Show that the rest of the results bunch around a VERY specific area in the cost, perhaps indicating a BP.\n",
    "    Another, more pessimistic way to see this is that MUBs only give an advantage in a very small number of cases.\n",
    "    Use the same graphs.\n",
    "\n",
    "3.  Show that when we do Half-MUBs, the answers drastically drift away from the correct result. However, non-comps still lead to victory.\n",
    "    Do so by giving 4-5 graphs with increasing qubit count, showing the distinct difference."
   ]
  },
  {
   "cell_type": "code",
   "execution_count": null,
   "metadata": {},
   "outputs": [],
   "source": [
    "# 3-qubit experiments\n",
    "n_qubits = 3\n",
    "n_mub_qubits = 3\n",
    "\n",
    "for _ in range(3):  # Three examples\n",
    "    zz_coeff = random.uniform(0,1)\n",
    "    x_coeff = random.uniform(0,1)\n",
    "    op = gen_trans_ising_op(n_qubits, zz_coeff, x_coeff)\n",
    "    print(f\"attempting all MUB states over the operator {op}\")\n",
    "    results = calculate_energy_landscape(op, n_mub_qubits, generate_all_subsets(n_mub_qubits, n_qubits))\n",
    "    exact_result = get_exact_ground(op)\n",
    "    print(\"Energy Landscape:\")\n",
    "    display_energy_landscape(results, exact_result=exact_result)\n",
    "    print(\"Energy Histogram:\")\n",
    "    display_energy_histogram(results, exact_result=exact_result)"
   ]
  },
  {
   "cell_type": "code",
   "execution_count": null,
   "metadata": {},
   "outputs": [],
   "source": [
    "# half-MUB experiments\n",
    "n_mub_qubits = 3\n",
    "zz_coeff = random.uniform(0,1)\n",
    "x_coeff = random.uniform(0,1)\n",
    "\n",
    "for n_qubits in range(4,8):  # Three examples\n",
    "\n",
    "    op = gen_trans_ising_op(n_qubits, zz_coeff, x_coeff)\n",
    "    print(f\"attempting all MUB states over the operator {op}\")\n",
    "    results = calculate_energy_landscape(op, n_mub_qubits, generate_all_subsets(n_mub_qubits, n_qubits))\n",
    "    exact_result = get_exact_ground(op)\n",
    "    print(\"Energy Landscape:\")\n",
    "    display_energy_landscape(results, exact_result=exact_result)\n",
    "    print(\"Energy Histogram:\")\n",
    "    display_energy_histogram(results, exact_result=exact_result)"
   ]
  },
  {
   "cell_type": "markdown",
   "metadata": {},
   "source": [
    "### Unified results: partial-MUB with $\\ket{0}$ vs. $\\ket{+}$\n",
    "Here, I run the same experiment with a bit less qubits, but use both options forn qubits not involved in the MUB state itself.\n",
    "1.  Put it in $\\ket{0}$, the trivial option.\n",
    "2.  Put it in $\\ket{+}$, the other option Dekel found to be rather successful."
   ]
  },
  {
   "cell_type": "code",
   "execution_count": null,
   "metadata": {},
   "outputs": [],
   "source": [
    "# half-MUB experiments\n",
    "n_mub_qubits = 3\n",
    "zz_coeff = random.uniform(0,1)\n",
    "x_coeff = random.uniform(0,1)\n",
    "\n",
    "print(\"THE ZERO EXPERIMENTS START\")\n",
    "for n_qubits in range(4,7):  # Three examples\n",
    "    op = gen_trans_ising_op(n_qubits, zz_coeff, x_coeff)\n",
    "    print(f\"attempting all MUB states over the operator {op}\")\n",
    "    print(\"========ZERO VERSION=========\")\n",
    "    results = calculate_energy_landscape(op, n_mub_qubits, generate_all_subsets(n_mub_qubits, n_qubits))\n",
    "    exact_result = get_exact_ground(op)\n",
    "    print(\"Energy Landscape:\")\n",
    "    display_energy_landscape(results, exact_result=exact_result)\n",
    "    print(\"Energy Histogram:\")\n",
    "    display_energy_histogram(results, exact_result=exact_result)\n",
    "    print(\"========PLUS VERSION=========\")\n",
    "    results = calculate_energy_landscape(op, n_mub_qubits, generate_all_subsets(n_mub_qubits, n_qubits), plus_for_non_mub=True)\n",
    "    exact_result = get_exact_ground(op)\n",
    "    print(\"Energy Landscape:\")\n",
    "    display_energy_landscape(results, exact_result=exact_result)\n",
    "    print(\"Energy Histogram:\")\n",
    "    display_energy_histogram(results, exact_result=exact_result)\n",
    "    print(\"==============END============\")\n"
   ]
  }
 ],
 "metadata": {
  "kernelspec": {
   "display_name": "Python 3",
   "language": "python",
   "name": "python3"
  },
  "language_info": {
   "codemirror_mode": {
    "name": "ipython",
    "version": 3
   },
   "file_extension": ".py",
   "mimetype": "text/x-python",
   "name": "python",
   "nbconvert_exporter": "python",
   "pygments_lexer": "ipython3",
   "version": "3.12.0"
  }
 },
 "nbformat": 4,
 "nbformat_minor": 2
}
