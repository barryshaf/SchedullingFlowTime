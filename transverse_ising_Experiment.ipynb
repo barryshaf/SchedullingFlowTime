{
 "cells": [
  {
   "cell_type": "markdown",
   "metadata": {},
   "source": [
    "## Imports"
   ]
  },
  {
   "cell_type": "code",
   "execution_count": 1,
   "metadata": {},
   "outputs": [],
   "source": [
    "import qiskit\n",
    "from qiskit.quantum_info import states\n",
    "from qiskit_nature.second_q import hamiltonians, operators\n",
    "from qiskit_nature.second_q.hamiltonians import lattices \n",
    "from qiskit_nature.second_q.hamiltonians.lattices.boundary_condition import BoundaryCondition\n",
    "from qiskit.circuit import QuantumCircuit\n",
    "from qiskit.circuit.instruction import Instruction\n",
    "import numpy as np\n",
    "from numpy.linalg import eig, norm\n",
    "import random\n",
    "\n",
    "from itertools import combinations, chain"
   ]
  },
  {
   "cell_type": "code",
   "execution_count": 2,
   "metadata": {},
   "outputs": [],
   "source": [
    "NUM_STATES_2_QUBITS = 4\n",
    "NUM_MUBS_2_QUBITS = 5\n",
    "NUM_STATES_3_QUITS = 8\n",
    "NUM_MUBS_3_QUBTIS = 9"
   ]
  },
  {
   "cell_type": "markdown",
   "metadata": {},
   "source": [
    "## Generate transverse-field Ising operator\n",
    "\n",
    "currently using the lattice and hamiltonian modules from the qiskit_nature.second_q modules.\n",
    "I'm not entirely sure why they consider all of this second quantization since we're dealing exclusively with spins, but then again, this is IBM.\n",
    "They're not exactly known for well-documented or reasonably-organized APIs.\n",
    "\n",
    "The `HeisenbergModel` module generates the same coupling between each pair in the lattice (on a given vector) and another single-site term.\n",
    "The transverse-field ising model is a special case of that: the interaction term is ZZ, and the external field is X."
   ]
  },
  {
   "cell_type": "code",
   "execution_count": 3,
   "metadata": {},
   "outputs": [],
   "source": [
    "def gen_trans_ising_op(num_qubits: int, zz_coeff: float, x_coeff: float) -> operators.SpinOp:\n",
    "    lattice = lattices.LineLattice(num_nodes=num_qubits, boundary_condition=BoundaryCondition.OPEN)\n",
    "    transverse_ham = hamiltonians.HeisenbergModel(lattice=lattice, coupling_constants=(0,0,zz_coeff), ext_magnetic_field=(x_coeff,0,0))\n",
    "    return transverse_ham.second_q_op()"
   ]
  },
  {
   "cell_type": "markdown",
   "metadata": {},
   "source": [
    "## Get exact answers"
   ]
  },
  {
   "cell_type": "code",
   "execution_count": 4,
   "metadata": {},
   "outputs": [],
   "source": [
    "def get_exact_ground(op: operators.SpinOp) -> tuple[np.float64, np.ndarray]:\n",
    "    eig_res = eig(op.to_matrix())\n",
    "    return eig_res.eigenvalues[0].real, eig_res.eigenvectors[0]"
   ]
  },
  {
   "cell_type": "code",
   "execution_count": 5,
   "metadata": {},
   "outputs": [
    {
     "name": "stdout",
     "output_type": "stream",
     "text": [
      "(2.0941996592125895, array([ 3.57322751e-01+0.j,  1.68874614e-01+0.j,  5.64634443e-01+0.j,\n",
      "       -9.12210101e-02-0.j, -1.45718492e-01+0.j,  5.59314244e-01+0.j,\n",
      "        3.89400557e-01+0.j, -8.71088007e-02-0.j, -1.02082419e-01-0.j,\n",
      "        1.13844761e-01-0.j,  3.19146540e-17+0.j,  1.45417952e-16-0.j,\n",
      "       -1.31501084e-16+0.j, -1.97452946e-16+0.j,  1.80473133e-17-0.j,\n",
      "       -9.64668283e-18+0.j]))\n"
     ]
    }
   ],
   "source": [
    "print(get_exact_ground(gen_trans_ising_op(4,1,1)))"
   ]
  },
  {
   "cell_type": "markdown",
   "metadata": {},
   "source": [
    "## Get expectation value over specific state-vector"
   ]
  },
  {
   "cell_type": "code",
   "execution_count": 6,
   "metadata": {},
   "outputs": [],
   "source": [
    "def get_expectation_value(state: states.Statevector, op: operators.SpinOp) -> np.float64:\n",
    "    return np.round(state.expectation_value(op).real, 10)"
   ]
  },
  {
   "cell_type": "markdown",
   "metadata": {},
   "source": [
    "### Generate example statevector"
   ]
  },
  {
   "cell_type": "code",
   "execution_count": 7,
   "metadata": {},
   "outputs": [
    {
     "name": "stdout",
     "output_type": "stream",
     "text": [
      "0.75\n"
     ]
    }
   ],
   "source": [
    "op = gen_trans_ising_op(4,1,1)\n",
    "state = states.Statevector.from_instruction(QuantumCircuit(4))\n",
    "print(get_expectation_value(state, op))"
   ]
  },
  {
   "cell_type": "markdown",
   "metadata": {},
   "source": [
    "## Generate MUB statevectors\n",
    "This is done using Dekel's current notebook code.\n",
    "The code is, for lack of a better word, bad.\n",
    "I will attempt to prepare it in a cleaner and more robust way.\n",
    "But for now, let's check that the most basic way still works."
   ]
  },
  {
   "cell_type": "code",
   "execution_count": 8,
   "metadata": {},
   "outputs": [],
   "source": [
    "# Adds Y-Hadamard gate on qubit q in circ\n",
    "def yh(circ, q):\n",
    "    circ.h(q)\n",
    "    circ.s(q)\n",
    "\n",
    "def prep_MUB(circ, state_idx, mub_idx, qubit_subset = [0,1]):\n",
    "    assert len(qubit_subset) == 2\n",
    "    assert (0 <= state_idx <= 3)\n",
    "    assert (0 <= mub_idx <= 4)\n",
    "    # state_idx chooses the state in the basis (MUB)\n",
    "    if state_idx == 1:\n",
    "        circ.x(qubit_subset[0])\n",
    "    elif state_idx == 2:\n",
    "        circ.x(qubit_subset[1])\n",
    "    elif state_idx == 3:\n",
    "        circ.x(qubit_subset[0])\n",
    "        circ.x(qubit_subset[1])\n",
    "        \n",
    "    # mub_idx chooses the basis (MUB) itself\n",
    "    if mub_idx == 1:\n",
    "        circ.h(qubit_subset[0])\n",
    "        circ.h(qubit_subset[1])\n",
    "    elif mub_idx == 2:\n",
    "        circ.h(qubit_subset[0])\n",
    "        yh(circ,qubit_subset[1])\n",
    "        circ.cz(qubit_subset[0], qubit_subset[1])\n",
    "    elif mub_idx == 3:\n",
    "        yh(circ,qubit_subset[0])\n",
    "        yh(circ,qubit_subset[1])\n",
    "    elif mub_idx == 4:\n",
    "        yh(circ,qubit_subset[0])\n",
    "        circ.h(qubit_subset[1])\n",
    "        circ.cz(qubit_subset[0], qubit_subset[1])\n",
    "        \n",
    "def prep_MUB3(circ, state_idx, mub_idx, qubit_subset = [0,1,2]):\n",
    "    # state_idx chooses the state in the basis (MUB)\n",
    "    if state_idx == 1:\n",
    "        circ.x(qubit_subset[0])\n",
    "    elif state_idx == 2:\n",
    "        circ.x(qubit_subset[1])\n",
    "    elif state_idx == 3:\n",
    "        circ.x(qubit_subset[0])\n",
    "        circ.x(qubit_subset[1])\n",
    "    elif state_idx == 4:\n",
    "        circ.x(qubit_subset[2])\n",
    "    elif state_idx == 5:\n",
    "        circ.x(qubit_subset[0])\n",
    "        circ.x(qubit_subset[2])\n",
    "    elif state_idx == 6:\n",
    "        circ.x(qubit_subset[1])\n",
    "        circ.x(qubit_subset[2])\n",
    "    elif state_idx == 7:\n",
    "        circ.x(qubit_subset[0])\n",
    "        circ.x(qubit_subset[1])\n",
    "        circ.x(qubit_subset[2])\n",
    "    \n",
    "    # mub_idx chooses the basis (MUB) itself\n",
    "    if mub_idx == 1:\n",
    "        circ.h(qubit_subset[0])\n",
    "        circ.h(qubit_subset[1])\n",
    "        circ.h(qubit_subset[2])\n",
    "    elif mub_idx == 2:\n",
    "        yh(circ, qubit_subset[0])\n",
    "        yh(circ, qubit_subset[1])\n",
    "        yh(circ, qubit_subset[2])\n",
    "    elif mub_idx == 3:\n",
    "        yh(circ, qubit_subset[0])\n",
    "        circ.h(qubit_subset[1])\n",
    "        circ.h(qubit_subset[2])\n",
    "        circ.cz(qubit_subset[1], qubit_subset[2])\n",
    "        circ.cz(qubit_subset[0], qubit_subset[1])\n",
    "    elif mub_idx == 4:\n",
    "        circ.h(qubit_subset[0])\n",
    "        yh(circ, qubit_subset[1])\n",
    "        circ.h(qubit_subset[2])\n",
    "        circ.cz(qubit_subset[1], qubit_subset[2])\n",
    "        circ.cz(qubit_subset[0], qubit_subset[2])\n",
    "    elif mub_idx == 5:\n",
    "        circ.h(qubit_subset[0])\n",
    "        circ.h(qubit_subset[1])\n",
    "        yh(circ, qubit_subset[2])\n",
    "        circ.cz(qubit_subset[0], qubit_subset[1])\n",
    "        circ.cz(qubit_subset[0], qubit_subset[2])\n",
    "    elif mub_idx == 6:\n",
    "        yh(circ, qubit_subset[0])\n",
    "        yh(circ, qubit_subset[1])\n",
    "        circ.h(qubit_subset[2])\n",
    "        circ.cz(qubit_subset[0], qubit_subset[1])\n",
    "        circ.cz(qubit_subset[0], qubit_subset[2])\n",
    "    elif mub_idx == 7:\n",
    "        yh(circ, qubit_subset[0])\n",
    "        circ.h(qubit_subset[1])\n",
    "        yh(circ, qubit_subset[2])\n",
    "        circ.cz(qubit_subset[1], qubit_subset[2])\n",
    "        circ.cz(qubit_subset[0], qubit_subset[2])\n",
    "    elif mub_idx == 8:\n",
    "        circ.h(qubit_subset[0])\n",
    "        yh(circ, qubit_subset[1])\n",
    "        yh(circ, qubit_subset[2])\n",
    "        circ.cz(qubit_subset[0], qubit_subset[1])\n",
    "        circ.cz(qubit_subset[1], qubit_subset[2])"
   ]
  },
  {
   "cell_type": "markdown",
   "metadata": {},
   "source": [
    "The field `state_idx` chooses the state *inside* the MUB.  \n",
    "The field `mub_idx` chooses the basis.   \n",
    "The field `qubit_subset` chooses the subset of qubit_subset over which to generate the MUB state.   "
   ]
  },
  {
   "cell_type": "code",
   "execution_count": 9,
   "metadata": {},
   "outputs": [],
   "source": [
    "def create_MUB_state(state_idx, mub_idx, num_qubits, qubit_subset):\n",
    "    circuit = QuantumCircuit(num_qubits)\n",
    "    if len(qubit_subset) == 2:\n",
    "        prep_MUB(circuit, state_idx, mub_idx, qubit_subset)\n",
    "    elif len(qubit_subset) == 3:\n",
    "        prep_MUB3(circuit, state_idx, mub_idx, qubit_subset)\n",
    "    else:\n",
    "        raise Exception(\"We do not support this size of MUB states.\")\n",
    "    state = states.Statevector.from_instruction(circuit)\n",
    "    return state"
   ]
  },
  {
   "cell_type": "markdown",
   "metadata": {},
   "source": [
    "# Attempt all states over a hamiltonian"
   ]
  },
  {
   "cell_type": "code",
   "execution_count": 10,
   "metadata": {},
   "outputs": [],
   "source": [
    "def try_all_mub_states_textual(op:operators.SpinOp, num_qubits: int=3):\n",
    "    for i in range(0,5):\n",
    "        for j in range(0,4):\n",
    "            state = create_MUB_state(j,i,num_qubits,list(range(num_qubits)))\n",
    "            value = get_expectation_value(state, op)\n",
    "            print(f\"trying state ({state}), expectation value is {value}\")"
   ]
  },
  {
   "cell_type": "markdown",
   "metadata": {},
   "source": [
    "## Result heirarchy\n",
    "The list heirarchy is defined by the following indexes, in this order:\n",
    "1. MUB used.\n",
    "2. Subset of qubits on which this MUB was applied.\n",
    "3. The specific MUB states."
   ]
  },
  {
   "cell_type": "code",
   "execution_count": 17,
   "metadata": {},
   "outputs": [],
   "source": [
    "def calculate_energy_landscape(op: operators.SpinOp, n_mub_qubits: int, subset_list: list[tuple]) -> list[list[list]]:\n",
    "    num_states = num_mubs = 0\n",
    "    if n_mub_qubits == 2:\n",
    "        num_states = NUM_STATES_2_QUBITS\n",
    "        num_mubs = NUM_MUBS_2_QUBITS\n",
    "    elif n_mub_qubits == 3:\n",
    "        num_states = NUM_STATES_3_QUITS\n",
    "        num_mubs = NUM_MUBS_3_QUBTIS\n",
    "    else:\n",
    "        raise Exception(\"We do not support this size of MUB states.\")\n",
    "\n",
    "    total_res = []\n",
    "    for mub_idx in range(num_mubs):\n",
    "        mub_res = []\n",
    "        for subset in subset_list:\n",
    "            subset_res = []\n",
    "            for state_idx in range(num_states):\n",
    "                state = create_MUB_state(state_idx, mub_idx, op.num_spins, subset)\n",
    "                res = get_expectation_value(state, op)\n",
    "                subset_res.append(res)\n",
    "            mub_res.append(subset_res)\n",
    "        total_res.append(mub_res)\n",
    "\n",
    "def flatten_results(results):\n",
    "    return list(chain.from_iterable(chain.from_iterable(results)))"
   ]
  },
  {
   "cell_type": "code",
   "execution_count": 21,
   "metadata": {},
   "outputs": [
    {
     "name": "stdout",
     "output_type": "stream",
     "text": [
      "attempting all MUB states over the operator Spin Operator\n",
      "spin=1/2, number spins=2, number terms=1\n",
      "  71 * ( Z_0 Z_1 )\n"
     ]
    },
    {
     "ename": "AttributeError",
     "evalue": "'SpinOp' object has no attribute 'expectation_value'",
     "output_type": "error",
     "traceback": [
      "\u001b[1;31m---------------------------------------------------------------------------\u001b[0m",
      "\u001b[1;31mAttributeError\u001b[0m                            Traceback (most recent call last)",
      "\u001b[1;32md:\\Documents\\repos\\Quantum-exhaustive-search\\transverse_ising_Experiment.ipynb Cell 21\u001b[0m line \u001b[0;36m7\n\u001b[0;32m      <a href='vscode-notebook-cell:/d%3A/Documents/repos/Quantum-exhaustive-search/transverse_ising_Experiment.ipynb#X25sZmlsZQ%3D%3D?line=4'>5</a>\u001b[0m op \u001b[39m=\u001b[39m gen_trans_ising_op(\u001b[39m2\u001b[39m, zz_coeff, x_coeff)\n\u001b[0;32m      <a href='vscode-notebook-cell:/d%3A/Documents/repos/Quantum-exhaustive-search/transverse_ising_Experiment.ipynb#X25sZmlsZQ%3D%3D?line=5'>6</a>\u001b[0m \u001b[39mprint\u001b[39m(\u001b[39mf\u001b[39m\u001b[39m\"\u001b[39m\u001b[39mattempting all MUB states over the operator \u001b[39m\u001b[39m{\u001b[39;00mop\u001b[39m}\u001b[39;00m\u001b[39m\"\u001b[39m)\n\u001b[1;32m----> <a href='vscode-notebook-cell:/d%3A/Documents/repos/Quantum-exhaustive-search/transverse_ising_Experiment.ipynb#X25sZmlsZQ%3D%3D?line=6'>7</a>\u001b[0m \u001b[39mprint\u001b[39m(calculate_energy_landscape(op, \u001b[39m2\u001b[39;49m, [(\u001b[39m0\u001b[39;49m,\u001b[39m1\u001b[39;49m)]))\n",
      "\u001b[1;32md:\\Documents\\repos\\Quantum-exhaustive-search\\transverse_ising_Experiment.ipynb Cell 21\u001b[0m line \u001b[0;36m1\n\u001b[0;32m     <a href='vscode-notebook-cell:/d%3A/Documents/repos/Quantum-exhaustive-search/transverse_ising_Experiment.ipynb#X25sZmlsZQ%3D%3D?line=16'>17</a>\u001b[0m \u001b[39mfor\u001b[39;00m state_idx \u001b[39min\u001b[39;00m \u001b[39mrange\u001b[39m(num_states):\n\u001b[0;32m     <a href='vscode-notebook-cell:/d%3A/Documents/repos/Quantum-exhaustive-search/transverse_ising_Experiment.ipynb#X25sZmlsZQ%3D%3D?line=17'>18</a>\u001b[0m     state \u001b[39m=\u001b[39m create_MUB_state(state_idx, mub_idx, op\u001b[39m.\u001b[39mnum_spins, subset)\n\u001b[1;32m---> <a href='vscode-notebook-cell:/d%3A/Documents/repos/Quantum-exhaustive-search/transverse_ising_Experiment.ipynb#X25sZmlsZQ%3D%3D?line=18'>19</a>\u001b[0m     res \u001b[39m=\u001b[39m get_expectation_value(op, state)\n\u001b[0;32m     <a href='vscode-notebook-cell:/d%3A/Documents/repos/Quantum-exhaustive-search/transverse_ising_Experiment.ipynb#X25sZmlsZQ%3D%3D?line=19'>20</a>\u001b[0m     subset_res\u001b[39m.\u001b[39mappend(res)\n\u001b[0;32m     <a href='vscode-notebook-cell:/d%3A/Documents/repos/Quantum-exhaustive-search/transverse_ising_Experiment.ipynb#X25sZmlsZQ%3D%3D?line=20'>21</a>\u001b[0m mub_res\u001b[39m.\u001b[39mappend(subset_res)\n",
      "\u001b[1;32md:\\Documents\\repos\\Quantum-exhaustive-search\\transverse_ising_Experiment.ipynb Cell 21\u001b[0m line \u001b[0;36m2\n\u001b[0;32m      <a href='vscode-notebook-cell:/d%3A/Documents/repos/Quantum-exhaustive-search/transverse_ising_Experiment.ipynb#X25sZmlsZQ%3D%3D?line=0'>1</a>\u001b[0m \u001b[39mdef\u001b[39;00m \u001b[39mget_expectation_value\u001b[39m(state: states\u001b[39m.\u001b[39mStatevector, op: operators\u001b[39m.\u001b[39mSpinOp) \u001b[39m-\u001b[39m\u001b[39m>\u001b[39m np\u001b[39m.\u001b[39mfloat64:\n\u001b[1;32m----> <a href='vscode-notebook-cell:/d%3A/Documents/repos/Quantum-exhaustive-search/transverse_ising_Experiment.ipynb#X25sZmlsZQ%3D%3D?line=1'>2</a>\u001b[0m     \u001b[39mreturn\u001b[39;00m np\u001b[39m.\u001b[39mround(state\u001b[39m.\u001b[39;49mexpectation_value(op)\u001b[39m.\u001b[39mreal, \u001b[39m10\u001b[39m)\n",
      "\u001b[1;31mAttributeError\u001b[0m: 'SpinOp' object has no attribute 'expectation_value'"
     ]
    }
   ],
   "source": [
    "# MY CODE!\n",
    "for _ in range(10):\n",
    "    zz_coeff = random.randint(0,100)\n",
    "    x_coeff = random.randint(0,100)\n",
    "    op = gen_trans_ising_op(2, zz_coeff, x_coeff)\n",
    "    print(f\"attempting all MUB states over the operator {op}\")\n",
    "    print(calculate_energy_landscape(op, 2, [(0,1)]))\n"
   ]
  },
  {
   "cell_type": "code",
   "execution_count": 71,
   "metadata": {},
   "outputs": [],
   "source": [
    "def calculate_energy_landscape(pair_list, qubit_op, offset):\n",
    "    qubit_mapping_res = []\n",
    "    for mapping in pair_list:\n",
    "        MUBs_3qubits = []\n",
    "        for mat_b in range(9):\n",
    "            MUBs_3qubits.append([])\n",
    "            for state_idx in range(8):\n",
    "                circuit = QuantumCircuit(qubit_op.num_qubits)\n",
    "                prep_MUB3(circuit, state_idx, mat_b, mapping)\n",
    "                state = states.Statevector.from_instruction(circuit)\n",
    "                mub_cost = compute_cost_function(qubit_op, offset, state)\n",
    "                MUBs_3qubits[-1].append(np.abs(mub_cost))\n",
    "        qubit_mapping_res.append(MUBs_3qubits)\n",
    "    return qubit_mapping_res\n",
    "\n",
    "def flatten_resutls(results):\n",
    "    flatten_results = []\n",
    "    for mapping_res in results:\n",
    "        for MUB_basis in mapping_res:\n",
    "            for MUB_element in MUB_basis:\n",
    "                flatten_results.append(MUB_element)\n",
    "    return flatten_results"
   ]
  },
  {
   "cell_type": "code",
   "execution_count": 16,
   "metadata": {},
   "outputs": [
    {
     "name": "stdout",
     "output_type": "stream",
     "text": [
      "Help on built-in function from_iterable:\n",
      "\n",
      "from_iterable(iterable, /) method of builtins.type instance\n",
      "    Alternative chain() constructor taking a single iterable argument that evaluates lazily.\n",
      "\n"
     ]
    }
   ],
   "source": []
  },
  {
   "cell_type": "code",
   "execution_count": null,
   "metadata": {},
   "outputs": [],
   "source": []
  }
 ],
 "metadata": {
  "kernelspec": {
   "display_name": "Python 3",
   "language": "python",
   "name": "python3"
  },
  "language_info": {
   "codemirror_mode": {
    "name": "ipython",
    "version": 3
   },
   "file_extension": ".py",
   "mimetype": "text/x-python",
   "name": "python",
   "nbconvert_exporter": "python",
   "pygments_lexer": "ipython3",
   "version": "3.12.0"
  }
 },
 "nbformat": 4,
 "nbformat_minor": 2
}
