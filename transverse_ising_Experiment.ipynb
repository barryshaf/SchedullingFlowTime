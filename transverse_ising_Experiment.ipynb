{
 "cells": [
  {
   "cell_type": "markdown",
   "metadata": {},
   "source": [
    "## Imports"
   ]
  },
  {
   "cell_type": "code",
   "execution_count": 1,
   "metadata": {},
   "outputs": [],
   "source": [
    "import qiskit\n",
    "from qiskit.quantum_info import states\n",
    "from qiskit_nature.second_q import hamiltonians, operators\n",
    "from qiskit_nature.second_q.hamiltonians import lattices \n",
    "from qiskit_nature.second_q.hamiltonians.lattices.boundary_condition import BoundaryCondition\n",
    "from qiskit.circuit import QuantumCircuit\n",
    "from qiskit.circuit.instruction import Instruction\n",
    "\n",
    "import numpy as np\n",
    "from numpy.linalg import eig, norm\n",
    "import random\n",
    "import matplotlib.pyplot as plt\n",
    "from itertools import combinations, chain"
   ]
  },
  {
   "cell_type": "code",
   "execution_count": 2,
   "metadata": {},
   "outputs": [],
   "source": [
    "NUM_STATES_2_QUBITS = 4\n",
    "NUM_MUBS_2_QUBITS = 5\n",
    "NUM_STATES_3_QUITS = 8\n",
    "NUM_MUBS_3_QUBTIS = 9"
   ]
  },
  {
   "cell_type": "markdown",
   "metadata": {},
   "source": [
    "## Generate transverse-field Ising operator\n",
    "\n",
    "currently using the lattice and hamiltonian modules from the qiskit_nature.second_q modules.\n",
    "I'm not entirely sure why they consider all of this second quantization since we're dealing exclusively with spins, but then again, this is IBM.\n",
    "They're not exactly known for well-documented or reasonably-organized APIs.\n",
    "\n",
    "The `HeisenbergModel` module generates the same coupling between each pair in the lattice (on a given vector) and another single-site term.\n",
    "The transverse-field ising model is a special case of that: the interaction term is ZZ, and the external field is X."
   ]
  },
  {
   "cell_type": "code",
   "execution_count": 3,
   "metadata": {},
   "outputs": [],
   "source": [
    "def gen_trans_ising_op(num_qubits: int, zz_coeff: float, x_coeff: float) -> operators.SpinOp:\n",
    "    lattice = lattices.LineLattice(num_nodes=num_qubits, boundary_condition=BoundaryCondition.OPEN)\n",
    "    transverse_ham = hamiltonians.HeisenbergModel(lattice=lattice, coupling_constants=(0,0,zz_coeff), ext_magnetic_field=(x_coeff,0,0))\n",
    "    return transverse_ham.second_q_op()"
   ]
  },
  {
   "cell_type": "markdown",
   "metadata": {},
   "source": [
    "## Get exact answers\n",
    "\n",
    "### A question of goals\n",
    "In the origianl formulation, the goal of VQE is to find the lowest eigenvalue.\n",
    "The tricky part is that numpy does not guarantee any ordering of the eigenvalues and eigenvectors. So that's on us."
   ]
  },
  {
   "cell_type": "code",
   "execution_count": 69,
   "metadata": {},
   "outputs": [],
   "source": [
    "def get_exact_ground(op: operators.SpinOp) -> np.float64:\n",
    "    eig_res = eig(op.to_matrix())\n",
    "    return min(eig_res.eigenvalues).real"
   ]
  },
  {
   "cell_type": "code",
   "execution_count": 5,
   "metadata": {},
   "outputs": [
    {
     "name": "stdout",
     "output_type": "stream",
     "text": [
      "(2.0941996592125895, array([ 3.57322751e-01+0.j,  1.68874614e-01+0.j,  5.64634443e-01+0.j,\n",
      "       -9.12210101e-02-0.j, -1.45718492e-01+0.j,  5.59314244e-01+0.j,\n",
      "        3.89400557e-01+0.j, -8.71088007e-02-0.j, -1.02082419e-01-0.j,\n",
      "        1.13844761e-01-0.j,  3.19146540e-17+0.j,  1.45417952e-16-0.j,\n",
      "       -1.31501084e-16+0.j, -1.97452946e-16+0.j,  1.80473133e-17-0.j,\n",
      "       -9.64668283e-18+0.j]))\n"
     ]
    }
   ],
   "source": [
    "print(get_exact_ground(gen_trans_ising_op(4,1,1)))"
   ]
  },
  {
   "cell_type": "markdown",
   "metadata": {},
   "source": [
    "## Get expectation value over specific state-vector"
   ]
  },
  {
   "cell_type": "code",
   "execution_count": 6,
   "metadata": {},
   "outputs": [],
   "source": [
    "def get_expectation_value(state: states.Statevector, op: operators.SpinOp) -> np.float64:\n",
    "    return np.round(state.expectation_value(op).real, 10)"
   ]
  },
  {
   "cell_type": "markdown",
   "metadata": {},
   "source": [
    "### Generate example statevector"
   ]
  },
  {
   "cell_type": "code",
   "execution_count": 7,
   "metadata": {},
   "outputs": [
    {
     "name": "stdout",
     "output_type": "stream",
     "text": [
      "0.75\n"
     ]
    }
   ],
   "source": [
    "op = gen_trans_ising_op(4,1,1)\n",
    "state = states.Statevector.from_instruction(QuantumCircuit(4))\n",
    "print(get_expectation_value(state, op))"
   ]
  },
  {
   "cell_type": "markdown",
   "metadata": {},
   "source": [
    "## Generate MUB statevectors\n",
    "This is done using Dekel's current notebook code.\n",
    "The code is, for lack of a better word, bad.\n",
    "I will attempt to prepare it in a cleaner and more robust way.\n",
    "But for now, let's check that the most basic way still works."
   ]
  },
  {
   "cell_type": "code",
   "execution_count": 8,
   "metadata": {},
   "outputs": [],
   "source": [
    "# Adds Y-Hadamard gate on qubit q in circ\n",
    "def yh(circ, q):\n",
    "    circ.h(q)\n",
    "    circ.s(q)\n",
    "\n",
    "def prep_MUB(circ, state_idx, mub_idx, qubit_subset = [0,1]):\n",
    "    assert len(qubit_subset) == 2\n",
    "    assert (0 <= state_idx <= 3)\n",
    "    assert (0 <= mub_idx <= 4)\n",
    "    # state_idx chooses the state in the basis (MUB)\n",
    "    if state_idx == 1:\n",
    "        circ.x(qubit_subset[0])\n",
    "    elif state_idx == 2:\n",
    "        circ.x(qubit_subset[1])\n",
    "    elif state_idx == 3:\n",
    "        circ.x(qubit_subset[0])\n",
    "        circ.x(qubit_subset[1])\n",
    "        \n",
    "    # mub_idx chooses the basis (MUB) itself\n",
    "    if mub_idx == 1:\n",
    "        circ.h(qubit_subset[0])\n",
    "        circ.h(qubit_subset[1])\n",
    "    elif mub_idx == 2:\n",
    "        circ.h(qubit_subset[0])\n",
    "        yh(circ,qubit_subset[1])\n",
    "        circ.cz(qubit_subset[0], qubit_subset[1])\n",
    "    elif mub_idx == 3:\n",
    "        yh(circ,qubit_subset[0])\n",
    "        yh(circ,qubit_subset[1])\n",
    "    elif mub_idx == 4:\n",
    "        yh(circ,qubit_subset[0])\n",
    "        circ.h(qubit_subset[1])\n",
    "        circ.cz(qubit_subset[0], qubit_subset[1])\n",
    "        \n",
    "def prep_MUB3(circ, state_idx, mub_idx, qubit_subset = [0,1,2]):\n",
    "    # state_idx chooses the state in the basis (MUB)\n",
    "    if state_idx == 1:\n",
    "        circ.x(qubit_subset[0])\n",
    "    elif state_idx == 2:\n",
    "        circ.x(qubit_subset[1])\n",
    "    elif state_idx == 3:\n",
    "        circ.x(qubit_subset[0])\n",
    "        circ.x(qubit_subset[1])\n",
    "    elif state_idx == 4:\n",
    "        circ.x(qubit_subset[2])\n",
    "    elif state_idx == 5:\n",
    "        circ.x(qubit_subset[0])\n",
    "        circ.x(qubit_subset[2])\n",
    "    elif state_idx == 6:\n",
    "        circ.x(qubit_subset[1])\n",
    "        circ.x(qubit_subset[2])\n",
    "    elif state_idx == 7:\n",
    "        circ.x(qubit_subset[0])\n",
    "        circ.x(qubit_subset[1])\n",
    "        circ.x(qubit_subset[2])\n",
    "    \n",
    "    # mub_idx chooses the basis (MUB) itself\n",
    "    if mub_idx == 1:\n",
    "        circ.h(qubit_subset[0])\n",
    "        circ.h(qubit_subset[1])\n",
    "        circ.h(qubit_subset[2])\n",
    "    elif mub_idx == 2:\n",
    "        yh(circ, qubit_subset[0])\n",
    "        yh(circ, qubit_subset[1])\n",
    "        yh(circ, qubit_subset[2])\n",
    "    elif mub_idx == 3:\n",
    "        yh(circ, qubit_subset[0])\n",
    "        circ.h(qubit_subset[1])\n",
    "        circ.h(qubit_subset[2])\n",
    "        circ.cz(qubit_subset[1], qubit_subset[2])\n",
    "        circ.cz(qubit_subset[0], qubit_subset[1])\n",
    "    elif mub_idx == 4:\n",
    "        circ.h(qubit_subset[0])\n",
    "        yh(circ, qubit_subset[1])\n",
    "        circ.h(qubit_subset[2])\n",
    "        circ.cz(qubit_subset[1], qubit_subset[2])\n",
    "        circ.cz(qubit_subset[0], qubit_subset[2])\n",
    "    elif mub_idx == 5:\n",
    "        circ.h(qubit_subset[0])\n",
    "        circ.h(qubit_subset[1])\n",
    "        yh(circ, qubit_subset[2])\n",
    "        circ.cz(qubit_subset[0], qubit_subset[1])\n",
    "        circ.cz(qubit_subset[0], qubit_subset[2])\n",
    "    elif mub_idx == 6:\n",
    "        yh(circ, qubit_subset[0])\n",
    "        yh(circ, qubit_subset[1])\n",
    "        circ.h(qubit_subset[2])\n",
    "        circ.cz(qubit_subset[0], qubit_subset[1])\n",
    "        circ.cz(qubit_subset[0], qubit_subset[2])\n",
    "    elif mub_idx == 7:\n",
    "        yh(circ, qubit_subset[0])\n",
    "        circ.h(qubit_subset[1])\n",
    "        yh(circ, qubit_subset[2])\n",
    "        circ.cz(qubit_subset[1], qubit_subset[2])\n",
    "        circ.cz(qubit_subset[0], qubit_subset[2])\n",
    "    elif mub_idx == 8:\n",
    "        circ.h(qubit_subset[0])\n",
    "        yh(circ, qubit_subset[1])\n",
    "        yh(circ, qubit_subset[2])\n",
    "        circ.cz(qubit_subset[0], qubit_subset[1])\n",
    "        circ.cz(qubit_subset[1], qubit_subset[2])"
   ]
  },
  {
   "cell_type": "markdown",
   "metadata": {},
   "source": [
    "The field `state_idx` chooses the state *inside* the MUB.  \n",
    "The field `mub_idx` chooses the basis.   \n",
    "The field `qubit_subset` chooses the subset of qubit_subset over which to generate the MUB state.   "
   ]
  },
  {
   "cell_type": "code",
   "execution_count": 9,
   "metadata": {},
   "outputs": [],
   "source": [
    "def generate_mub_state(state_idx, mub_idx, num_qubits, qubit_subset):\n",
    "    circuit = QuantumCircuit(num_qubits)\n",
    "    if len(qubit_subset) == 2:\n",
    "        prep_MUB(circuit, state_idx, mub_idx, qubit_subset)\n",
    "    elif len(qubit_subset) == 3:\n",
    "        prep_MUB3(circuit, state_idx, mub_idx, qubit_subset)\n",
    "    else:\n",
    "        raise Exception(\"We do not support this size of MUB states.\")\n",
    "    state = states.Statevector.from_instruction(circuit)\n",
    "    return state"
   ]
  },
  {
   "cell_type": "markdown",
   "metadata": {},
   "source": [
    "# Attempt all states over a hamiltonian"
   ]
  },
  {
   "cell_type": "markdown",
   "metadata": {},
   "source": [
    "## Result heirarchy\n",
    "The list heirarchy is defined by the following indexes, in this order:\n",
    "1. MUB used.\n",
    "2. Subset of qubits on which this MUB was applied.\n",
    "3. The specific MUB states."
   ]
  },
  {
   "cell_type": "code",
   "execution_count": 13,
   "metadata": {},
   "outputs": [],
   "source": [
    "def generate_all_subsets(n_mub_qubits: int, n_qubits: int) -> list[tuple[int]]:\n",
    "    return list(combinations(np.linspace(0, n_qubits-1, n_qubits, dtype=int), n_mub_qubits))"
   ]
  },
  {
   "cell_type": "code",
   "execution_count": 14,
   "metadata": {},
   "outputs": [],
   "source": [
    "def calculate_energy_landscape(op: operators.SpinOp, n_mub_qubits: int, subset_list: list[tuple]) -> list[list[list]]:\n",
    "    num_states = num_mubs = 0\n",
    "    if n_mub_qubits == 2:\n",
    "        num_states = NUM_STATES_2_QUBITS\n",
    "        num_mubs = NUM_MUBS_2_QUBITS\n",
    "    elif n_mub_qubits == 3:\n",
    "        num_states = NUM_STATES_3_QUITS\n",
    "        num_mubs = NUM_MUBS_3_QUBTIS\n",
    "    else:\n",
    "        raise Exception(\"We do not support this size of MUB states.\")\n",
    "\n",
    "    total_res = []\n",
    "    for mub_idx in range(num_mubs):\n",
    "        mub_res = []\n",
    "        for subset in subset_list:\n",
    "            subset_res = []\n",
    "            for state_idx in range(num_states):\n",
    "                state = generate_mub_state(state_idx, mub_idx, op.num_spins, subset)\n",
    "                res = get_expectation_value(state, op)\n",
    "                subset_res.append(res)\n",
    "            mub_res.append(subset_res)\n",
    "        total_res.append(mub_res)\n",
    "    return total_res\n",
    "\n",
    "def flatten_results(results):\n",
    "    return list(chain.from_iterable(chain.from_iterable(results)))"
   ]
  },
  {
   "cell_type": "code",
   "execution_count": 15,
   "metadata": {},
   "outputs": [
    {
     "name": "stdout",
     "output_type": "stream",
     "text": [
      "attempting all MUB states over the operator Spin Operator\n",
      "spin=1/2, number spins=3, number terms=5\n",
      "  24 * ( Z_0 Z_1 )\n",
      "+ 24 * ( Z_1 Z_2 )\n",
      "+ 45 * ( X_0 )\n",
      "+ 45 * ( X_1 )\n",
      "+ 45 * ( X_2 )\n",
      "[[[12.0, 0.0, -12.0, 0.0], [12.0, 0.0, 0.0, -12.0], [12.0, -12.0, 0.0, 0.0]], [[45.0, 0.0, 0.0, -45.0], [45.0, 0.0, 0.0, -45.0], [45.0, 0.0, 0.0, -45.0]], [[0.0, 0.0, 0.0, 0.0], [0.0, 0.0, 0.0, 0.0], [0.0, 0.0, 0.0, 0.0]], [[0.0, 0.0, 0.0, 0.0], [0.0, 0.0, 0.0, 0.0], [0.0, 0.0, 0.0, 0.0]], [[0.0, 0.0, 0.0, 0.0], [0.0, 0.0, 0.0, 0.0], [0.0, 0.0, 0.0, 0.0]]]\n",
      "attempting all MUB states over the operator Spin Operator\n",
      "spin=1/2, number spins=3, number terms=5\n",
      "  69 * ( Z_0 Z_1 )\n",
      "+ 69 * ( Z_1 Z_2 )\n",
      "+ 44 * ( X_0 )\n",
      "+ 44 * ( X_1 )\n",
      "+ 44 * ( X_2 )\n",
      "[[[34.5, 0.0, -34.5, 0.0], [34.5, 0.0, 0.0, -34.5], [34.5, -34.5, 0.0, 0.0]], [[44.0, -0.0, 0.0, -44.0], [44.0, -0.0, 0.0, -44.0], [44.0, 0.0, -0.0, -44.0]], [[0.0, 0.0, 0.0, 0.0], [0.0, 0.0, 0.0, 0.0], [-0.0, 0.0, -0.0, 0.0]], [[0.0, 0.0, 0.0, 0.0], [0.0, 0.0, 0.0, 0.0], [0.0, 0.0, 0.0, 0.0]], [[-0.0, -0.0, 0.0, 0.0], [0.0, 0.0, 0.0, 0.0], [0.0, 0.0, 0.0, 0.0]]]\n",
      "attempting all MUB states over the operator Spin Operator\n",
      "spin=1/2, number spins=3, number terms=5\n",
      "  88 * ( Z_0 Z_1 )\n",
      "+ 88 * ( Z_1 Z_2 )\n",
      "+ 70 * ( X_0 )\n",
      "+ 70 * ( X_1 )\n",
      "+ 70 * ( X_2 )\n",
      "[[[44.0, 0.0, -44.0, 0.0], [44.0, 0.0, 0.0, -44.0], [44.0, -44.0, 0.0, 0.0]], [[70.0, 0.0, 0.0, -70.0], [70.0, 0.0, 0.0, -70.0], [70.0, 0.0, 0.0, -70.0]], [[0.0, 0.0, 0.0, 0.0], [0.0, 0.0, 0.0, 0.0], [0.0, 0.0, 0.0, 0.0]], [[0.0, 0.0, 0.0, 0.0], [0.0, 0.0, 0.0, 0.0], [0.0, 0.0, 0.0, 0.0]], [[0.0, 0.0, 0.0, 0.0], [0.0, 0.0, 0.0, 0.0], [0.0, 0.0, 0.0, 0.0]]]\n",
      "attempting all MUB states over the operator Spin Operator\n",
      "spin=1/2, number spins=3, number terms=5\n",
      "  88 * ( Z_0 Z_1 )\n",
      "+ 88 * ( Z_1 Z_2 )\n",
      "+ 65 * ( X_0 )\n",
      "+ 65 * ( X_1 )\n",
      "+ 65 * ( X_2 )\n",
      "[[[44.0, 0.0, -44.0, 0.0], [44.0, 0.0, 0.0, -44.0], [44.0, -44.0, 0.0, 0.0]], [[65.0, 0.0, 0.0, -65.0], [65.0, 0.0, 0.0, -65.0], [65.0, 0.0, 0.0, -65.0]], [[0.0, 0.0, 0.0, 0.0], [0.0, 0.0, 0.0, 0.0], [0.0, 0.0, 0.0, 0.0]], [[0.0, 0.0, 0.0, 0.0], [0.0, 0.0, 0.0, 0.0], [0.0, 0.0, 0.0, 0.0]], [[0.0, 0.0, 0.0, 0.0], [0.0, 0.0, 0.0, 0.0], [0.0, 0.0, 0.0, 0.0]]]\n",
      "attempting all MUB states over the operator Spin Operator\n",
      "spin=1/2, number spins=3, number terms=5\n",
      "  77 * ( Z_0 Z_1 )\n",
      "+ 77 * ( Z_1 Z_2 )\n",
      "+ 7 * ( X_0 )\n",
      "+ 7 * ( X_1 )\n",
      "+ 7 * ( X_2 )\n",
      "[[[38.5, 0.0, -38.5, 0.0], [38.5, 0.0, 0.0, -38.5], [38.5, -38.5, 0.0, 0.0]], [[7.0, 0.0, 0.0, -7.0], [7.0, 0.0, 0.0, -7.0], [7.0, -0.0, 0.0, -7.0]], [[0.0, 0.0, 0.0, 0.0], [0.0, 0.0, 0.0, 0.0], [0.0, -0.0, 0.0, -0.0]], [[0.0, 0.0, 0.0, 0.0], [0.0, 0.0, 0.0, 0.0], [0.0, 0.0, 0.0, 0.0]], [[0.0, 0.0, -0.0, -0.0], [0.0, 0.0, 0.0, 0.0], [0.0, 0.0, 0.0, 0.0]]]\n",
      "attempting all MUB states over the operator Spin Operator\n",
      "spin=1/2, number spins=3, number terms=5\n",
      "  68 * ( Z_0 Z_1 )\n",
      "+ 68 * ( Z_1 Z_2 )\n",
      "+ 87 * ( X_0 )\n",
      "+ 87 * ( X_1 )\n",
      "+ 87 * ( X_2 )\n",
      "[[[34.0, 0.0, -34.0, 0.0], [34.0, 0.0, 0.0, -34.0], [34.0, -34.0, 0.0, 0.0]], [[87.0, 0.0, 0.0, -87.0], [87.0, 0.0, 0.0, -87.0], [87.0, 0.0, -0.0, -87.0]], [[0.0, 0.0, 0.0, 0.0], [0.0, 0.0, 0.0, 0.0], [0.0, 0.0, 0.0, 0.0]], [[0.0, 0.0, 0.0, 0.0], [0.0, 0.0, 0.0, 0.0], [0.0, 0.0, 0.0, 0.0]], [[0.0, 0.0, 0.0, 0.0], [0.0, 0.0, 0.0, 0.0], [0.0, 0.0, 0.0, 0.0]]]\n",
      "attempting all MUB states over the operator Spin Operator\n",
      "spin=1/2, number spins=3, number terms=5\n",
      "  34 * ( Z_0 Z_1 )\n",
      "+ 34 * ( Z_1 Z_2 )\n",
      "+ 80 * ( X_0 )\n",
      "+ 80 * ( X_1 )\n",
      "+ 80 * ( X_2 )\n",
      "[[[17.0, 0.0, -17.0, 0.0], [17.0, 0.0, 0.0, -17.0], [17.0, -17.0, 0.0, 0.0]], [[80.0, -0.0, 0.0, -80.0], [80.0, -0.0, 0.0, -80.0], [80.0, 0.0, -0.0, -80.0]], [[0.0, 0.0, 0.0, 0.0], [0.0, 0.0, 0.0, 0.0], [0.0, 0.0, 0.0, 0.0]], [[0.0, 0.0, 0.0, 0.0], [0.0, 0.0, 0.0, 0.0], [0.0, 0.0, 0.0, 0.0]], [[0.0, 0.0, 0.0, 0.0], [0.0, 0.0, 0.0, 0.0], [0.0, 0.0, 0.0, 0.0]]]\n",
      "attempting all MUB states over the operator Spin Operator\n",
      "spin=1/2, number spins=3, number terms=5\n",
      "  36 * ( Z_0 Z_1 )\n",
      "+ 36 * ( Z_1 Z_2 )\n",
      "+ 48 * ( X_0 )\n",
      "+ 48 * ( X_1 )\n",
      "+ 48 * ( X_2 )\n",
      "[[[18.0, 0.0, -18.0, 0.0], [18.0, 0.0, 0.0, -18.0], [18.0, -18.0, 0.0, 0.0]], [[48.0, 0.0, 0.0, -48.0], [48.0, 0.0, 0.0, -48.0], [48.0, 0.0, 0.0, -48.0]], [[0.0, 0.0, 0.0, 0.0], [0.0, 0.0, 0.0, 0.0], [0.0, 0.0, 0.0, 0.0]], [[0.0, 0.0, 0.0, 0.0], [0.0, 0.0, 0.0, 0.0], [0.0, 0.0, 0.0, 0.0]], [[0.0, 0.0, 0.0, 0.0], [0.0, 0.0, 0.0, 0.0], [0.0, 0.0, 0.0, 0.0]]]\n",
      "attempting all MUB states over the operator Spin Operator\n",
      "spin=1/2, number spins=3, number terms=5\n",
      "  99 * ( Z_0 Z_1 )\n",
      "+ 99 * ( Z_1 Z_2 )\n",
      "+ 22 * ( X_0 )\n",
      "+ 22 * ( X_1 )\n",
      "+ 22 * ( X_2 )\n",
      "[[[49.5, 0.0, -49.5, 0.0], [49.5, 0.0, 0.0, -49.5], [49.5, -49.5, 0.0, 0.0]], [[22.0, -0.0, 0.0, -22.0], [22.0, -0.0, 0.0, -22.0], [22.0, 0.0, -0.0, -22.0]], [[0.0, 0.0, 0.0, 0.0], [0.0, 0.0, 0.0, 0.0], [-0.0, 0.0, -0.0, 0.0]], [[0.0, 0.0, 0.0, 0.0], [0.0, 0.0, 0.0, 0.0], [0.0, 0.0, 0.0, 0.0]], [[-0.0, -0.0, 0.0, 0.0], [0.0, 0.0, -0.0, -0.0], [0.0, 0.0, 0.0, 0.0]]]\n",
      "attempting all MUB states over the operator Spin Operator\n",
      "spin=1/2, number spins=3, number terms=5\n",
      "  57 * ( Z_0 Z_1 )\n",
      "+ 57 * ( Z_1 Z_2 )\n",
      "+ 68 * ( X_0 )\n",
      "+ 68 * ( X_1 )\n",
      "+ 68 * ( X_2 )\n",
      "[[[28.5, 0.0, -28.5, 0.0], [28.5, 0.0, 0.0, -28.5], [28.5, -28.5, 0.0, 0.0]], [[68.0, 0.0, 0.0, -68.0], [68.0, 0.0, 0.0, -68.0], [68.0, 0.0, -0.0, -68.0]], [[0.0, 0.0, 0.0, 0.0], [0.0, 0.0, 0.0, 0.0], [0.0, 0.0, 0.0, 0.0]], [[0.0, 0.0, 0.0, 0.0], [0.0, 0.0, 0.0, 0.0], [0.0, 0.0, 0.0, 0.0]], [[0.0, 0.0, 0.0, 0.0], [0.0, 0.0, 0.0, 0.0], [0.0, 0.0, 0.0, 0.0]]]\n"
     ]
    }
   ],
   "source": [
    "# MY CODE!\n",
    "for _ in range(10):\n",
    "    zz_coeff = random.randint(0,100)\n",
    "    x_coeff = random.randint(0,100)\n",
    "    op = gen_trans_ising_op(3, zz_coeff, x_coeff)\n",
    "    print(f\"attempting all MUB states over the operator {op}\")\n",
    "    print(calculate_energy_landscape(op, 2, generate_all_subsets(2,3)))\n"
   ]
  },
  {
   "cell_type": "markdown",
   "metadata": {},
   "source": [
    "## Writing the graph display code\n",
    "I'm writing it from scratch. Sorry, Dekel, but I just couldn't take it."
   ]
  },
  {
   "cell_type": "code",
   "execution_count": 19,
   "metadata": {},
   "outputs": [],
   "source": [
    "FIG_SIZE = (8,5)"
   ]
  },
  {
   "cell_type": "code",
   "execution_count": 135,
   "metadata": {},
   "outputs": [],
   "source": [
    "def display_energy_landscape(energy_landscape_results: list[list[list]], exact_result: np.float64, graph_title=\"title\", show_legend=False):\n",
    "    fig = plt.figure(figsize=FIG_SIZE)\n",
    "    idx_counter = 0\n",
    "    basis_size = len(results[0][0])\n",
    "    for i, mub_res in enumerate(results):\n",
    "        for j, subset_res in enumerate(mub_res):\n",
    "            plt.plot(list(range(idx_counter, idx_counter+basis_size)), subset_res, 'o', lw=0.4, label=f\"MUB {i}, subset {j}\")\n",
    "            idx_counter += basis_size\n",
    "        plt.axvline(x=idx_counter-0.5, lw=0.2)\n",
    "    \n",
    "    plt.axhline(y=exact_result, lw=0.6, color='red')\n",
    "\n",
    "    plt.xlabel(\"MUB state index\")\n",
    "    plt.ylabel(\"Cost function result\")\n",
    "    if show_legend:\n",
    "        plt.legend(loc='center left', bbox_to_anchor=(1, 0.5))\n",
    "    plt.title(graph_title)\n",
    "    plt.show()\n",
    "\n",
    "def display_energy_histogram(energy_landscape_results: list[list[list]], exact_result: np.float64, bins=100, graph_title=\"title\", show_legend=False):\n",
    "    fig = plt.figure(figsize=FIG_SIZE)\n",
    "    plt.locator_params(axis='x', nbins=min(bins//2, 30), tight=True)\n",
    "    plt.xticks(fontsize=10, rotation=60)\n",
    "    plt.locator_params(axis='y', nbins=10)\n",
    "\n",
    "    flat_results = flatten_results(energy_landscape_results)\n",
    "    plt.hist(flat_results, bins)\n",
    "\n",
    "    plt.axvline(x=exact_result, lw=0.6, color='red')\n",
    "\n",
    "    plt.xlabel(\"Cost function result\")\n",
    "    plt.ylabel(\"number of results\")\n",
    "    if show_legend:\n",
    "        plt.legend(loc='center left', bbox_to_anchor=(1, 0.5))\n",
    "    plt.title(graph_title)\n",
    "    plt.show()"
   ]
  },
  {
   "cell_type": "markdown",
   "metadata": {},
   "source": [
    "## Example: generate operator, calculate landscape, show results"
   ]
  },
  {
   "cell_type": "code",
   "execution_count": 136,
   "metadata": {},
   "outputs": [
    {
     "name": "stdout",
     "output_type": "stream",
     "text": [
      "attempting all MUB states over the operator Spin Operator\n",
      "spin=1/2, number spins=3, number terms=5\n",
      "  0.6974560610205585 * ( Z_0 Z_1 )\n",
      "+ 0.6974560610205585 * ( Z_1 Z_2 )\n",
      "+ 0.36432021537641723 * ( X_0 )\n",
      "+ 0.36432021537641723 * ( X_1 )\n",
      "+ 0.36432021537641723 * ( X_2 )\n"
     ]
    }
   ],
   "source": [
    "n_qubits = 3\n",
    "n_mub_qubits = 3\n",
    "\n",
    "zz_coeff = random.uniform(0,1)\n",
    "x_coeff = random.uniform(0,1)\n",
    "op = gen_trans_ising_op(n_qubits, zz_coeff, x_coeff)\n",
    "print(f\"attempting all MUB states over the operator {op}\")\n",
    "results = calculate_energy_landscape(op, n_mub_qubits, generate_all_subsets(n_mub_qubits, n_qubits))\n",
    "exact_result = get_exact_ground(op)"
   ]
  },
  {
   "cell_type": "code",
   "execution_count": 137,
   "metadata": {},
   "outputs": [
    {
     "data": {
      "image/png": "[encoded data removed]",
      "text/plain": [
       "<Figure size 800x500 with 1 Axes>"
      ]
     },
     "metadata": {},
     "output_type": "display_data"
    }
   ],
   "source": [
    "display_energy_histogram(results, exact_result, graph_title=f\"{n_qubits} qubits, {n_mub_qubits}-qubit MUBS, transverse-ising.\", bins=200)"
   ]
  },
  {
   "cell_type": "code",
   "execution_count": 131,
   "metadata": {},
   "outputs": [
    {
     "data": {
      "image/png": "[encoded data removed]",
      "text/plain": [
       "<Figure size 800x500 with 1 Axes>"
      ]
     },
     "metadata": {},
     "output_type": "display_data"
    }
   ],
   "source": [
    "display_energy_landscape(results, exact_result, graph_title=f\"{n_qubits} qubits, {n_mub_qubits}-qubit MUBS, transverse-ising.\")"
   ]
  },
  {
   "cell_type": "code",
   "execution_count": null,
   "metadata": {},
   "outputs": [],
   "source": []
  }
 ],
 "metadata": {
  "kernelspec": {
   "display_name": "Python 3",
   "language": "python",
   "name": "python3"
  },
  "language_info": {
   "codemirror_mode": {
    "name": "ipython",
    "version": 3
   },
   "file_extension": ".py",
   "mimetype": "text/x-python",
   "name": "python",
   "nbconvert_exporter": "python",
   "pygments_lexer": "ipython3",
   "version": "3.12.0"
  }
 },
 "nbformat": 4,
 "nbformat_minor": 2
}
