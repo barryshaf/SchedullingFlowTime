{
 "cells": [
  {
   "cell_type": "code",
   "execution_count": 1,
   "metadata": {},
   "outputs": [],
   "source": [
    "from qiskit.circuit import Parameter, QuantumCircuit\n",
    "import numpy as np"
   ]
  },
  {
   "cell_type": "markdown",
   "metadata": {},
   "source": [
    "### VQE with Dekel's expressive ansatz method"
   ]
  },
  {
   "cell_type": "markdown",
   "metadata": {},
   "source": [
    "#### The expressive ansatz form"
   ]
  },
  {
   "cell_type": "code",
   "execution_count": null,
   "metadata": {},
   "outputs": [],
   "source": [
    "def gen_expressive_ansatz_2qubits() -> QuantumCircuit:\n",
    "    NUM_THETAS = 8\n",
    "    thetas = [Parameter(f\"theta{i}\") for i in range(NUM_THETAS)]\n",
    "    circ = QuantumCircuit(2)\n",
    "    circ.ry(thetas[0], 0)\n",
    "    circ.ry(thetas[1], 1)\n",
    "    circ.rz(thetas[2], 0)\n",
    "    circ.rz(thetas[3], 1)\n",
    "    circ.cx(0, 1)\n",
    "    circ.ry(thetas[4], 0)\n",
    "    circ.ry(thetas[5], 1)\n",
    "    circ.rz(thetas[6], 0)\n",
    "    circ.rz(thetas[7], 1)\n",
    "    return circ"
   ]
  },
  {
   "cell_type": "markdown",
   "metadata": {},
   "source": [
    "#### parameters to create MUBS\n",
    "parameters to 2 qubits MUBs using the CX ansatz format\n",
    "#### computational basis\n",
    "[1, 0, 0, 0] - theta = [0, 0, 0, 0, 0, 0, 0, 0]\n",
    "\n",
    "[0, 1, 0, 0] - theta = [0, 0, 0, 0, $\\pi$, 0, 0, 0]\n",
    "\n",
    "[0, 0, 1, 0] - theta = [0, 0, 0, 0, 0, $\\pi$, 0, 0]\n",
    "\n",
    "[0, 0, 0, 1] - theta = [0, 0, 0, 0, $\\pi$, $\\pi$, 0, 0]\n",
    "#### M1\n",
    "$\\frac{1}{2}\\cdot$[1, 1, 1, 1] -   theta = [0, 0, 0, 0, $\\frac{\\pi}{2}$, $\\frac{\\pi}{2}$, 0, 0]\n",
    "\n",
    "$\\frac{1}{2}\\cdot$[1, 1, -1, -1] - theta = [0, $-\\pi$, 0, 0, $\\frac{\\pi}{2}$, $\\frac{\\pi}{2}$, 0, 0]\n",
    "\n",
    "$\\frac{1}{2}\\cdot$[1, -1, -1, 1] - theta = [$\\pi$, 0, 0, 0, $\\frac{\\pi}{2}$, $\\frac{\\pi}{2}$, 0, 0]\n",
    "\n",
    "$\\frac{1}{2}\\cdot$[1, -1, 1, -1] - theta = [$\\pi$, $-\\pi$, 0, 0, $\\frac{\\pi}{2}$, $\\frac{\\pi}{2}$, 0, 0]\n",
    "\n",
    "#### M2\n",
    "$\\frac{1}{2}\\cdot$[1, -1, -i, -i] -   theta = [$\\frac{\\pi}{2}$, $-\\frac{\\pi}{2}$, $-\\frac{\\pi}{2}$, $\\frac{\\pi}{2}$, 0, 0, 0, 0]\n",
    "\n",
    "$\\frac{1}{2}\\cdot$[1, -1, i, i] - theta = [$-\\frac{\\pi}{2}$, $\\frac{\\pi}{2}$, $-\\frac{\\pi}{2}$, $\\frac{\\pi}{2}$, 0, 0, 0, 0]\n",
    "\n",
    "$\\frac{1}{2}\\cdot$[1, 1, i, -i] - theta = [$\\frac{\\pi}{2}$, $\\frac{\\pi}{2}$, $-\\frac{\\pi}{2}$, $\\frac{\\pi}{2}$, 0, 0, 0, 0]\n",
    "\n",
    "$\\frac{1}{2}\\cdot$[1, 1, -i, i] - theta = [$-\\frac{\\pi}{2}$, $-\\frac{\\pi}{2}$, $-\\frac{\\pi}{2}$, $\\frac{\\pi}{2}$, 0, 0, 0, 0]\n",
    "\n",
    "#### M3\n",
    "$\\frac{1}{2}\\cdot$[1, -i, -i, -1] -   theta = [0, 0, $\\frac{\\pi}{2}$, $\\frac{\\pi}{2}$, $\\frac{\\pi}{2}$, $\\frac{\\pi}{2}$, $ -\\frac{\\pi}{2}$, $-\\frac{\\pi}{2}$]\n",
    "\n",
    "$\\frac{1}{2}\\cdot$[1, -i, i, 1] - theta = [0, 0, $\\frac{\\pi}{2}$, $\\frac{\\pi}{2}$, $\\frac{\\pi}{2}$, $-\\frac{\\pi}{2}$, $ -\\frac{\\pi}{2}$, $-\\frac{\\pi}{2}$]\n",
    "\n",
    "$\\frac{1}{2}\\cdot$[1, i, i, -1] - theta = [0, 0, $-\\frac{\\pi}{2}$, $-\\frac{\\pi}{2}$, $\\frac{\\pi}{2}$, $\\frac{\\pi}{2}$, $\\frac{\\pi}{2}$, $\\frac{\\pi}{2}$]\n",
    "\n",
    "$\\frac{1}{2}\\cdot$[1, i, -i, 1] - theta = [0, 0, $-\\frac{\\pi}{2}$, $-\\frac{\\pi}{2}$, $\\frac{\\pi}{2}$, $-\\frac{\\pi}{2}$, $\\frac{\\pi}{2}$, $\\frac{\\pi}{2}$]\n",
    "\n",
    "#### M4\n",
    "$\\frac{1}{2}\\cdot$[1, -i, -1, -i] -   theta = [$\\frac{\\pi}{2}$, $-\\frac{\\pi}{2}$, $\\frac{\\pi}{2}$, $\\frac{\\pi}{2}$, $\\frac{\\pi}{2}$, $\\frac{\\pi}{2}$, 0, 0]\n",
    "\n",
    "$\\frac{1}{2}\\cdot$[1, -i, 1, i] - theta = [$-\\frac{\\pi}{2}$, $\\frac{\\pi}{2}$, $-\\frac{\\pi}{2}$, $\\frac{\\pi}{2}$, $\\frac{\\pi}{2}$, $\\frac{\\pi}{2}$, 0, 0]\n",
    "\n",
    "$\\frac{1}{2}\\cdot$[1, i, -1, i] - theta = [$\\frac{\\pi}{2}$, $-\\frac{\\pi}{2}$, $-\\frac{\\pi}{2}$, $-\\frac{\\pi}{2}$, $\\frac{\\pi}{2}$, $\\frac{\\pi}{2}$, 0, 0]\n",
    "\n",
    "$\\frac{1}{2}\\cdot$[1, i, 1, -i] - theta = [$\\frac{\\pi}{2}$, $-\\frac{\\pi}{2}$, $-\\frac{\\pi}{2}$, $\\frac{\\pi}{2}$, $\\frac{\\pi}{2}$, $\\frac{\\pi}{2}$, 0, 0]"
   ]
  },
  {
   "cell_type": "code",
   "execution_count": null,
   "metadata": {},
   "outputs": [],
   "source": [
    "def params_MUB_2q(state_idx, mub_idx):\n",
    "    # state_idx chooses the state in the basis (MUB)\n",
    "    # mub_idx chooses the basis (MUB) itself\n",
    "    if mub_idx == 0:\n",
    "        if state_idx == 0:\n",
    "            return [0, 0, 0, 0, 0, 0, 0, 0]\n",
    "        elif state_idx == 1:\n",
    "            return [0, 0, 0, 0, np.pi, 0, 0, 0]\n",
    "        elif state_idx == 2:\n",
    "            return [0, 0, 0, 0, 0, np.pi, 0, 0]\n",
    "        elif state_idx == 3:\n",
    "            return [0, 0, 0, 0, np.pi, np.pi, 0, 0]\n",
    "    if mub_idx == 1:\n",
    "        if state_idx == 0:\n",
    "            return [0, 0, 0, 0, np.pi / 2, np.pi / 2, 0, 0]\n",
    "        elif state_idx == 1:\n",
    "            return [0, -np.pi, 0, 0, np.pi / 2, np.pi / 2, 0, 0]\n",
    "        elif state_idx == 2:\n",
    "            return [np.pi, 0, 0, 0, np.pi / 2, np.pi / 2, 0, 0]\n",
    "        elif state_idx == 3:\n",
    "            return [np.pi, -np.pi, 0, 0, np.pi / 2, np.pi / 2, 0, 0]\n",
    "    elif mub_idx == 2:\n",
    "        if state_idx == 0:\n",
    "            return [np.pi / 2, -np.pi / 2, -np.pi/2, np.pi/2, 0, 0, 0, 0]\n",
    "        elif state_idx == 1:\n",
    "            return [-np.pi / 2, np.pi / 2, -np.pi/2, np.pi/2, 0, 0, 0, 0]\n",
    "        elif state_idx == 2:\n",
    "            return [np.pi / 2, np.pi / 2, -np.pi/2, np.pi/2, 0, 0, 0, 0]\n",
    "        elif state_idx == 3:\n",
    "            return [-np.pi / 2, -np.pi / 2, -np.pi/2, np.pi/2, 0, 0, 0, 0]\n",
    "    elif mub_idx == 3:\n",
    "        if state_idx == 0:\n",
    "            return [0, 0, np.pi/2, np.pi/2, np.pi/2, np.pi/2, -np.pi/2, -np.pi/2]\n",
    "        elif state_idx == 1:\n",
    "            return [0, 0, np.pi/2, np.pi/2, np.pi/2, -np.pi/2, -np.pi/2, -np.pi/2]\n",
    "        elif state_idx == 2:\n",
    "            return [0, 0, -np.pi/2, -np.pi/2, np.pi/2, np.pi/2, np.pi/2, np.pi/2]\n",
    "        elif state_idx == 3:\n",
    "            return [0, 0, -np.pi/2, -np.pi/2, np.pi/2, -np.pi/2, np.pi/2, np.pi/2]\n",
    "    elif mub_idx == 4:\n",
    "        if state_idx == 0:\n",
    "            return [np.pi/2, -np.pi/2, np.pi/2, np.pi/2, np.pi/2, np.pi/2, 0, 0]\n",
    "        elif state_idx == 1:\n",
    "            return [-np.pi/2, np.pi/2, -np.pi/2, np.pi/2, np.pi/2, np.pi/2, 0, 0]\n",
    "        elif state_idx == 2:\n",
    "            return [np.pi/2, -np.pi/2, -np.pi/2, -np.pi/2, np.pi/2, np.pi/2, 0, 0]\n",
    "        elif state_idx == 3:\n",
    "            return [np.pi/2, -np.pi/2, -np.pi/2, np.pi/2, np.pi/2, np.pi/2, 0, 0]"
   ]
  }
 ],
 "metadata": {
  "kernelspec": {
   "display_name": "mub",
   "language": "python",
   "name": "python3"
  },
  "language_info": {
   "codemirror_mode": {
    "name": "ipython",
    "version": 3
   },
   "file_extension": ".py",
   "mimetype": "text/x-python",
   "name": "python",
   "nbconvert_exporter": "python",
   "pygments_lexer": "ipython3",
   "version": "3.11.6"
  }
 },
 "nbformat": 4,
 "nbformat_minor": 2
}
