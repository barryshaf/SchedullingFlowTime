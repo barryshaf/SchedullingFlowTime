{
 "cells": [
  {
   "cell_type": "markdown",
   "metadata": {},
   "source": [
    "## Global Imports"
   ]
  },
  {
   "cell_type": "code",
   "execution_count": null,
   "metadata": {},
   "outputs": [],
   "source": [
    "from qiskit.circuit.library import TwoLocal\n",
    "import random"
   ]
  },
  {
   "cell_type": "markdown",
   "metadata": {},
   "source": [
    "## Local Imports"
   ]
  },
  {
   "cell_type": "code",
   "execution_count": null,
   "metadata": {},
   "outputs": [],
   "source": [
    "from .hamiltonians import gen_trans_ising_op, get_exact_ground\n",
    "from .mub_state_gen import generate_all_subsets\n",
    "from .landscape import calculate_energy_landscape, display_energy_landscape, display_energy_histogram, find_k_best_results\n",
    "from .vqe import Parameters, get_standard_params, run_vqe_experiment"
   ]
  },
  {
   "cell_type": "markdown",
   "metadata": {},
   "source": [
    "## Example: generate operator, calculate landscape, show results"
   ]
  },
  {
   "cell_type": "code",
   "execution_count": null,
   "metadata": {},
   "outputs": [],
   "source": [
    "n_qubits = 3\n",
    "n_mub_qubits = 3\n",
    "\n",
    "zz_coeff = random.uniform(0,1)\n",
    "x_coeff = random.uniform(0,1)\n",
    "op = gen_trans_ising_op(n_qubits, zz_coeff, x_coeff)\n",
    "ansatz = TwoLocal(3, 'ry', 'cx', 'linear', reps=2, insert_barriers=True).decompose()\n",
    "zeroset_anastz = ansatz.assign_parameters([0.0]*ansatz.num_parameters)\n",
    "print(zeroset_anastz)\n",
    "print(f\"attempting all MUB states over the operator {op}\")\n",
    "results = calculate_energy_landscape(op, n_mub_qubits, generate_all_subsets(n_mub_qubits, n_qubits), appended_ansatz=zeroset_anastz)\n",
    "exact_result = get_exact_ground(op)"
   ]
  },
  {
   "cell_type": "code",
   "execution_count": null,
   "metadata": {},
   "outputs": [],
   "source": [
    "display_energy_histogram(results, exact_result, graph_title=f\"{n_qubits} qubits, {n_mub_qubits}-qubit MUBS, transverse-ising.\", bins=200)"
   ]
  },
  {
   "cell_type": "code",
   "execution_count": null,
   "metadata": {},
   "outputs": [],
   "source": [
    "display_energy_landscape(results, exact_result, graph_title=f\"{n_qubits} qubits, {n_mub_qubits}-qvubit MUBS, transverse-ising.\")"
   ]
  },
  {
   "cell_type": "markdown",
   "metadata": {},
   "source": [
    "## Convincing results\n",
    "What results dfo I want o show Tal and Dekel so they'll be convicned that what I did here shows anything?\n",
    "\n",
    "1.  Show that when genrating 3-qubit full-MUB states using Trasnverse Ising, the best starting points are *clearly* not in the comp. basis.\n",
    "    Do so by giving 2-3 examples of such generated Hamiltonians.\n",
    "\n",
    "2.  Show that the rest of the results bunch around a VERY specific area in the cost, perhaps indicating a BP.\n",
    "    Another, more pessimistic way to see this is that MUBs only give an advantage in a very small number of cases.\n",
    "    Use the same graphs.\n",
    "\n",
    "3.  Show that when we do Half-MUBs, the answers drastically drift away from the correct result. However, non-comps still lead to victory.\n",
    "    Do so by giving 4-5 graphs with increasing qubit count, showing the distinct difference."
   ]
  },
  {
   "cell_type": "code",
   "execution_count": null,
   "metadata": {},
   "outputs": [],
   "source": [
    "# 3-qubit experiments\n",
    "n_qubits = 3\n",
    "n_mub_qubits = 3\n",
    "\n",
    "for _ in range(3):  # Three examples\n",
    "    zz_coeff = random.uniform(0,1)\n",
    "    x_coeff = random.uniform(0,1)\n",
    "    op = gen_trans_ising_op(n_qubits, zz_coeff, x_coeff)\n",
    "    print(f\"attempting all MUB states over the operator {op}\")\n",
    "    results = calculate_energy_landscape(op, n_mub_qubits, generate_all_subsets(n_mub_qubits, n_qubits))\n",
    "    exact_result = get_exact_ground(op)\n",
    "    print(\"Energy Landscape:\")\n",
    "    display_energy_landscape(results, exact_result=exact_result)\n",
    "    print(\"Energy Histogram:\")\n",
    "    display_energy_histogram(results, exact_result=exact_result)"
   ]
  },
  {
   "cell_type": "code",
   "execution_count": null,
   "metadata": {},
   "outputs": [],
   "source": [
    "# half-MUB experiments\n",
    "n_mub_qubits = 3\n",
    "zz_coeff = random.uniform(0,1)\n",
    "x_coeff = random.uniform(0,1)\n",
    "\n",
    "for n_qubits in range(4,8):  # Three examples\n",
    "\n",
    "    op = gen_trans_ising_op(n_qubits, zz_coeff, x_coeff)\n",
    "    print(f\"attempting all MUB states over the operator {op}\")\n",
    "    results = calculate_energy_landscape(op, n_mub_qubits, generate_all_subsets(n_mub_qubits, n_qubits))\n",
    "    exact_result = get_exact_ground(op)\n",
    "    print(\"Energy Landscape:\")\n",
    "    display_energy_landscape(results, exact_result=exact_result)\n",
    "    print(\"Energy Histogram:\")\n",
    "    display_energy_histogram(results, exact_result=exact_result)"
   ]
  },
  {
   "cell_type": "markdown",
   "metadata": {},
   "source": [
    "### Unified results: partial-MUB with $\\ket{0}$ vs. $\\ket{+}$\n",
    "Here, I run the same experiment with a bit less qubits, but use both options forn qubits not involved in the MUB state itself.\n",
    "1.  Put it in $\\ket{0}$, the trivial option.\n",
    "2.  Put it in $\\ket{+}$, the other option Dekel found to be rather successful."
   ]
  },
  {
   "cell_type": "code",
   "execution_count": null,
   "metadata": {},
   "outputs": [],
   "source": [
    "# half-MUB experiments\n",
    "n_mub_qubits = 3\n",
    "zz_coeff = random.uniform(0,1)\n",
    "x_coeff = random.uniform(0,1)\n",
    "\n",
    "print(\"THE ZERO EXPERIMENTS START\")\n",
    "for n_qubits in range(4,7):  # Three examples\n",
    "    op = gen_trans_ising_op(n_qubits, zz_coeff, x_coeff)\n",
    "    print(f\"attempting all MUB states over the operator {op}\")\n",
    "    print(\"========ZERO VERSION=========\")\n",
    "    results = calculate_energy_landscape(op, n_mub_qubits, generate_all_subsets(n_mub_qubits, n_qubits))\n",
    "    exact_result = get_exact_ground(op)\n",
    "    print(\"Energy Landscape:\")\n",
    "    display_energy_landscape(results, exact_result=exact_result)\n",
    "    print(\"Energy Histogram:\")\n",
    "    display_energy_histogram(results, exact_result=exact_result)\n",
    "    print(\"========PLUS VERSION=========\")\n",
    "    results = calculate_energy_landscape(op, n_mub_qubits, generate_all_subsets(n_mub_qubits, n_qubits), plus_for_non_mub=True)\n",
    "    exact_result = get_exact_ground(op)\n",
    "    print(\"Energy Landscape:\")\n",
    "    display_energy_landscape(results, exact_result=exact_result)\n",
    "    print(\"Energy Histogram:\")\n",
    "    display_energy_histogram(results, exact_result=exact_result)\n",
    "    print(\"==============END============\")\n"
   ]
  },
  {
   "cell_type": "markdown",
   "metadata": {},
   "source": [
    "## Combined Example with VQE"
   ]
  },
  {
   "cell_type": "code",
   "execution_count": null,
   "metadata": {},
   "outputs": [],
   "source": [
    "# generate operator\n",
    "n_qubits = 3\n",
    "n_mub_qubits = 3\n",
    "x_coeff = random.uniform(0,1)\n",
    "zz_coeff = random.uniform(0,1)\n",
    "op = gen_trans_ising_op(n_qubits, x_coeff, zz_coeff)\n",
    "exact_result = get_exact_ground(op)\n",
    "\n",
    "ansatz = TwoLocal(3, ['rx', 'ry', 'rz'], 'cx', 'linear', reps=3, insert_barriers=True).decompose()\n",
    "zeroset_anastz = ansatz.assign_parameters([0.0]*ansatz.num_parameters)\n",
    "\n",
    "# calculate landscape and graphs\n",
    "results = calculate_energy_landscape(op, n_mub_qubits, generate_all_subsets(n_mub_qubits, n_qubits), appended_ansatz=zeroset_anastz)\n",
    "exact_result = get_exact_ground(op)\n",
    "print(\"Energy Landscape:\")\n",
    "display_energy_landscape(results, exact_result=exact_result)\n",
    "print(\"Energy Histogram:\")\n",
    "display_energy_histogram(results, exact_result=exact_result)\n",
    "\n",
    "# run VQE from the best 5 examples\n",
    "params = get_standard_params(n_qubits)\n",
    "params.success_bound = 1e-2\n",
    "params.exact_result = exact_result\n",
    "params.optimizer = 'BFGS'\n",
    "params.report_period=100\n",
    "params.report_thetas=False\n",
    "for initial_state, value in find_k_best_results(results, 5):\n",
    "    print(f\"running from point with value {value}\")\n",
    "    print(run_vqe_experiment(op, ansatz, initial_state, params))\n",
    "    print(params.exact_result)"
   ]
  }
 ],
 "metadata": {
  "kernelspec": {
   "display_name": "Python 3",
   "language": "python",
   "name": "python3"
  },
  "language_info": {
   "name": "python",
   "version": "3.12.0"
  }
 },
 "nbformat": 4,
 "nbformat_minor": 2
}
