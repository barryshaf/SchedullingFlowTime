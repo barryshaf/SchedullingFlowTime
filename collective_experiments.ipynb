{
 "cells": [
  {
   "cell_type": "markdown",
   "metadata": {},
   "source": [
    "# Collective Quantum Exhaustive Search Experiments\n",
    "These are defiend by the instructions in an email from 19.5.24 from IA to DM and TM.\n",
    "These are, or are at least supposed to be, all the experiments that we want to include in the paper."
   ]
  },
  {
   "cell_type": "markdown",
   "metadata": {},
   "source": [
    "## Used external notebooks"
   ]
  },
  {
   "cell_type": "code",
   "execution_count": null,
   "metadata": {},
   "outputs": [],
   "source": [
    "from ipynb.fs.full.ansatz import get_twolocal"
   ]
  },
  {
   "cell_type": "markdown",
   "metadata": {},
   "source": [
    "### Imports"
   ]
  },
  {
   "cell_type": "code",
   "execution_count": null,
   "metadata": {},
   "outputs": [],
   "source": [
    "from qiskit.quantum_info import SparsePauliOp\n",
    "import networkx as nx\n",
    "import random\n",
    "\n",
    "from hamiltonians import gen_trans_ising_op, get_exact_ground, gen_maxcut_op, gen_maxcut_op_from_graph\n",
    "from experiment_utils import *\n",
    "from graphing import plot_VQE_evals_list\n",
    "\n",
    "random.seed(5)"
   ]
  },
  {
   "cell_type": "markdown",
   "metadata": {},
   "source": [
    "# Landscape Calculation Experiments"
   ]
  },
  {
   "cell_type": "markdown",
   "metadata": {},
   "source": [
    "## Two-qubit experiments\n",
    "These experiments are run on two hamiltonians: H2 and HeH.\n",
    "\n",
    "For these, we will present:\n",
    "-   The energy landscape sampled using all MUB states (without an appended ansatz)."
   ]
  },
  {
   "cell_type": "markdown",
   "metadata": {},
   "source": [
    "### Hamiltonian Generation"
   ]
  },
  {
   "cell_type": "code",
   "execution_count": null,
   "metadata": {},
   "outputs": [],
   "source": [
    "H2_ham_0_75 = SparsePauliOp(data= ['II', 'IZ', 'ZI', 'ZZ', 'XX'],\n",
    "coeffs= [-1.06324002+0.j,  0.38913654+0.j, -0.38913654+0.j, -0.01121274+0.j,  0.18206025+0.j])\n",
    "\n",
    "HeH_ham_1 = SparsePauliOp(data= ['II', 'IZ', 'IX', 'ZI', 'XI', 'ZZ', 'ZX', 'XZ', 'XX'],\n",
    "coeffs= [-3.04506092+0.j,  0.50258052+0.j,  0.11926278+0.j, -0.50258052+0.j, 0.11926278+0.j, -0.13894646+0.j, -0.11926145+0.j,  0.11926145+0.j,  0.11714671+0.j])\n",
    "\n",
    "molecular_hams_2q = [H2_ham_0_75, HeH_ham_1]\n",
    "molecular_descs_2q = [\"$H_2$, 0.75A, 2 qubits\", \"HeH, 1A, 2 qubits\"]"
   ]
  },
  {
   "cell_type": "markdown",
   "metadata": {},
   "source": [
    "### Calculate Landscape"
   ]
  },
  {
   "cell_type": "code",
   "execution_count": null,
   "metadata": {},
   "outputs": [],
   "source": [
    "print(\"===Calculating Molecular Landscapes===\")\n",
    "molecular_landscapes_2q = run_and_record_landscape_list(molecular_hams_2q, n_mub_qubits=2, descs=molecular_descs_2q)"
   ]
  },
  {
   "cell_type": "markdown",
   "metadata": {},
   "source": [
    "## Three-qubit experiments\n",
    "These experiments are run on two types of examples:\n",
    "-   Hamiltonian reductions of MAXCUT problem instances.\n",
    "-   Transverse-Field Ising Model Hamiltonians.\n",
    "\n",
    "Since this is landscaping-only, we will *not* use an appended ansatz here.\n",
    "\n",
    "We will do landscaping only in this part."
   ]
  },
  {
   "cell_type": "markdown",
   "metadata": {},
   "source": [
    "### Hamiltonian Generation"
   ]
  },
  {
   "cell_type": "code",
   "execution_count": null,
   "metadata": {},
   "outputs": [],
   "source": [
    "n_qubits = 3\n",
    "n_mub_qubits = 3\n",
    "edges = [(0,1), (1,2), (2,0)]\n",
    "maxcut_ham_3q = gen_maxcut_op(n_qubits, edges)\n",
    "maxcut_ground_energy = get_exact_ground(maxcut_ham_3q)\n",
    "\n",
    "zz_coeff = random.uniform(0,1)\n",
    "x_coeff = random.uniform(0,1)\n",
    "transverse_ham_3q = gen_trans_ising_op(n_qubits, zz_coeff, x_coeff)\n",
    "transverse_ground_energy = get_exact_ground(transverse_ham_3q)\n",
    "\n",
    "ansatz_3q = get_twolocal(n_qubits, n_qubits)"
   ]
  },
  {
   "cell_type": "markdown",
   "metadata": {},
   "source": [
    "### Calculate Landscape"
   ]
  },
  {
   "cell_type": "code",
   "execution_count": null,
   "metadata": {},
   "outputs": [],
   "source": [
    "\n",
    "print(\"===Calculating Maxcut Landscape===\")\n",
    "print(maxcut_ham_3q)\n",
    "maxcut_landscape_3q = run_and_record_landscape(maxcut_ham_3q, n_mub_qubits=3, desc=\"MAX-CUT Hamiltonian, 3 qubits\")\n",
    "print(\"===Calculating Transverse Ising Landscape===\")\n",
    "print(transverse_ham_3q)\n",
    "transverse_landscape_3q = run_and_record_landscape(transverse_ham_3q, n_mub_qubits=3, desc=\"Transverse Ising Hamiltonian, 3 qubits\")\n"
   ]
  },
  {
   "cell_type": "markdown",
   "metadata": {},
   "source": [
    "## 4 qubit experiments\n",
    "These experiments are run on two types of examples:\n",
    "-   Hamiltonian reduction of a MAXCUT problem instance.\n",
    "-   Transverse-Field Ising Model Hamiltonian.\n",
    "-   A 4-qubit Molecular Hamiltonian.\n",
    "\n",
    "For these, we will present:\n",
    "-   The energy landscape sampled using all partial-MUB states, with an appended ansatz."
   ]
  },
  {
   "cell_type": "markdown",
   "metadata": {},
   "source": [
    "### Hamiltonian Generation"
   ]
  },
  {
   "cell_type": "code",
   "execution_count": null,
   "metadata": {},
   "outputs": [],
   "source": [
    "# half-MUB experiments\n",
    "n_mub_qubits = 3\n",
    "n_qubits = 4\n",
    "\n",
    "LiH_ham_1_5 = SparsePauliOp(\n",
    "    data= ['IIII', 'IIIZ', 'IIZX', 'IIIX', 'IIXX', 'IIYY', 'IIZZ', 'IIXZ', 'IIXI', 'IIZI', 'IZII', 'ZXII', 'IXII', 'XXII', 'YYII',\n",
    "    'ZZII', 'XZII', 'XIII', 'ZIII', 'IZIZ', 'IZZX', 'IZIX', 'IZXX', 'IZYY', 'ZXIZ', 'IXIZ', 'ZXZX', 'IXZX', 'ZXIX', 'IXIX', 'ZXXX',\n",
    "    'IXXX', 'ZXYY', 'IXYY', 'XXIZ', 'YYIZ', 'XXZX', 'YYZX', 'XXIX', 'YYIX', 'XXXX', 'YYXX', 'XXYY', 'YYYY', 'ZZIZ', 'ZZZX', 'ZZIX',\n",
    "    'ZZXX', 'ZZYY', 'XZIZ', 'XIIZ', 'XZZX', 'XIZX', 'XZIX', 'XIIX', 'XZXX', 'XIXX', 'XZYY', 'XIYY', 'ZIIZ', 'ZIZX', 'ZIIX', 'ZIXX',\n",
    "    'ZIYY', 'IZZZ', 'IZXZ', 'IZXI', 'ZXZZ', 'IXZZ', 'ZXXZ', 'IXXZ', 'ZXXI', 'IXXI', 'XXZZ', 'YYZZ', 'XXXZ', 'YYXZ', 'XXXI', 'YYXI',\n",
    "    'ZZZZ', 'ZZXZ', 'ZZXI', 'XZZZ', 'XIZZ', 'XZXZ', 'XIXZ', 'XZXI', 'XIXI', 'ZIZZ', 'ZIXZ', 'ZIXI', 'IZZI', 'ZXZI', 'IXZI', 'XXZI',\n",
    "    'YYZI', 'ZZZI', 'XZZI', 'XIZI', 'ZIZI'], \n",
    "coeffs = [-1.99754128e-01+0.j, -9.17966069e-02+0.j, -2.73410751e-03+0.j,\n",
    "        2.73410751e-03+0.j, -3.09895035e-04+0.j,  3.09895035e-04+0.j,  -2.11959340e-01+0.j,  1.95776538e-02+0.j,  1.95776538e-02+0.j,\n",
    "        3.71356404e-01+0.j,  9.17966069e-02+0.j,  2.73410751e-03+0.j, 2.73410751e-03+0.j, -3.09895035e-04+0.j,  3.09895035e-04+0.j,\n",
    "       -2.11959340e-01+0.j, -1.95776538e-02+0.j,  1.95776538e-02+0.j, -3.71356404e-01+0.j, -1.23570872e-01+0.j,  1.17336239e-02+0.j,\n",
    "       -1.17336239e-02+0.j,  3.30587286e-02+0.j, -3.30587286e-02+0.j, 1.17336239e-02+0.j,  1.17336239e-02+0.j, -3.03465683e-03+0.j,\n",
    "       -3.03465683e-03+0.j,  3.03465683e-03+0.j,  3.03465683e-03+0.j, -8.37336142e-03+0.j, -8.37336142e-03+0.j,  8.37336142e-03+0.j,\n",
    "        8.37336142e-03+0.j, -3.30587286e-02+0.j,  3.30587286e-02+0.j, 8.37336142e-03+0.j, -8.37336142e-03+0.j, -8.37336142e-03+0.j,\n",
    "        8.37336142e-03+0.j,  3.07383272e-02+0.j, -3.07383272e-02+0.j, -3.07383272e-02+0.j,  3.07383272e-02+0.j,  5.66560676e-02+0.j,\n",
    "        1.54067009e-03+0.j, -1.54067009e-03+0.j,  2.36793690e-03+0.j, -2.36793690e-03+0.j, -1.27339140e-02+0.j,  1.27339140e-02+0.j,\n",
    "        2.11113767e-03+0.j, -2.11113767e-03+0.j, -2.11113767e-03+0.j, 2.11113767e-03+0.j,  7.76444118e-03+0.j, -7.76444118e-03+0.j,\n",
    "       -7.76444118e-03+0.j,  7.76444118e-03+0.j,  1.14339547e-01+0.j, -1.05401874e-02+0.j,  1.05401874e-02+0.j, -3.51167704e-02+0.j,\n",
    "        3.51167704e-02+0.j, -5.66560676e-02+0.j, -1.27339140e-02+0.j, -1.27339140e-02+0.j, -1.54067009e-03+0.j, -1.54067009e-03+0.j,\n",
    "        2.11113767e-03+0.j,  2.11113767e-03+0.j,  2.11113767e-03+0.j, 2.11113767e-03+0.j,  2.36793690e-03+0.j, -2.36793690e-03+0.j,\n",
    "       -7.76444118e-03+0.j,  7.76444118e-03+0.j, -7.76444118e-03+0.j, 7.76444118e-03+0.j,  8.47039180e-02+0.j, -9.01204279e-03+0.j,\n",
    "       -9.01204279e-03+0.j,  9.01204279e-03+0.j, -9.01204279e-03+0.j, -6.57574490e-03+0.j,  6.57574490e-03+0.j, -6.57574490e-03+0.j,\n",
    "        6.57574490e-03+0.j,  6.05056057e-02+0.j,  1.08894077e-02+0.j, 1.08894077e-02+0.j,  1.14339547e-01+0.j, -1.05401874e-02+0.j,\n",
    "       -1.05401874e-02+0.j,  3.51167704e-02+0.j, -3.51167704e-02+0.j, -6.05056057e-02+0.j,  1.08894077e-02+0.j, -1.08894077e-02+0.j,\n",
    "       -1.14091635e-01+0.j]\n",
    ")\n",
    "molecular_ground_energy = get_exact_ground(LiH_ham_1_5)\n",
    "\n",
    "# Transverse Ising Hamiltonian\n",
    "zz_coeff = random.uniform(0,1)\n",
    "x_coeffs = random.uniform(0,1)\n",
    "transverse_ham_4q = gen_trans_ising_op(n_qubits, zz_coeff, x_coeff)\n",
    "transverse_ground_energy_4q = get_exact_ground(transverse_ham_4q)\n",
    "\n",
    "\n",
    "# MAXCUT Hamiltonian\n",
    "rand_graph_4 = nx.gnm_random_graph(4, 5)\n",
    "maxcut_ham_4q = gen_maxcut_op_from_graph(rand_graph_4)\n",
    "maxcut_ground_energy_4q = get_exact_ground(maxcut_ham_4q)\n",
    "\n",
    "ansatz_4q = get_twolocal(n_qubits, n_qubits)\n"
   ]
  },
  {
   "cell_type": "markdown",
   "metadata": {},
   "source": [
    "### Calculate Landscape"
   ]
  },
  {
   "cell_type": "code",
   "execution_count": null,
   "metadata": {},
   "outputs": [],
   "source": [
    "print(\"===Calculating Molecular Landscape===\")\n",
    "LiH_landscape_4q = run_and_record_landscape(LiH_ham_1_5, n_mub_qubits, desc=\"LiH, 1.5A, 4 qubits\")\n",
    "\n",
    "print(\"===Calculating Transverse Landscape===\")\n",
    "transverse_landscape_4q = run_and_record_landscape(transverse_ham_4q, n_mub_qubits, desc=\"Transverse Ising Hamiltonian, 4 qubits\")\n",
    "\n",
    "print(\"===Calculating Maxcut Landscape===\")\n",
    "maxcut_landscape_4q = run_and_record_landscape(maxcut_ham_4q, n_mub_qubits, desc=\"MAX-CUT Hamiltonian, 4 qubits\")"
   ]
  },
  {
   "cell_type": "markdown",
   "metadata": {},
   "source": [
    "## 8 qubit experiments\n",
    "These experiments are run on two types of examples:\n",
    "-   Hamiltonian reduction of a MAXCUT problem instance.\n",
    "-   Transverse-Field Ising Model Hamiltonian.\n",
    "-   An 8-qubit Molecular Hamiltonian.\n",
    "\n",
    "For these, we will present:\n",
    "-   The energy landscape sampled using all partial-MUB states, with no appended ansatz."
   ]
  },
  {
   "cell_type": "markdown",
   "metadata": {},
   "source": [
    "### Hamiltonian Generation"
   ]
  },
  {
   "cell_type": "code",
   "execution_count": null,
   "metadata": {},
   "outputs": [],
   "source": [
    "# half-MUB experiments\n",
    "n_mub_qubits = 3\n",
    "n_qubits = 8\n",
    "\n",
    "#TODO: get the correct Hamiltonian from Dekel.\n",
    "LiH_ham_1_5_8q = SparsePauliOp(\n",
    "    data= ['IIII', 'IIIZ', 'IIZX', 'IIIX', 'IIXX', 'IIYY', 'IIZZ', 'IIXZ', 'IIXI', 'IIZI', 'IZII', 'ZXII', 'IXII', 'XXII', 'YYII',\n",
    "    'ZZII', 'XZII', 'XIII', 'ZIII', 'IZIZ', 'IZZX', 'IZIX', 'IZXX', 'IZYY', 'ZXIZ', 'IXIZ', 'ZXZX', 'IXZX', 'ZXIX', 'IXIX', 'ZXXX',\n",
    "    'IXXX', 'ZXYY', 'IXYY', 'XXIZ', 'YYIZ', 'XXZX', 'YYZX', 'XXIX', 'YYIX', 'XXXX', 'YYXX', 'XXYY', 'YYYY', 'ZZIZ', 'ZZZX', 'ZZIX',\n",
    "    'ZZXX', 'ZZYY', 'XZIZ', 'XIIZ', 'XZZX', 'XIZX', 'XZIX', 'XIIX', 'XZXX', 'XIXX', 'XZYY', 'XIYY', 'ZIIZ', 'ZIZX', 'ZIIX', 'ZIXX',\n",
    "    'ZIYY', 'IZZZ', 'IZXZ', 'IZXI', 'ZXZZ', 'IXZZ', 'ZXXZ', 'IXXZ', 'ZXXI', 'IXXI', 'XXZZ', 'YYZZ', 'XXXZ', 'YYXZ', 'XXXI', 'YYXI',\n",
    "    'ZZZZ', 'ZZXZ', 'ZZXI', 'XZZZ', 'XIZZ', 'XZXZ', 'XIXZ', 'XZXI', 'XIXI', 'ZIZZ', 'ZIXZ', 'ZIXI', 'IZZI', 'ZXZI', 'IXZI', 'XXZI',\n",
    "    'YYZI', 'ZZZI', 'XZZI', 'XIZI', 'ZIZI'], \n",
    "coeffs = [-1.99754128e-01+0.j, -9.17966069e-02+0.j, -2.73410751e-03+0.j,\n",
    "        2.73410751e-03+0.j, -3.09895035e-04+0.j,  3.09895035e-04+0.j,  -2.11959340e-01+0.j,  1.95776538e-02+0.j,  1.95776538e-02+0.j,\n",
    "        3.71356404e-01+0.j,  9.17966069e-02+0.j,  2.73410751e-03+0.j, 2.73410751e-03+0.j, -3.09895035e-04+0.j,  3.09895035e-04+0.j,\n",
    "       -2.11959340e-01+0.j, -1.95776538e-02+0.j,  1.95776538e-02+0.j, -3.71356404e-01+0.j, -1.23570872e-01+0.j,  1.17336239e-02+0.j,\n",
    "       -1.17336239e-02+0.j,  3.30587286e-02+0.j, -3.30587286e-02+0.j, 1.17336239e-02+0.j,  1.17336239e-02+0.j, -3.03465683e-03+0.j,\n",
    "       -3.03465683e-03+0.j,  3.03465683e-03+0.j,  3.03465683e-03+0.j, -8.37336142e-03+0.j, -8.37336142e-03+0.j,  8.37336142e-03+0.j,\n",
    "        8.37336142e-03+0.j, -3.30587286e-02+0.j,  3.30587286e-02+0.j, 8.37336142e-03+0.j, -8.37336142e-03+0.j, -8.37336142e-03+0.j,\n",
    "        8.37336142e-03+0.j,  3.07383272e-02+0.j, -3.07383272e-02+0.j, -3.07383272e-02+0.j,  3.07383272e-02+0.j,  5.66560676e-02+0.j,\n",
    "        1.54067009e-03+0.j, -1.54067009e-03+0.j,  2.36793690e-03+0.j, -2.36793690e-03+0.j, -1.27339140e-02+0.j,  1.27339140e-02+0.j,\n",
    "        2.11113767e-03+0.j, -2.11113767e-03+0.j, -2.11113767e-03+0.j, 2.11113767e-03+0.j,  7.76444118e-03+0.j, -7.76444118e-03+0.j,\n",
    "       -7.76444118e-03+0.j,  7.76444118e-03+0.j,  1.14339547e-01+0.j, -1.05401874e-02+0.j,  1.05401874e-02+0.j, -3.51167704e-02+0.j,\n",
    "        3.51167704e-02+0.j, -5.66560676e-02+0.j, -1.27339140e-02+0.j, -1.27339140e-02+0.j, -1.54067009e-03+0.j, -1.54067009e-03+0.j,\n",
    "        2.11113767e-03+0.j,  2.11113767e-03+0.j,  2.11113767e-03+0.j, 2.11113767e-03+0.j,  2.36793690e-03+0.j, -2.36793690e-03+0.j,\n",
    "       -7.76444118e-03+0.j,  7.76444118e-03+0.j, -7.76444118e-03+0.j, 7.76444118e-03+0.j,  8.47039180e-02+0.j, -9.01204279e-03+0.j,\n",
    "       -9.01204279e-03+0.j,  9.01204279e-03+0.j, -9.01204279e-03+0.j, -6.57574490e-03+0.j,  6.57574490e-03+0.j, -6.57574490e-03+0.j,\n",
    "        6.57574490e-03+0.j,  6.05056057e-02+0.j,  1.08894077e-02+0.j, 1.08894077e-02+0.j,  1.14339547e-01+0.j, -1.05401874e-02+0.j,\n",
    "       -1.05401874e-02+0.j,  3.51167704e-02+0.j, -3.51167704e-02+0.j, -6.05056057e-02+0.j,  1.08894077e-02+0.j, -1.08894077e-02+0.j,\n",
    "       -1.14091635e-01+0.j]\n",
    ")\n",
    "molecular_ground_energy_8q = get_exact_ground(LiH_ham_1_5)\n",
    "\n",
    "# Transverse Ising Hamiltonian\n",
    "zz_coeff = random.uniform(0,1)\n",
    "x_coeffs = random.uniform(0,1)\n",
    "transverse_ham_8q = gen_trans_ising_op(n_qubits, zz_coeff, x_coeff)\n",
    "transverse_ground_energy_8q = get_exact_ground(transverse_ham_8q)\n",
    "\n",
    "\n",
    "# MAXCUT Hamiltonian\n",
    "edges = [(0,4), (1,5), (2,6), (3,7), (0,7), (2,4)]\n",
    "maxcut_ham_8q = gen_maxcut_op(n_qubits, edges)\n",
    "maxcut_ground_energy_8q = get_exact_ground(maxcut_ham_8q)\n",
    "\n",
    "ansatz_8q = get_twolocal(n_qubits, n_qubits)\n"
   ]
  },
  {
   "cell_type": "markdown",
   "metadata": {},
   "source": [
    "### Calculate Landscape"
   ]
  },
  {
   "cell_type": "code",
   "execution_count": null,
   "metadata": {},
   "outputs": [],
   "source": [
    "print(\"===Calculating Molecular Landscape===\")\n",
    "LiH_landscape_8q = run_and_record_landscape(LiH_ham_1_5, n_mub_qubits, desc=\"LiH, 1.5A, 8 qubits\")\n",
    "\n",
    "print(\"===Calculating Transverse Landscape===\")\n",
    "transverse_landscape_8q = run_and_record_landscape(transverse_ham_8q, n_mub_qubits, desc=\"Transverse Ising Hamiltonian, 8 qubits\")\n",
    "\n",
    "print(\"===Calculating Maxcut Landscape===\")\n",
    "maxcut_landscape_8q = run_and_record_landscape(maxcut_ham_8q, n_mub_qubits, desc=\"MAX-CUT Hamiltonian, 8 qubits\")"
   ]
  },
  {
   "cell_type": "markdown",
   "metadata": {},
   "source": [
    "# VQE Execution\n",
    "\n",
    "For each of the Hamiltonians we want to check, we define 3 graphs:\n",
    "-   show the VQE evolution from the best $m$ MUB landscape points.\n",
    "-   show the VQE evolution from the best $k$ and worst $k$ MUB landscape points.\n",
    "-   show the VQE evolution from the best $k$ MUB landscape points and best $k$ random theta vector samples. (theta vector pool the same size as landscaping pool size)"
   ]
  },
  {
   "cell_type": "markdown",
   "metadata": {},
   "source": [
    "### 2 qubits: Molecular Example"
   ]
  },
  {
   "cell_type": "code",
   "execution_count": null,
   "metadata": {},
   "outputs": [],
   "source": [
    "ham = molecular_hams_2q[0]\n",
    "landscape = molecular_landscapes_2q[0]\n",
    "best_vs_worst_runs = run_and_display_vqe_best_and_worst_expressive_2q(landscape, k=3)\n",
    "best_vs_random_runs = run_and_display_vqe_best_and_worst_expressive_2q(landscape, k=3)\n"
   ]
  },
  {
   "cell_type": "markdown",
   "metadata": {},
   "source": [
    "### 3 Qubits: Transverse Ising Example"
   ]
  },
  {
   "cell_type": "code",
   "execution_count": null,
   "metadata": {},
   "outputs": [],
   "source": [
    "ham = transverse_ham_3q\n",
    "landscape = transverse_landscape_3q\n",
    "ansatz = ansatz_3q\n",
    "best_vs_worst_runs = run_and_display_vqe_best_and_worst_shifted(landscape, ansatz, k=2)\n",
    "best_vs_random_runs = run_and_display_vqe_best_vs_random_shifted(landscape, ansatz, k=2)\n"
   ]
  },
  {
   "cell_type": "markdown",
   "metadata": {},
   "source": [
    "### 4 Qubits: Molecular Example"
   ]
  },
  {
   "cell_type": "code",
   "execution_count": null,
   "metadata": {},
   "outputs": [],
   "source": [
    "ham = LiH_ham_1_5\n",
    "landscape = LiH_landscape_4q\n",
    "ansatz = ansatz_4q\n",
    "best_vs_worst_runs = run_and_display_vqe_best_and_worst_shifted(landscape, ansatz, k=2)\n",
    "best_vs_random_runs = run_and_display_vqe_best_vs_random_shifted(landscape, ansatz, k=2)\n"
   ]
  },
  {
   "cell_type": "markdown",
   "metadata": {},
   "source": [
    "### 8 Qubits: MAXCUT Example"
   ]
  },
  {
   "cell_type": "code",
   "execution_count": null,
   "metadata": {},
   "outputs": [],
   "source": [
    "ham = maxcut_ham_8q\n",
    "landscape = maxcut_landscape_8q\n",
    "ansatz = ansatz_8q\n",
    "best_vs_worst_runs = run_and_display_vqe_best_and_worst_shifted(landscape, ansatz, k=2)\n",
    "best_vs_random_runs = run_and_display_vqe_best_vs_random_shifted(landscape, ansatz, k=2)\n"
   ]
  }
 ],
 "metadata": {
  "kernelspec": {
   "display_name": "Python 3",
   "language": "python",
   "name": "python3"
  },
  "language_info": {
   "codemirror_mode": {
    "name": "ipython",
    "version": 3
   },
   "file_extension": ".py",
   "mimetype": "text/x-python",
   "name": "python",
   "nbconvert_exporter": "python",
   "pygments_lexer": "ipython3",
   "version": "3.12.3"
  }
 },
 "nbformat": 4,
 "nbformat_minor": 2
}
